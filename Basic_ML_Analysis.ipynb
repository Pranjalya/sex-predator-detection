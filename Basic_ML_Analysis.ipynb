{
  "nbformat": 4,
  "nbformat_minor": 0,
  "metadata": {
    "colab": {
      "name": "Basic_ML_Analysis.ipynb",
      "provenance": [],
      "collapsed_sections": [],
      "toc_visible": true,
      "mount_file_id": "1j_JGcgVOUsVst3MiusVTcNd-TyXCj0w_",
      "authorship_tag": "ABX9TyNYSLsK8hgh4Lr88SCBSicF",
      "include_colab_link": true
    },
    "kernelspec": {
      "name": "python3",
      "display_name": "Python 3"
    },
    "accelerator": "TPU"
  },
  "cells": [
    {
      "cell_type": "markdown",
      "metadata": {
        "id": "view-in-github",
        "colab_type": "text"
      },
      "source": [
        "<a href=\"https://colab.research.google.com/github/Pranjalya/sex-predator-detection/blob/master/Basic_ML_Analysis.ipynb\" target=\"_parent\"><img src=\"https://colab.research.google.com/assets/colab-badge.svg\" alt=\"Open In Colab\"/></a>"
      ]
    },
    {
      "cell_type": "code",
      "metadata": {
        "id": "ajmVun_7G-qs",
        "colab_type": "code",
        "colab": {
          "base_uri": "https://localhost:8080/",
          "height": 34
        },
        "outputId": "a3c78b22-8ab4-4a06-df51-bc70f3794420"
      },
      "source": [
        "cd /content/drive/My\\ Drive/sih_project"
      ],
      "execution_count": null,
      "outputs": [
        {
          "output_type": "stream",
          "text": [
            "/content/drive/My Drive/sih_project\n"
          ],
          "name": "stdout"
        }
      ]
    },
    {
      "cell_type": "code",
      "metadata": {
        "id": "5b19XEkNHZlb",
        "colab_type": "code",
        "colab": {
          "base_uri": "https://localhost:8080/",
          "height": 52
        },
        "outputId": "9bc86863-57d4-47d1-8edd-004e83597b5c"
      },
      "source": [
        "ls"
      ],
      "execution_count": null,
      "outputs": [
        {
          "output_type": "stream",
          "text": [
            "\u001b[0m\u001b[01;34mcatboost_info\u001b[0m/  \u001b[01;34mdata\u001b[0m/             more_cleaned.csv  stopwords.txt\n",
            "cleaned.csv     \u001b[01;34mextracted_files\u001b[0m/  \u001b[01;34mpkg_data\u001b[0m/         train_inclusive.csv\n"
          ],
          "name": "stdout"
        }
      ]
    },
    {
      "cell_type": "markdown",
      "metadata": {
        "id": "bp725StnjlwL",
        "colab_type": "text"
      },
      "source": [
        "## Training and Testing"
      ]
    },
    {
      "cell_type": "code",
      "metadata": {
        "id": "I9uqZOnwjO8_",
        "colab_type": "code",
        "colab": {}
      },
      "source": [
        "import pandas as pd\n",
        "import numpy as np\n",
        "from sklearn.model_selection import train_test_split\n",
        "from sklearn.feature_extraction.text import TfidfVectorizer"
      ],
      "execution_count": null,
      "outputs": []
    },
    {
      "cell_type": "code",
      "metadata": {
        "id": "LYJ73vX1wpt5",
        "colab_type": "code",
        "colab": {
          "base_uri": "https://localhost:8080/",
          "height": 260
        },
        "outputId": "8d62c295-d1ee-40fa-baaf-546a440e09f4"
      },
      "source": [
        "train  = pd.read_csv('more_cleaned.csv')\n",
        "train.info()"
      ],
      "execution_count": null,
      "outputs": [
        {
          "output_type": "stream",
          "text": [
            "<class 'pandas.core.frame.DataFrame'>\n",
            "RangeIndex: 900628 entries, 0 to 900627\n",
            "Data columns (total 7 columns):\n",
            " #   Column                 Non-Null Count   Dtype \n",
            "---  ------                 --------------   ----- \n",
            " 0   @id                    900628 non-null  object\n",
            " 1   @line                  900628 non-null  int64 \n",
            " 2   author                 900628 non-null  object\n",
            " 3   time                   900628 non-null  object\n",
            " 4   text                   774593 non-null  object\n",
            " 5   sexual_predator        900628 non-null  int64 \n",
            " 6   predator_conversation  900628 non-null  int64 \n",
            "dtypes: int64(3), object(4)\n",
            "memory usage: 48.1+ MB\n"
          ],
          "name": "stdout"
        }
      ]
    },
    {
      "cell_type": "code",
      "metadata": {
        "id": "o9A95eSXIaZ2",
        "colab_type": "code",
        "colab": {
          "base_uri": "https://localhost:8080/",
          "height": 260
        },
        "outputId": "65bad1e2-ece4-4084-cd9e-7c2b80fe61a2"
      },
      "source": [
        "train.dropna(subset = ['text'], inplace = True)\n",
        "train.index = range(0, train.shape[0])\n",
        "train.info()"
      ],
      "execution_count": null,
      "outputs": [
        {
          "output_type": "stream",
          "text": [
            "<class 'pandas.core.frame.DataFrame'>\n",
            "RangeIndex: 774593 entries, 0 to 774592\n",
            "Data columns (total 7 columns):\n",
            " #   Column                 Non-Null Count   Dtype \n",
            "---  ------                 --------------   ----- \n",
            " 0   @id                    774593 non-null  object\n",
            " 1   @line                  774593 non-null  int64 \n",
            " 2   author                 774593 non-null  object\n",
            " 3   time                   774593 non-null  object\n",
            " 4   text                   774593 non-null  object\n",
            " 5   sexual_predator        774593 non-null  int64 \n",
            " 6   predator_conversation  774593 non-null  int64 \n",
            "dtypes: int64(3), object(4)\n",
            "memory usage: 41.4+ MB\n"
          ],
          "name": "stdout"
        }
      ]
    },
    {
      "cell_type": "code",
      "metadata": {
        "id": "knNtcKplpinK",
        "colab_type": "code",
        "colab": {}
      },
      "source": [
        "X_train, X_test, y_train, y_test = train_test_split(np.array(train['text'].apply(lambda x: np.str_(x))), \n",
        "                                                    np.array(train['sexual_predator']), stratify = np.array(train['sexual_predator']),\n",
        "                                                    test_size=0.20, random_state=62)"
      ],
      "execution_count": null,
      "outputs": []
    },
    {
      "cell_type": "code",
      "metadata": {
        "id": "fTkBPARKrHDI",
        "colab_type": "code",
        "colab": {
          "base_uri": "https://localhost:8080/",
          "height": 52
        },
        "outputId": "b78af0f4-ff4a-4b6f-867b-e56ed4d80e6d"
      },
      "source": [
        "freq, freq2 = np.unique(y_train, return_counts = True)[1]\n",
        "freq3, freq4 = np.unique(y_test, return_counts = True)[1]\n",
        "print(f'Frequency in Training set :- Normal users : {((freq/(freq+freq2))*100):.2f}% ; Sexual predators : {((freq2/(freq+freq2))*100):.2f}%')\n",
        "print(f'Frequency in Testing set :- Normal users : {((freq3/(freq3+freq4))*100):.2f}% ; Sexual predators : {((freq4/(freq3+freq4))*100):.2f}%')"
      ],
      "execution_count": null,
      "outputs": [
        {
          "output_type": "stream",
          "text": [
            "Frequency in Training set :- Normal users : 95.61% ; Sexual predators : 4.39%\n",
            "Frequency in Testing set :- Normal users : 95.61% ; Sexual predators : 4.39%\n"
          ],
          "name": "stdout"
        }
      ]
    },
    {
      "cell_type": "code",
      "metadata": {
        "id": "5bvujiuirH_g",
        "colab_type": "code",
        "colab": {
          "base_uri": "https://localhost:8080/",
          "height": 52
        },
        "outputId": "0221c109-e1cd-4ba6-8c22-dc96b7fe75d7"
      },
      "source": [
        "tfidf = TfidfVectorizer(min_df = 0., max_df = 1., norm = 'l2', use_idf = True, smooth_idf = True)\n",
        "\n",
        "train_tfidf = tfidf.fit_transform(X_train)\n",
        "test_tfidf = tfidf.transform(X_test)\n",
        "\n",
        "print(train_tfidf.shape)\n",
        "print(test_tfidf.shape)"
      ],
      "execution_count": null,
      "outputs": [
        {
          "output_type": "stream",
          "text": [
            "(619674, 114159)\n",
            "(154919, 114159)\n"
          ],
          "name": "stdout"
        }
      ]
    },
    {
      "cell_type": "markdown",
      "metadata": {
        "id": "FR-PY-Yhrr2U",
        "colab_type": "text"
      },
      "source": [
        "## Models"
      ]
    },
    {
      "cell_type": "code",
      "metadata": {
        "id": "AgfmsO-yJsAt",
        "colab_type": "code",
        "colab": {}
      },
      "source": [
        "!pip -q install catboost"
      ],
      "execution_count": null,
      "outputs": []
    },
    {
      "cell_type": "code",
      "metadata": {
        "id": "msr8-SQLrtoQ",
        "colab_type": "code",
        "colab": {}
      },
      "source": [
        "from sklearn.metrics import accuracy_score, log_loss\n",
        "from sklearn.neighbors import KNeighborsClassifier\n",
        "from sklearn.svm import SVC, LinearSVC, NuSVC\n",
        "from sklearn.tree import DecisionTreeClassifier\n",
        "from sklearn.ensemble import RandomForestClassifier, AdaBoostClassifier, GradientBoostingClassifier\n",
        "from sklearn.naive_bayes import GaussianNB\n",
        "from sklearn.discriminant_analysis import LinearDiscriminantAnalysis\n",
        "from sklearn.discriminant_analysis import QuadraticDiscriminantAnalysis\n",
        "from sklearn.linear_model import LogisticRegression\n",
        "from sklearn.metrics import classification_report\n",
        "from catboost import CatBoostClassifier"
      ],
      "execution_count": null,
      "outputs": []
    },
    {
      "cell_type": "code",
      "metadata": {
        "id": "qQKznFQOsIO8",
        "colab_type": "code",
        "colab": {
          "base_uri": "https://localhost:8080/",
          "height": 72
        },
        "outputId": "3f24cf06-2dfb-4f05-b5b2-fa93bc0c7112"
      },
      "source": [
        "import seaborn as sns\n",
        "import matplotlib.pyplot as plt\n",
        "from tqdm import tqdm\n",
        "\n",
        "def warn(*args, **kwargs): pass\n",
        "import warnings\n",
        "warnings.warn = warn"
      ],
      "execution_count": null,
      "outputs": [
        {
          "output_type": "stream",
          "text": [
            "/usr/local/lib/python3.6/dist-packages/statsmodels/tools/_testing.py:19: FutureWarning: pandas.util.testing is deprecated. Use the functions in the public API at pandas.testing instead.\n",
            "  import pandas.util.testing as tm\n"
          ],
          "name": "stderr"
        }
      ]
    },
    {
      "cell_type": "code",
      "metadata": {
        "id": "Zl01s9PVsfZ0",
        "colab_type": "code",
        "colab": {}
      },
      "source": [
        "classifiers = [\n",
        "    CatBoostClassifier(iterations=50, random_seed=42, learning_rate=0.5, custom_loss=['AUC', 'Accuracy']),\n",
        "    DecisionTreeClassifier(),\n",
        "    SVC(kernel=\"rbf\", C=0.025, probability=True),\n",
        "    NuSVC(),\n",
        "    RandomForestClassifier(),\n",
        "    AdaBoostClassifier(),\n",
        "    GradientBoostingClassifier(),\n",
        "    GaussianNB(),\n",
        "    LinearDiscriminantAnalysis(),\n",
        "    QuadraticDiscriminantAnalysis(),\n",
        "    KNeighborsClassifier(4, n_jobs=-1)]"
      ],
      "execution_count": null,
      "outputs": []
    },
    {
      "cell_type": "code",
      "metadata": {
        "id": "Y_m-Zl3mss3J",
        "colab_type": "code",
        "colab": {
          "base_uri": "https://localhost:8080/",
          "height": 1000
        },
        "outputId": "a4c237f3-6861-4556-a923-989eabfe75f7"
      },
      "source": [
        "log_cols=[\"Classifier\", \"Accuracy\", \"Log Loss\"]\n",
        "log = pd.DataFrame(columns=log_cols)\n",
        "\n",
        "for clf in classifiers:\n",
        "    clf.fit(train_tfidf, y_train)\n",
        "    name = clf.__class__.__name__\n",
        "    \n",
        "    print(\"=\"*33)\n",
        "    print(name)\n",
        "    \n",
        "    print('*****Results*****')\n",
        "    train_predictions = clf.predict(test_tfidf)\n",
        "    acc = accuracy_score(y_test, train_predictions)\n",
        "    print(\"Accuracy: {:.4%}\".format(acc))\n",
        "    \n",
        "    predictions = clf.predict_proba(test_tfidf)\n",
        "    ll = log_loss(y_test, predictions)\n",
        "    print(\"Log Loss: {}\".format(ll))\n",
        "\n",
        "    print(classification_report(y_test, train_predictions))\n",
        "    \n",
        "    log_entry = pd.DataFrame([[name, acc*100, ll]], columns=log_cols)\n",
        "    log = log.append(log_entry)\n",
        "    print(\"-\"*33)\n",
        "    \n",
        "print(\"=\"*33)\n",
        "log.to_csv('initial_res.csv')"
      ],
      "execution_count": null,
      "outputs": [
        {
          "output_type": "stream",
          "text": [
            "0:\tlearn: 0.2615088\ttotal: 1.25s\tremaining: 1m 19s\n",
            "1:\tlearn: 0.1934336\ttotal: 2.48s\tremaining: 1m 18s\n",
            "2:\tlearn: 0.1785445\ttotal: 3.73s\tremaining: 1m 17s\n",
            "3:\tlearn: 0.1744049\ttotal: 5.01s\tremaining: 1m 16s\n",
            "4:\tlearn: 0.1726090\ttotal: 6.27s\tremaining: 1m 15s\n",
            "5:\tlearn: 0.1704807\ttotal: 7.55s\tremaining: 1m 14s\n",
            "6:\tlearn: 0.1694868\ttotal: 8.83s\tremaining: 1m 13s\n",
            "7:\tlearn: 0.1681487\ttotal: 10.1s\tremaining: 1m 12s\n",
            "8:\tlearn: 0.1673608\ttotal: 11.4s\tremaining: 1m 10s\n",
            "9:\tlearn: 0.1664987\ttotal: 12.6s\tremaining: 1m 9s\n",
            "10:\tlearn: 0.1657876\ttotal: 13.9s\tremaining: 1m 8s\n",
            "11:\tlearn: 0.1654013\ttotal: 15.2s\tremaining: 1m 7s\n",
            "12:\tlearn: 0.1649816\ttotal: 16.5s\tremaining: 1m 5s\n",
            "13:\tlearn: 0.1645100\ttotal: 17.7s\tremaining: 1m 4s\n",
            "14:\tlearn: 0.1640786\ttotal: 18.9s\tremaining: 1m 3s\n",
            "15:\tlearn: 0.1637435\ttotal: 20.2s\tremaining: 1m 1s\n",
            "16:\tlearn: 0.1632786\ttotal: 21.5s\tremaining: 1m\n",
            "17:\tlearn: 0.1629127\ttotal: 22.7s\tremaining: 59.3s\n",
            "18:\tlearn: 0.1625037\ttotal: 24s\tremaining: 58s\n",
            "19:\tlearn: 0.1621391\ttotal: 25.2s\tremaining: 56.8s\n",
            "20:\tlearn: 0.1618723\ttotal: 26.5s\tremaining: 55.5s\n",
            "21:\tlearn: 0.1615839\ttotal: 27.8s\tremaining: 54.2s\n",
            "22:\tlearn: 0.1611923\ttotal: 29s\tremaining: 52.9s\n",
            "23:\tlearn: 0.1608771\ttotal: 30.2s\tremaining: 51.6s\n",
            "24:\tlearn: 0.1605660\ttotal: 31.5s\tremaining: 50.3s\n",
            "25:\tlearn: 0.1602418\ttotal: 32.7s\tremaining: 49.1s\n",
            "26:\tlearn: 0.1596280\ttotal: 34s\tremaining: 47.8s\n",
            "27:\tlearn: 0.1593644\ttotal: 35.2s\tremaining: 46.6s\n",
            "28:\tlearn: 0.1590406\ttotal: 36.5s\tremaining: 45.3s\n",
            "29:\tlearn: 0.1587713\ttotal: 37.7s\tremaining: 44s\n",
            "30:\tlearn: 0.1585098\ttotal: 39s\tremaining: 42.8s\n",
            "31:\tlearn: 0.1581250\ttotal: 40.3s\tremaining: 41.5s\n",
            "32:\tlearn: 0.1579139\ttotal: 41.5s\tremaining: 40.3s\n",
            "33:\tlearn: 0.1576926\ttotal: 42.8s\tremaining: 39s\n",
            "34:\tlearn: 0.1574750\ttotal: 44s\tremaining: 37.7s\n",
            "35:\tlearn: 0.1572083\ttotal: 45.3s\tremaining: 36.5s\n",
            "36:\tlearn: 0.1570514\ttotal: 46.5s\tremaining: 35.2s\n",
            "37:\tlearn: 0.1567778\ttotal: 47.7s\tremaining: 33.9s\n",
            "38:\tlearn: 0.1565486\ttotal: 49s\tremaining: 32.6s\n",
            "39:\tlearn: 0.1563556\ttotal: 50.2s\tremaining: 31.4s\n",
            "40:\tlearn: 0.1558679\ttotal: 51.5s\tremaining: 30.1s\n",
            "41:\tlearn: 0.1557301\ttotal: 52.7s\tremaining: 28.9s\n",
            "42:\tlearn: 0.1554994\ttotal: 53.9s\tremaining: 27.6s\n",
            "43:\tlearn: 0.1553427\ttotal: 55.2s\tremaining: 26.3s\n",
            "44:\tlearn: 0.1551326\ttotal: 56.4s\tremaining: 25.1s\n",
            "45:\tlearn: 0.1550107\ttotal: 57.7s\tremaining: 23.8s\n",
            "46:\tlearn: 0.1548066\ttotal: 59s\tremaining: 22.6s\n",
            "47:\tlearn: 0.1546365\ttotal: 1m\tremaining: 21.3s\n",
            "48:\tlearn: 0.1545074\ttotal: 1m 1s\tremaining: 20.1s\n",
            "49:\tlearn: 0.1543360\ttotal: 1m 2s\tremaining: 18.8s\n",
            "50:\tlearn: 0.1541648\ttotal: 1m 3s\tremaining: 17.6s\n",
            "51:\tlearn: 0.1540224\ttotal: 1m 5s\tremaining: 16.3s\n",
            "52:\tlearn: 0.1538364\ttotal: 1m 6s\tremaining: 15.1s\n",
            "53:\tlearn: 0.1536745\ttotal: 1m 7s\tremaining: 13.8s\n",
            "54:\tlearn: 0.1535098\ttotal: 1m 9s\tremaining: 12.6s\n",
            "55:\tlearn: 0.1533940\ttotal: 1m 10s\tremaining: 11.3s\n",
            "56:\tlearn: 0.1532585\ttotal: 1m 11s\tremaining: 10s\n",
            "57:\tlearn: 0.1531070\ttotal: 1m 12s\tremaining: 8.77s\n",
            "58:\tlearn: 0.1530089\ttotal: 1m 13s\tremaining: 7.52s\n",
            "59:\tlearn: 0.1528455\ttotal: 1m 15s\tremaining: 6.27s\n",
            "60:\tlearn: 0.1526371\ttotal: 1m 16s\tremaining: 5.01s\n",
            "61:\tlearn: 0.1525278\ttotal: 1m 17s\tremaining: 3.76s\n",
            "62:\tlearn: 0.1522906\ttotal: 1m 18s\tremaining: 2.51s\n",
            "63:\tlearn: 0.1521289\ttotal: 1m 20s\tremaining: 1.25s\n",
            "64:\tlearn: 0.1520238\ttotal: 1m 21s\tremaining: 0us\n",
            "=================================\n",
            "CatBoostClassifier\n",
            "*****Results*****\n",
            "Accuracy: 95.6629%\n",
            "Log Loss: 0.15402139550670033\n",
            "              precision    recall  f1-score   support\n",
            "\n",
            "           0       0.96      1.00      0.98    148121\n",
            "           1       0.62      0.03      0.06      6798\n",
            "\n",
            "    accuracy                           0.96    154919\n",
            "   macro avg       0.79      0.51      0.52    154919\n",
            "weighted avg       0.94      0.96      0.94    154919\n",
            "\n",
            "---------------------------------\n",
            "=================================\n",
            "DecisionTreeClassifier\n",
            "*****Results*****\n",
            "Accuracy: 95.2162%\n",
            "Log Loss: 0.852811894273061\n",
            "              precision    recall  f1-score   support\n",
            "\n",
            "           0       0.96      0.99      0.98    148121\n",
            "           1       0.34      0.10      0.15      6798\n",
            "\n",
            "    accuracy                           0.95    154919\n",
            "   macro avg       0.65      0.55      0.56    154919\n",
            "weighted avg       0.93      0.95      0.94    154919\n",
            "\n",
            "---------------------------------\n"
          ],
          "name": "stdout"
        },
        {
          "output_type": "error",
          "ename": "KeyboardInterrupt",
          "evalue": "ignored",
          "traceback": [
            "\u001b[0;31m---------------------------------------------------------------------------\u001b[0m",
            "\u001b[0;31mKeyboardInterrupt\u001b[0m                         Traceback (most recent call last)",
            "\u001b[0;32m<ipython-input-17-f300bd493261>\u001b[0m in \u001b[0;36m<module>\u001b[0;34m()\u001b[0m\n\u001b[1;32m      3\u001b[0m \u001b[0;34m\u001b[0m\u001b[0m\n\u001b[1;32m      4\u001b[0m \u001b[0;32mfor\u001b[0m \u001b[0mclf\u001b[0m \u001b[0;32min\u001b[0m \u001b[0mclassifiers\u001b[0m\u001b[0;34m:\u001b[0m\u001b[0;34m\u001b[0m\u001b[0;34m\u001b[0m\u001b[0m\n\u001b[0;32m----> 5\u001b[0;31m     \u001b[0mclf\u001b[0m\u001b[0;34m.\u001b[0m\u001b[0mfit\u001b[0m\u001b[0;34m(\u001b[0m\u001b[0mtrain_tfidf\u001b[0m\u001b[0;34m,\u001b[0m \u001b[0my_train\u001b[0m\u001b[0;34m)\u001b[0m\u001b[0;34m\u001b[0m\u001b[0;34m\u001b[0m\u001b[0m\n\u001b[0m\u001b[1;32m      6\u001b[0m     \u001b[0mname\u001b[0m \u001b[0;34m=\u001b[0m \u001b[0mclf\u001b[0m\u001b[0;34m.\u001b[0m\u001b[0m__class__\u001b[0m\u001b[0;34m.\u001b[0m\u001b[0m__name__\u001b[0m\u001b[0;34m\u001b[0m\u001b[0;34m\u001b[0m\u001b[0m\n\u001b[1;32m      7\u001b[0m \u001b[0;34m\u001b[0m\u001b[0m\n",
            "\u001b[0;32m/usr/local/lib/python3.6/dist-packages/sklearn/ensemble/_forest.py\u001b[0m in \u001b[0;36mfit\u001b[0;34m(self, X, y, sample_weight)\u001b[0m\n\u001b[1;32m    381\u001b[0m                     \u001b[0mverbose\u001b[0m\u001b[0;34m=\u001b[0m\u001b[0mself\u001b[0m\u001b[0;34m.\u001b[0m\u001b[0mverbose\u001b[0m\u001b[0;34m,\u001b[0m \u001b[0mclass_weight\u001b[0m\u001b[0;34m=\u001b[0m\u001b[0mself\u001b[0m\u001b[0;34m.\u001b[0m\u001b[0mclass_weight\u001b[0m\u001b[0;34m,\u001b[0m\u001b[0;34m\u001b[0m\u001b[0;34m\u001b[0m\u001b[0m\n\u001b[1;32m    382\u001b[0m                     n_samples_bootstrap=n_samples_bootstrap)\n\u001b[0;32m--> 383\u001b[0;31m                 for i, t in enumerate(trees))\n\u001b[0m\u001b[1;32m    384\u001b[0m \u001b[0;34m\u001b[0m\u001b[0m\n\u001b[1;32m    385\u001b[0m             \u001b[0;31m# Collect newly grown trees\u001b[0m\u001b[0;34m\u001b[0m\u001b[0;34m\u001b[0m\u001b[0;34m\u001b[0m\u001b[0m\n",
            "\u001b[0;32m/usr/local/lib/python3.6/dist-packages/joblib/parallel.py\u001b[0m in \u001b[0;36m__call__\u001b[0;34m(self, iterable)\u001b[0m\n\u001b[1;32m   1027\u001b[0m             \u001b[0;31m# remaining jobs.\u001b[0m\u001b[0;34m\u001b[0m\u001b[0;34m\u001b[0m\u001b[0;34m\u001b[0m\u001b[0m\n\u001b[1;32m   1028\u001b[0m             \u001b[0mself\u001b[0m\u001b[0;34m.\u001b[0m\u001b[0m_iterating\u001b[0m \u001b[0;34m=\u001b[0m \u001b[0;32mFalse\u001b[0m\u001b[0;34m\u001b[0m\u001b[0;34m\u001b[0m\u001b[0m\n\u001b[0;32m-> 1029\u001b[0;31m             \u001b[0;32mif\u001b[0m \u001b[0mself\u001b[0m\u001b[0;34m.\u001b[0m\u001b[0mdispatch_one_batch\u001b[0m\u001b[0;34m(\u001b[0m\u001b[0miterator\u001b[0m\u001b[0;34m)\u001b[0m\u001b[0;34m:\u001b[0m\u001b[0;34m\u001b[0m\u001b[0;34m\u001b[0m\u001b[0m\n\u001b[0m\u001b[1;32m   1030\u001b[0m                 \u001b[0mself\u001b[0m\u001b[0;34m.\u001b[0m\u001b[0m_iterating\u001b[0m \u001b[0;34m=\u001b[0m \u001b[0mself\u001b[0m\u001b[0;34m.\u001b[0m\u001b[0m_original_iterator\u001b[0m \u001b[0;32mis\u001b[0m \u001b[0;32mnot\u001b[0m \u001b[0;32mNone\u001b[0m\u001b[0;34m\u001b[0m\u001b[0;34m\u001b[0m\u001b[0m\n\u001b[1;32m   1031\u001b[0m \u001b[0;34m\u001b[0m\u001b[0m\n",
            "\u001b[0;32m/usr/local/lib/python3.6/dist-packages/joblib/parallel.py\u001b[0m in \u001b[0;36mdispatch_one_batch\u001b[0;34m(self, iterator)\u001b[0m\n\u001b[1;32m    845\u001b[0m                 \u001b[0;32mreturn\u001b[0m \u001b[0;32mFalse\u001b[0m\u001b[0;34m\u001b[0m\u001b[0;34m\u001b[0m\u001b[0m\n\u001b[1;32m    846\u001b[0m             \u001b[0;32melse\u001b[0m\u001b[0;34m:\u001b[0m\u001b[0;34m\u001b[0m\u001b[0;34m\u001b[0m\u001b[0m\n\u001b[0;32m--> 847\u001b[0;31m                 \u001b[0mself\u001b[0m\u001b[0;34m.\u001b[0m\u001b[0m_dispatch\u001b[0m\u001b[0;34m(\u001b[0m\u001b[0mtasks\u001b[0m\u001b[0;34m)\u001b[0m\u001b[0;34m\u001b[0m\u001b[0;34m\u001b[0m\u001b[0m\n\u001b[0m\u001b[1;32m    848\u001b[0m                 \u001b[0;32mreturn\u001b[0m \u001b[0;32mTrue\u001b[0m\u001b[0;34m\u001b[0m\u001b[0;34m\u001b[0m\u001b[0m\n\u001b[1;32m    849\u001b[0m \u001b[0;34m\u001b[0m\u001b[0m\n",
            "\u001b[0;32m/usr/local/lib/python3.6/dist-packages/joblib/parallel.py\u001b[0m in \u001b[0;36m_dispatch\u001b[0;34m(self, batch)\u001b[0m\n\u001b[1;32m    763\u001b[0m         \u001b[0;32mwith\u001b[0m \u001b[0mself\u001b[0m\u001b[0;34m.\u001b[0m\u001b[0m_lock\u001b[0m\u001b[0;34m:\u001b[0m\u001b[0;34m\u001b[0m\u001b[0;34m\u001b[0m\u001b[0m\n\u001b[1;32m    764\u001b[0m             \u001b[0mjob_idx\u001b[0m \u001b[0;34m=\u001b[0m \u001b[0mlen\u001b[0m\u001b[0;34m(\u001b[0m\u001b[0mself\u001b[0m\u001b[0;34m.\u001b[0m\u001b[0m_jobs\u001b[0m\u001b[0;34m)\u001b[0m\u001b[0;34m\u001b[0m\u001b[0;34m\u001b[0m\u001b[0m\n\u001b[0;32m--> 765\u001b[0;31m             \u001b[0mjob\u001b[0m \u001b[0;34m=\u001b[0m \u001b[0mself\u001b[0m\u001b[0;34m.\u001b[0m\u001b[0m_backend\u001b[0m\u001b[0;34m.\u001b[0m\u001b[0mapply_async\u001b[0m\u001b[0;34m(\u001b[0m\u001b[0mbatch\u001b[0m\u001b[0;34m,\u001b[0m \u001b[0mcallback\u001b[0m\u001b[0;34m=\u001b[0m\u001b[0mcb\u001b[0m\u001b[0;34m)\u001b[0m\u001b[0;34m\u001b[0m\u001b[0;34m\u001b[0m\u001b[0m\n\u001b[0m\u001b[1;32m    766\u001b[0m             \u001b[0;31m# A job can complete so quickly than its callback is\u001b[0m\u001b[0;34m\u001b[0m\u001b[0;34m\u001b[0m\u001b[0;34m\u001b[0m\u001b[0m\n\u001b[1;32m    767\u001b[0m             \u001b[0;31m# called before we get here, causing self._jobs to\u001b[0m\u001b[0;34m\u001b[0m\u001b[0;34m\u001b[0m\u001b[0;34m\u001b[0m\u001b[0m\n",
            "\u001b[0;32m/usr/local/lib/python3.6/dist-packages/joblib/_parallel_backends.py\u001b[0m in \u001b[0;36mapply_async\u001b[0;34m(self, func, callback)\u001b[0m\n\u001b[1;32m    204\u001b[0m     \u001b[0;32mdef\u001b[0m \u001b[0mapply_async\u001b[0m\u001b[0;34m(\u001b[0m\u001b[0mself\u001b[0m\u001b[0;34m,\u001b[0m \u001b[0mfunc\u001b[0m\u001b[0;34m,\u001b[0m \u001b[0mcallback\u001b[0m\u001b[0;34m=\u001b[0m\u001b[0;32mNone\u001b[0m\u001b[0;34m)\u001b[0m\u001b[0;34m:\u001b[0m\u001b[0;34m\u001b[0m\u001b[0;34m\u001b[0m\u001b[0m\n\u001b[1;32m    205\u001b[0m         \u001b[0;34m\"\"\"Schedule a func to be run\"\"\"\u001b[0m\u001b[0;34m\u001b[0m\u001b[0;34m\u001b[0m\u001b[0m\n\u001b[0;32m--> 206\u001b[0;31m         \u001b[0mresult\u001b[0m \u001b[0;34m=\u001b[0m \u001b[0mImmediateResult\u001b[0m\u001b[0;34m(\u001b[0m\u001b[0mfunc\u001b[0m\u001b[0;34m)\u001b[0m\u001b[0;34m\u001b[0m\u001b[0;34m\u001b[0m\u001b[0m\n\u001b[0m\u001b[1;32m    207\u001b[0m         \u001b[0;32mif\u001b[0m \u001b[0mcallback\u001b[0m\u001b[0;34m:\u001b[0m\u001b[0;34m\u001b[0m\u001b[0;34m\u001b[0m\u001b[0m\n\u001b[1;32m    208\u001b[0m             \u001b[0mcallback\u001b[0m\u001b[0;34m(\u001b[0m\u001b[0mresult\u001b[0m\u001b[0;34m)\u001b[0m\u001b[0;34m\u001b[0m\u001b[0;34m\u001b[0m\u001b[0m\n",
            "\u001b[0;32m/usr/local/lib/python3.6/dist-packages/joblib/_parallel_backends.py\u001b[0m in \u001b[0;36m__init__\u001b[0;34m(self, batch)\u001b[0m\n\u001b[1;32m    568\u001b[0m         \u001b[0;31m# Don't delay the application, to avoid keeping the input\u001b[0m\u001b[0;34m\u001b[0m\u001b[0;34m\u001b[0m\u001b[0;34m\u001b[0m\u001b[0m\n\u001b[1;32m    569\u001b[0m         \u001b[0;31m# arguments in memory\u001b[0m\u001b[0;34m\u001b[0m\u001b[0;34m\u001b[0m\u001b[0;34m\u001b[0m\u001b[0m\n\u001b[0;32m--> 570\u001b[0;31m         \u001b[0mself\u001b[0m\u001b[0;34m.\u001b[0m\u001b[0mresults\u001b[0m \u001b[0;34m=\u001b[0m \u001b[0mbatch\u001b[0m\u001b[0;34m(\u001b[0m\u001b[0;34m)\u001b[0m\u001b[0;34m\u001b[0m\u001b[0;34m\u001b[0m\u001b[0m\n\u001b[0m\u001b[1;32m    571\u001b[0m \u001b[0;34m\u001b[0m\u001b[0m\n\u001b[1;32m    572\u001b[0m     \u001b[0;32mdef\u001b[0m \u001b[0mget\u001b[0m\u001b[0;34m(\u001b[0m\u001b[0mself\u001b[0m\u001b[0;34m)\u001b[0m\u001b[0;34m:\u001b[0m\u001b[0;34m\u001b[0m\u001b[0;34m\u001b[0m\u001b[0m\n",
            "\u001b[0;32m/usr/local/lib/python3.6/dist-packages/joblib/parallel.py\u001b[0m in \u001b[0;36m__call__\u001b[0;34m(self)\u001b[0m\n\u001b[1;32m    251\u001b[0m         \u001b[0;32mwith\u001b[0m \u001b[0mparallel_backend\u001b[0m\u001b[0;34m(\u001b[0m\u001b[0mself\u001b[0m\u001b[0;34m.\u001b[0m\u001b[0m_backend\u001b[0m\u001b[0;34m,\u001b[0m \u001b[0mn_jobs\u001b[0m\u001b[0;34m=\u001b[0m\u001b[0mself\u001b[0m\u001b[0;34m.\u001b[0m\u001b[0m_n_jobs\u001b[0m\u001b[0;34m)\u001b[0m\u001b[0;34m:\u001b[0m\u001b[0;34m\u001b[0m\u001b[0;34m\u001b[0m\u001b[0m\n\u001b[1;32m    252\u001b[0m             return [func(*args, **kwargs)\n\u001b[0;32m--> 253\u001b[0;31m                     for func, args, kwargs in self.items]\n\u001b[0m\u001b[1;32m    254\u001b[0m \u001b[0;34m\u001b[0m\u001b[0m\n\u001b[1;32m    255\u001b[0m     \u001b[0;32mdef\u001b[0m \u001b[0m__reduce__\u001b[0m\u001b[0;34m(\u001b[0m\u001b[0mself\u001b[0m\u001b[0;34m)\u001b[0m\u001b[0;34m:\u001b[0m\u001b[0;34m\u001b[0m\u001b[0;34m\u001b[0m\u001b[0m\n",
            "\u001b[0;32m/usr/local/lib/python3.6/dist-packages/joblib/parallel.py\u001b[0m in \u001b[0;36m<listcomp>\u001b[0;34m(.0)\u001b[0m\n\u001b[1;32m    251\u001b[0m         \u001b[0;32mwith\u001b[0m \u001b[0mparallel_backend\u001b[0m\u001b[0;34m(\u001b[0m\u001b[0mself\u001b[0m\u001b[0;34m.\u001b[0m\u001b[0m_backend\u001b[0m\u001b[0;34m,\u001b[0m \u001b[0mn_jobs\u001b[0m\u001b[0;34m=\u001b[0m\u001b[0mself\u001b[0m\u001b[0;34m.\u001b[0m\u001b[0m_n_jobs\u001b[0m\u001b[0;34m)\u001b[0m\u001b[0;34m:\u001b[0m\u001b[0;34m\u001b[0m\u001b[0;34m\u001b[0m\u001b[0m\n\u001b[1;32m    252\u001b[0m             return [func(*args, **kwargs)\n\u001b[0;32m--> 253\u001b[0;31m                     for func, args, kwargs in self.items]\n\u001b[0m\u001b[1;32m    254\u001b[0m \u001b[0;34m\u001b[0m\u001b[0m\n\u001b[1;32m    255\u001b[0m     \u001b[0;32mdef\u001b[0m \u001b[0m__reduce__\u001b[0m\u001b[0;34m(\u001b[0m\u001b[0mself\u001b[0m\u001b[0;34m)\u001b[0m\u001b[0;34m:\u001b[0m\u001b[0;34m\u001b[0m\u001b[0;34m\u001b[0m\u001b[0m\n",
            "\u001b[0;32m/usr/local/lib/python3.6/dist-packages/sklearn/ensemble/_forest.py\u001b[0m in \u001b[0;36m_parallel_build_trees\u001b[0;34m(tree, forest, X, y, sample_weight, tree_idx, n_trees, verbose, class_weight, n_samples_bootstrap)\u001b[0m\n\u001b[1;32m    163\u001b[0m             \u001b[0mcurr_sample_weight\u001b[0m \u001b[0;34m*=\u001b[0m \u001b[0mcompute_sample_weight\u001b[0m\u001b[0;34m(\u001b[0m\u001b[0;34m'balanced'\u001b[0m\u001b[0;34m,\u001b[0m \u001b[0my\u001b[0m\u001b[0;34m,\u001b[0m \u001b[0mindices\u001b[0m\u001b[0;34m)\u001b[0m\u001b[0;34m\u001b[0m\u001b[0;34m\u001b[0m\u001b[0m\n\u001b[1;32m    164\u001b[0m \u001b[0;34m\u001b[0m\u001b[0m\n\u001b[0;32m--> 165\u001b[0;31m         \u001b[0mtree\u001b[0m\u001b[0;34m.\u001b[0m\u001b[0mfit\u001b[0m\u001b[0;34m(\u001b[0m\u001b[0mX\u001b[0m\u001b[0;34m,\u001b[0m \u001b[0my\u001b[0m\u001b[0;34m,\u001b[0m \u001b[0msample_weight\u001b[0m\u001b[0;34m=\u001b[0m\u001b[0mcurr_sample_weight\u001b[0m\u001b[0;34m,\u001b[0m \u001b[0mcheck_input\u001b[0m\u001b[0;34m=\u001b[0m\u001b[0;32mFalse\u001b[0m\u001b[0;34m)\u001b[0m\u001b[0;34m\u001b[0m\u001b[0;34m\u001b[0m\u001b[0m\n\u001b[0m\u001b[1;32m    166\u001b[0m     \u001b[0;32melse\u001b[0m\u001b[0;34m:\u001b[0m\u001b[0;34m\u001b[0m\u001b[0;34m\u001b[0m\u001b[0m\n\u001b[1;32m    167\u001b[0m         \u001b[0mtree\u001b[0m\u001b[0;34m.\u001b[0m\u001b[0mfit\u001b[0m\u001b[0;34m(\u001b[0m\u001b[0mX\u001b[0m\u001b[0;34m,\u001b[0m \u001b[0my\u001b[0m\u001b[0;34m,\u001b[0m \u001b[0msample_weight\u001b[0m\u001b[0;34m=\u001b[0m\u001b[0msample_weight\u001b[0m\u001b[0;34m,\u001b[0m \u001b[0mcheck_input\u001b[0m\u001b[0;34m=\u001b[0m\u001b[0;32mFalse\u001b[0m\u001b[0;34m)\u001b[0m\u001b[0;34m\u001b[0m\u001b[0;34m\u001b[0m\u001b[0m\n",
            "\u001b[0;32m/usr/local/lib/python3.6/dist-packages/sklearn/tree/_classes.py\u001b[0m in \u001b[0;36mfit\u001b[0;34m(self, X, y, sample_weight, check_input, X_idx_sorted)\u001b[0m\n\u001b[1;32m    875\u001b[0m             \u001b[0msample_weight\u001b[0m\u001b[0;34m=\u001b[0m\u001b[0msample_weight\u001b[0m\u001b[0;34m,\u001b[0m\u001b[0;34m\u001b[0m\u001b[0;34m\u001b[0m\u001b[0m\n\u001b[1;32m    876\u001b[0m             \u001b[0mcheck_input\u001b[0m\u001b[0;34m=\u001b[0m\u001b[0mcheck_input\u001b[0m\u001b[0;34m,\u001b[0m\u001b[0;34m\u001b[0m\u001b[0;34m\u001b[0m\u001b[0m\n\u001b[0;32m--> 877\u001b[0;31m             X_idx_sorted=X_idx_sorted)\n\u001b[0m\u001b[1;32m    878\u001b[0m         \u001b[0;32mreturn\u001b[0m \u001b[0mself\u001b[0m\u001b[0;34m\u001b[0m\u001b[0;34m\u001b[0m\u001b[0m\n\u001b[1;32m    879\u001b[0m \u001b[0;34m\u001b[0m\u001b[0m\n",
            "\u001b[0;32m/usr/local/lib/python3.6/dist-packages/sklearn/tree/_classes.py\u001b[0m in \u001b[0;36mfit\u001b[0;34m(self, X, y, sample_weight, check_input, X_idx_sorted)\u001b[0m\n\u001b[1;32m    365\u001b[0m                                            min_impurity_split)\n\u001b[1;32m    366\u001b[0m \u001b[0;34m\u001b[0m\u001b[0m\n\u001b[0;32m--> 367\u001b[0;31m         \u001b[0mbuilder\u001b[0m\u001b[0;34m.\u001b[0m\u001b[0mbuild\u001b[0m\u001b[0;34m(\u001b[0m\u001b[0mself\u001b[0m\u001b[0;34m.\u001b[0m\u001b[0mtree_\u001b[0m\u001b[0;34m,\u001b[0m \u001b[0mX\u001b[0m\u001b[0;34m,\u001b[0m \u001b[0my\u001b[0m\u001b[0;34m,\u001b[0m \u001b[0msample_weight\u001b[0m\u001b[0;34m,\u001b[0m \u001b[0mX_idx_sorted\u001b[0m\u001b[0;34m)\u001b[0m\u001b[0;34m\u001b[0m\u001b[0;34m\u001b[0m\u001b[0m\n\u001b[0m\u001b[1;32m    368\u001b[0m \u001b[0;34m\u001b[0m\u001b[0m\n\u001b[1;32m    369\u001b[0m         \u001b[0;32mif\u001b[0m \u001b[0mself\u001b[0m\u001b[0;34m.\u001b[0m\u001b[0mn_outputs_\u001b[0m \u001b[0;34m==\u001b[0m \u001b[0;36m1\u001b[0m \u001b[0;32mand\u001b[0m \u001b[0mis_classifier\u001b[0m\u001b[0;34m(\u001b[0m\u001b[0mself\u001b[0m\u001b[0;34m)\u001b[0m\u001b[0;34m:\u001b[0m\u001b[0;34m\u001b[0m\u001b[0;34m\u001b[0m\u001b[0m\n",
            "\u001b[0;31mKeyboardInterrupt\u001b[0m: "
          ]
        }
      ]
    },
    {
      "cell_type": "code",
      "metadata": {
        "id": "ioUs14cMub5i",
        "colab_type": "code",
        "colab": {
          "base_uri": "https://localhost:8080/",
          "height": 573
        },
        "outputId": "3a426c05-e672-4cfd-a78f-46f3512f6b30"
      },
      "source": [
        "sns.set_color_codes(\"muted\")\n",
        "sns.barplot(x='Accuracy', y='Classifier', data=log, color=\"b\")\n",
        "\n",
        "plt.xlabel('Accuracy %')\n",
        "plt.title('Classifier Accuracy')\n",
        "plt.show()\n",
        "\n",
        "sns.set_color_codes(\"muted\")\n",
        "sns.barplot(x='Log Loss', y='Classifier', data=log, color=\"g\")\n",
        "\n",
        "plt.xlabel('Log Loss')\n",
        "plt.title('Classifier Log Loss')\n",
        "plt.show()"
      ],
      "execution_count": null,
      "outputs": [
        {
          "output_type": "display_data",
          "data": {
            "image/png": "[encoded data removed]",
            "text/plain": [
              "<Figure size 432x288 with 1 Axes>"
            ]
          },
          "metadata": {
            "tags": [],
            "needs_background": "light"
          }
        },
        {
          "output_type": "display_data",
          "data": {
            "image/png": "[encoded data removed]",
            "text/plain": [
              "<Figure size 432x288 with 1 Axes>"
            ]
          },
          "metadata": {
            "tags": [],
            "needs_background": "light"
          }
        }
      ]
    },
    {
      "cell_type": "markdown",
      "metadata": {
        "id": "n0L4QHbDvQT1",
        "colab_type": "text"
      },
      "source": [
        "## Oversampling to reduce comparative difference"
      ]
    },
    {
      "cell_type": "code",
      "metadata": {
        "id": "V0t_RYYKvP2W",
        "colab_type": "code",
        "colab": {}
      },
      "source": [
        "from imblearn.over_sampling import SMOTE\n",
        "\n",
        "sm = SMOTE(random_state=2)\n",
        "X_sm, y_sm = sm.fit_sample(train_tfidf, y_train)"
      ],
      "execution_count": null,
      "outputs": []
    },
    {
      "cell_type": "code",
      "metadata": {
        "id": "zBK53EImwcst",
        "colab_type": "code",
        "colab": {
          "base_uri": "https://localhost:8080/",
          "height": 34
        },
        "outputId": "2b7d93c2-f885-4ba4-c772-5ec21d32e566"
      },
      "source": [
        "freq, freq2 = np.unique(y_sm, return_counts = True)[1]\n",
        "print(f'Frequency of Normal users : {((freq/(freq+ freq2))*100):.2f}% ; Sexual predators : {((freq2/(freq+ freq2))*100):.2f}%')"
      ],
      "execution_count": null,
      "outputs": [
        {
          "output_type": "stream",
          "text": [
            "Frequency of Normal users : 50.00% ; Sexual predators : 50.00%\n"
          ],
          "name": "stdout"
        }
      ]
    },
    {
      "cell_type": "code",
      "metadata": {
        "id": "NUgudIBkv-hv",
        "colab_type": "code",
        "colab": {
          "base_uri": "https://localhost:8080/",
          "height": 1000
        },
        "outputId": "c3b9a759-f97e-4c8a-c7d0-7529c016b559"
      },
      "source": [
        "log_cols=[\"Classifier\", \"Accuracy\", \"Log Loss\"]\n",
        "log = pd.DataFrame(columns=log_cols)\n",
        "\n",
        "for clf in classifiers:\n",
        "    clf.fit(X_sm, y_sm)\n",
        "    name = clf.__class__.__name__\n",
        "    \n",
        "    print(\"=\"*33)\n",
        "    print(name)\n",
        "    \n",
        "    print('*****Results*****')\n",
        "    train_predictions = clf.predict(test_tfidf)\n",
        "    acc = accuracy_score(y_test, train_predictions)\n",
        "    print(\"Accuracy: {:.4%}\".format(acc))\n",
        "    \n",
        "    predictions = clf.predict_proba(test_tfidf)\n",
        "    ll = log_loss(y_test, predictions)\n",
        "    print(\"Log Loss: {}\".format(ll))\n",
        "\n",
        "    print(classification_report(y_test, train_predictions))\n",
        "    \n",
        "    log_entry = pd.DataFrame([[name, acc*100, ll]], columns=log_cols)\n",
        "    log = log.append(log_entry)\n",
        "    \n",
        "print(\"=\"*33)\n",
        "log.to_csv('oversampling_res.csv')"
      ],
      "execution_count": null,
      "outputs": [
        {
          "output_type": "stream",
          "text": [
            "0:\tlearn: 0.6560184\ttotal: 2.03s\tremaining: 1m 39s\n",
            "1:\tlearn: 0.6415688\ttotal: 3.98s\tremaining: 1m 35s\n",
            "2:\tlearn: 0.6330475\ttotal: 5.87s\tremaining: 1m 32s\n",
            "3:\tlearn: 0.6250842\ttotal: 7.73s\tremaining: 1m 28s\n",
            "4:\tlearn: 0.6170303\ttotal: 9.61s\tremaining: 1m 26s\n",
            "5:\tlearn: 0.6108605\ttotal: 11.4s\tremaining: 1m 23s\n",
            "6:\tlearn: 0.6056406\ttotal: 13.2s\tremaining: 1m 21s\n",
            "7:\tlearn: 0.5999094\ttotal: 15s\tremaining: 1m 18s\n",
            "8:\tlearn: 0.5945690\ttotal: 16.8s\tremaining: 1m 16s\n",
            "9:\tlearn: 0.5906476\ttotal: 18.6s\tremaining: 1m 14s\n",
            "10:\tlearn: 0.5862008\ttotal: 20.5s\tremaining: 1m 12s\n",
            "11:\tlearn: 0.5824997\ttotal: 22.3s\tremaining: 1m 10s\n",
            "12:\tlearn: 0.5794471\ttotal: 24.1s\tremaining: 1m 8s\n",
            "13:\tlearn: 0.5760131\ttotal: 25.9s\tremaining: 1m 6s\n",
            "14:\tlearn: 0.5721459\ttotal: 27.7s\tremaining: 1m 4s\n",
            "15:\tlearn: 0.5694452\ttotal: 29.5s\tremaining: 1m 2s\n",
            "16:\tlearn: 0.5664161\ttotal: 32.5s\tremaining: 1m 3s\n",
            "17:\tlearn: 0.5635437\ttotal: 34.8s\tremaining: 1m 1s\n",
            "18:\tlearn: 0.5610020\ttotal: 36.5s\tremaining: 59.6s\n",
            "19:\tlearn: 0.5586687\ttotal: 38.4s\tremaining: 57.5s\n",
            "20:\tlearn: 0.5563839\ttotal: 40.1s\tremaining: 55.4s\n",
            "21:\tlearn: 0.5534787\ttotal: 41.9s\tremaining: 53.4s\n",
            "22:\tlearn: 0.5509315\ttotal: 43.7s\tremaining: 51.3s\n",
            "23:\tlearn: 0.5486536\ttotal: 45.5s\tremaining: 49.3s\n",
            "24:\tlearn: 0.5463535\ttotal: 47.3s\tremaining: 47.3s\n",
            "25:\tlearn: 0.5438779\ttotal: 49.1s\tremaining: 45.3s\n",
            "26:\tlearn: 0.5419688\ttotal: 50.9s\tremaining: 43.4s\n",
            "27:\tlearn: 0.5397439\ttotal: 52.7s\tremaining: 41.4s\n",
            "28:\tlearn: 0.5375636\ttotal: 54.4s\tremaining: 39.4s\n",
            "29:\tlearn: 0.5350320\ttotal: 56.2s\tremaining: 37.5s\n",
            "30:\tlearn: 0.5333289\ttotal: 58s\tremaining: 35.5s\n",
            "31:\tlearn: 0.5315539\ttotal: 59.7s\tremaining: 33.6s\n",
            "32:\tlearn: 0.5300320\ttotal: 1m 1s\tremaining: 31.7s\n",
            "33:\tlearn: 0.5279915\ttotal: 1m 3s\tremaining: 29.8s\n",
            "34:\tlearn: 0.5264166\ttotal: 1m 5s\tremaining: 27.9s\n",
            "35:\tlearn: 0.5249057\ttotal: 1m 6s\tremaining: 26.1s\n",
            "36:\tlearn: 0.5235508\ttotal: 1m 8s\tremaining: 24.2s\n",
            "37:\tlearn: 0.5221045\ttotal: 1m 10s\tremaining: 22.3s\n",
            "38:\tlearn: 0.5205620\ttotal: 1m 12s\tremaining: 20.4s\n",
            "39:\tlearn: 0.5190099\ttotal: 1m 14s\tremaining: 18.5s\n",
            "40:\tlearn: 0.5169185\ttotal: 1m 15s\tremaining: 16.7s\n",
            "41:\tlearn: 0.5156841\ttotal: 1m 17s\tremaining: 14.8s\n",
            "42:\tlearn: 0.5139641\ttotal: 1m 19s\tremaining: 13s\n",
            "43:\tlearn: 0.5125955\ttotal: 1m 21s\tremaining: 11.1s\n",
            "44:\tlearn: 0.5110023\ttotal: 1m 23s\tremaining: 9.24s\n",
            "45:\tlearn: 0.5096191\ttotal: 1m 24s\tremaining: 7.38s\n",
            "46:\tlearn: 0.5080530\ttotal: 1m 26s\tremaining: 5.53s\n",
            "47:\tlearn: 0.5066311\ttotal: 1m 28s\tremaining: 3.68s\n",
            "48:\tlearn: 0.5051447\ttotal: 1m 30s\tremaining: 1.84s\n",
            "49:\tlearn: 0.5040549\ttotal: 1m 31s\tremaining: 0us\n",
            "=================================\n",
            "CatBoostClassifier\n",
            "*****Results*****\n",
            "Accuracy: 81.5478%\n",
            "Log Loss: 0.513756419819846\n",
            "              precision    recall  f1-score   support\n",
            "\n",
            "           0       0.98      0.82      0.90    148121\n",
            "           1       0.14      0.62      0.23      6798\n",
            "\n",
            "    accuracy                           0.82    154919\n",
            "   macro avg       0.56      0.72      0.56    154919\n",
            "weighted avg       0.94      0.82      0.87    154919\n",
            "\n",
            "=================================\n",
            "DecisionTreeClassifier\n",
            "*****Results*****\n",
            "Accuracy: 83.5701%\n",
            "Log Loss: 1.475626571117082\n",
            "              precision    recall  f1-score   support\n",
            "\n",
            "           0       0.98      0.85      0.91    148121\n",
            "           1       0.15      0.59      0.24      6798\n",
            "\n",
            "    accuracy                           0.84    154919\n",
            "   macro avg       0.56      0.72      0.57    154919\n",
            "weighted avg       0.94      0.84      0.88    154919\n",
            "\n"
          ],
          "name": "stdout"
        }
      ]
    },
    {
      "cell_type": "code",
      "metadata": {
        "id": "l6ZbRxhhOGNb",
        "colab_type": "code",
        "colab": {}
      },
      "source": [
        "sns.set_color_codes(\"muted\")\n",
        "sns.barplot(x='Accuracy', y='Classifier', data=log, color=\"b\")\n",
        "\n",
        "plt.xlabel('Accuracy %')\n",
        "plt.title('Classifier Accuracy')\n",
        "plt.show()\n",
        "\n",
        "sns.set_color_codes(\"muted\")\n",
        "sns.barplot(x='Log Loss', y='Classifier', data=log, color=\"g\")\n",
        "\n",
        "plt.xlabel('Log Loss')\n",
        "plt.title('Classifier Log Loss')\n",
        "plt.show()"
      ],
      "execution_count": null,
      "outputs": []
    },
    {
      "cell_type": "markdown",
      "metadata": {
        "id": "2y-SHCZd9H7b",
        "colab_type": "text"
      },
      "source": [
        "The list of models were taking too long to execute, due to large set of features. Would be dividing the task."
      ]
    }
  ]
}