{
 "cells": [
  {
   "cell_type": "code",
   "execution_count": 1,
   "metadata": {
    "collapsed": false
   },
   "outputs": [],
   "source": [
    "import pandas as pd\n",
    "import numpy as np\n",
    "import itertools\n",
    "import sklearn.metrics as met\n",
    "import scipy as sp\n",
    "\n",
    "import sys\n",
    "sys.path.insert(0, '../../notebooks/libs/')\n",
    "import FeatureExtraction as FE\n",
    "\n",
    "\n",
    "from sklearn import svm\n",
    "from sklearn import linear_model\n",
    "from sklearn.metrics import accuracy_score\n",
    "from sklearn.metrics import recall_score\n",
    "from sklearn.metrics import precision_score\n",
    "from sklearn.metrics import f1_score\n",
    "from sklearn.metrics import fbeta_score\n",
    "\n",
    "import sklearn.metrics as met\n",
    "import xgboost as xgb\n",
    "from sklearn.ensemble import RandomForestClassifier\n",
    "\n",
    "\n",
    "from sklearn.feature_extraction.text import TfidfVectorizer\n",
    "from sklearn.preprocessing import StandardScaler\n",
    "from sklearn.preprocessing import MaxAbsScaler\n",
    "from sklearn.preprocessing import MinMaxScaler\n",
    "\n",
    "\n",
    "from sklearn import cross_validation\n",
    "from sklearn.linear_model import LogisticRegression\n",
    "from sklearn.naive_bayes import GaussianNB\n",
    "from sklearn.ensemble import VotingClassifier\n",
    "from sklearn.tree import DecisionTreeClassifier\n",
    "from sklearn.neighbors import KNeighborsClassifier\n",
    "from sklearn.svm import SVC\n",
    "from itertools import product\n",
    "from sklearn.ensemble import VotingClassifier\n",
    "from sklearn.grid_search import GridSearchCV"
   ]
  },
  {
   "cell_type": "code",
   "execution_count": 2,
   "metadata": {
    "collapsed": true
   },
   "outputs": [],
   "source": [
    "training = pd.read_csv('../../csv/chat_based_features_training.csv')\n",
    "test = pd.read_csv('../../csv/chat_based_features_test.csv')\n",
    "\n",
    "features = ['number of conversation', 'percent of conversations started by the author', 'number of messages sent',\n",
    "            'average percent of lines in conversation', 'number of characters sent by the author']\n",
    "\n",
    "training_sparse_chat_based = sp.sparse.csr_matrix(training.ix[:,1:].values, dtype=float)[:,:-1]\n",
    "test_sparse_chat_based = sp.sparse.csr_matrix(test.ix[:,1:].values, dtype=float)[:,:-1]"
   ]
  },
  {
   "cell_type": "code",
   "execution_count": 3,
   "metadata": {
    "collapsed": false
   },
   "outputs": [],
   "source": [
    "training_xml = '../../dataset/training/pan12-sexual-predator-identification-training-corpus-2012-05-01.xml'\n",
    "test_xml = '../../dataset/test/pan12-sexual-predator-identification-test-corpus-2012-05-17.xml'\n",
    "\n",
    "documents_training = FE.prepare_for_tf_idf(training_xml, False)\n",
    "documents_test = FE.prepare_for_tf_idf(test_xml, False)"
   ]
  },
  {
   "cell_type": "code",
   "execution_count": 4,
   "metadata": {
    "collapsed": false
   },
   "outputs": [],
   "source": [
    "tfidf = TfidfVectorizer(stop_words='english', min_df=3, max_features=3500, ngram_range=(1,3), sublinear_tf=True)\n",
    "\n",
    "training_sparse_tfidf = tfidf.fit_transform(documents_training)\n",
    "testing_sparse_tfidf = tfidf.transform(documents_test)"
   ]
  },
  {
   "cell_type": "code",
   "execution_count": 5,
   "metadata": {
    "collapsed": true
   },
   "outputs": [],
   "source": [
    "scaler = MaxAbsScaler()\n",
    "\n",
    "training_sparse_chat_based_scaled = scaler.fit_transform(training_sparse_chat_based)\n",
    "test_sparse_chat_based_scaled = scaler.transform(test_sparse_chat_based)"
   ]
  },
  {
   "cell_type": "code",
   "execution_count": 7,
   "metadata": {
    "collapsed": false
   },
   "outputs": [],
   "source": [
    "chat_based_scaled_and_tfidf_training = sp.sparse.hstack((\n",
    "    training_sparse_tfidf, training_sparse_chat_based_scaled))\n",
    "\n",
    "chat_based_scaled_and_tfidf_test = sp.sparse.hstack((\n",
    "    testing_sparse_tfidf, test_sparse_chat_based_scaled))"
   ]
  },
  {
   "cell_type": "code",
   "execution_count": 8,
   "metadata": {
    "collapsed": false
   },
   "outputs": [
    {
     "name": "stderr",
     "output_type": "stream",
     "text": [
      "/home/weenkus/anaconda3/envs/python2/lib/python2.7/site-packages/sklearn/preprocessing/label.py:108: DataConversionWarning: A column-vector y was passed when a 1d array was expected. Please change the shape of y to (n_samples, ), for example using ravel().\n",
      "  y = column_or_1d(y, warn=True)\n",
      "/home/weenkus/anaconda3/envs/python2/lib/python2.7/site-packages/sklearn/preprocessing/label.py:108: DataConversionWarning: A column-vector y was passed when a 1d array was expected. Please change the shape of y to (n_samples, ), for example using ravel().\n",
      "  y = column_or_1d(y, warn=True)\n",
      "/home/weenkus/anaconda3/envs/python2/lib/python2.7/site-packages/sklearn/preprocessing/label.py:108: DataConversionWarning: A column-vector y was passed when a 1d array was expected. Please change the shape of y to (n_samples, ), for example using ravel().\n",
      "  y = column_or_1d(y, warn=True)\n",
      "/home/weenkus/anaconda3/envs/python2/lib/python2.7/site-packages/sklearn/preprocessing/label.py:108: DataConversionWarning: A column-vector y was passed when a 1d array was expected. Please change the shape of y to (n_samples, ), for example using ravel().\n",
      "  y = column_or_1d(y, warn=True)\n",
      "/home/weenkus/anaconda3/envs/python2/lib/python2.7/site-packages/sklearn/preprocessing/label.py:108: DataConversionWarning: A column-vector y was passed when a 1d array was expected. Please change the shape of y to (n_samples, ), for example using ravel().\n",
      "  y = column_or_1d(y, warn=True)\n"
     ]
    }
   ],
   "source": [
    "xgb_all_1 = xgb.XGBClassifier(max_depth=13, n_estimators=300, learning_rate=0.007, scale_pos_weight=5, gamma=7)\n",
    "xgb_all_2 = xgb.XGBClassifier(max_depth=25, n_estimators=300)\n",
    "xgb_all_3 = xgb.XGBClassifier(max_depth=5, n_estimators=220, learning_rate=0.007, scale_pos_weight=20, gamma=2)\n",
    "xgb_all_4 = xgb.XGBClassifier(max_depth=3, n_estimators=400)\n",
    "xgb_all_5 = xgb.XGBClassifier(max_depth=7, n_estimators=100)\n",
    "\n",
    "xgb_all_1.fit(chat_based_scaled_and_tfidf_training, training[['is sexual predator']])\n",
    "xgb_all_2.fit(chat_based_scaled_and_tfidf_training, training[['is sexual predator']])\n",
    "xgb_all_3.fit(chat_based_scaled_and_tfidf_training, training[['is sexual predator']])\n",
    "xgb_all_4.fit(chat_based_scaled_and_tfidf_training, training[['is sexual predator']])\n",
    "xgb_all_5.fit(chat_based_scaled_and_tfidf_training, training[['is sexual predator']])\n",
    "\n",
    "prediction0 = xgb_all_1.predict(chat_based_scaled_and_tfidf_test)\n",
    "prediction1 = xgb_all_2.predict(chat_based_scaled_and_tfidf_test)\n",
    "prediction2 = xgb_all_3.predict(chat_based_scaled_and_tfidf_test)\n",
    "prediction3 = xgb_all_4.predict(chat_based_scaled_and_tfidf_test)\n",
    "prediction4 = xgb_all_5.predict(chat_based_scaled_and_tfidf_test)"
   ]
  },
  {
   "cell_type": "code",
   "execution_count": 9,
   "metadata": {
    "collapsed": true
   },
   "outputs": [],
   "source": [
    "def bagging(vote_number, prediction_list):\n",
    "    total_prediction = []\n",
    "    for i in range(len(prediction_list[0])):\n",
    "        voters = 0\n",
    "        \n",
    "        for prediction in prediction_list:\n",
    "            if prediction[i] == 1:\n",
    "                voters += 1\n",
    "                \n",
    "        if voters >= vote_number:\n",
    "            total_prediction.append(1)\n",
    "        else:\n",
    "            total_prediction.append(0)\n",
    "                \n",
    "    return np.array(total_prediction)"
   ]
  },
  {
   "cell_type": "code",
   "execution_count": 10,
   "metadata": {
    "collapsed": false
   },
   "outputs": [
    {
     "name": "stdout",
     "output_type": "stream",
     "text": [
      "Accuracy:  0.999341569807\n",
      "Precision:  0.84375\n",
      "Recall: 0.531496062992\n",
      "F1: 0.652173913043\n"
     ]
    }
   ],
   "source": [
    "xgb_all_prediction_bagged = bagging(3, [prediction0, prediction1, prediction2, prediction3, prediction4])\n",
    "\n",
    "print 'Accuracy: ', met.accuracy_score(test[['is sexual predator']], xgb_all_prediction_bagged) \n",
    "print 'Precision: ', met.precision_score(test[['is sexual predator']], xgb_all_prediction_bagged)\n",
    "print 'Recall:', met.recall_score(test[['is sexual predator']], xgb_all_prediction_bagged)\n",
    "print 'F1:', met.fbeta_score(test[['is sexual predator']], xgb_all_prediction_bagged, 1)"
   ]
  },
  {
   "cell_type": "code",
   "execution_count": 11,
   "metadata": {
    "collapsed": false
   },
   "outputs": [
    {
     "name": "stderr",
     "output_type": "stream",
     "text": [
      "/home/weenkus/anaconda3/envs/python2/lib/python2.7/site-packages/sklearn/svm/base.py:224: ConvergenceWarning: Solver terminated early (max_iter=100).  Consider pre-processing your data with StandardScaler or MinMaxScaler.\n",
      "  % self.max_iter, ConvergenceWarning)\n"
     ]
    },
    {
     "data": {
      "text/plain": [
       "SVC(C=0.35, cache_size=200, class_weight=None, coef0=0.0,\n",
       "  decision_function_shape=None, degree=3, gamma='auto', kernel='linear',\n",
       "  max_iter=100, probability=False, random_state=None, shrinking=True,\n",
       "  tol=0.001, verbose=False)"
      ]
     },
     "execution_count": 11,
     "metadata": {},
     "output_type": "execute_result"
    }
   ],
   "source": [
    "rf_chat_based = RandomForestClassifier(n_estimators=230, n_jobs=8, bootstrap=False)\n",
    "rf_chat_based = rf_chat_based.fit(chat_based_scaled_and_tfidf_training, np.ravel(training[['is sexual predator']]))\n",
    "\n",
    "xgb_all = xgb.XGBClassifier(max_depth=25, n_estimators=300, learning_rate=0.007, scale_pos_weight=5, gamma=7, objective='binary:logistic')\n",
    "xgb_all.fit(chat_based_scaled_and_tfidf_training, np.ravel(training[['is sexual predator']]))\n",
    "\n",
    "xgb_chat_based = xgb.XGBClassifier(max_depth=25, n_estimators=300, learning_rate=0.007, scale_pos_weight=5, gamma=7, objective='binary:logistic')\n",
    "xgb_chat_based.fit(training_sparse_chat_based_scaled, np.ravel(training[['is sexual predator']]))\n",
    "\n",
    "svm_tfidf = svm.SVC(C=0.35,kernel='linear',max_iter=100)\n",
    "svm_tfidf.fit(training_sparse_tfidf, np.ravel(training[['is sexual predator']]))"
   ]
  },
  {
   "cell_type": "code",
   "execution_count": 12,
   "metadata": {
    "collapsed": true
   },
   "outputs": [],
   "source": [
    "rf_chat_based_predicition = rf_chat_based.predict(chat_based_scaled_and_tfidf_test)\n",
    "xgb_all_prediction = xgb_all.predict(chat_based_scaled_and_tfidf_test)\n",
    "xgb_chat_based_prediction = xgb_chat_based.predict(test_sparse_chat_based_scaled)\n",
    "svm_tfidf_predicition  = svm_tfidf.predict(testing_sparse_tfidf)"
   ]
  },
  {
   "cell_type": "code",
   "execution_count": 50,
   "metadata": {
    "collapsed": false
   },
   "outputs": [],
   "source": [
    "ensamble_prediction = bagging(1, [svm_tfidf_predicition, xgb_all_prediction_bagged])"
   ]
  },
  {
   "cell_type": "code",
   "execution_count": 51,
   "metadata": {
    "collapsed": false
   },
   "outputs": [
    {
     "name": "stdout",
     "output_type": "stream",
     "text": [
      "Accuracy:  0.999428446013\n",
      "Precision:  0.844919786096\n",
      "Recall: 0.622047244094\n",
      "F1: 0.716553287982\n"
     ]
    }
   ],
   "source": [
    "print 'Accuracy: ', met.accuracy_score(test[['is sexual predator']], ensamble_prediction) \n",
    "print 'Precision: ', met.precision_score(test[['is sexual predator']], ensamble_prediction)\n",
    "print 'Recall:', met.recall_score(test[['is sexual predator']], ensamble_prediction)\n",
    "print 'F1:', met.fbeta_score(test[['is sexual predator']], ensamble_prediction, 1)"
   ]
  },
  {
   "cell_type": "code",
   "execution_count": null,
   "metadata": {
    "collapsed": false
   },
   "outputs": [],
   "source": [
    "#data = {'p1':svm_tfidf_predicition, 'p2':rf_chat_based_predicition, 'p3':xgb_all_prediction_bagged,\n",
    "#        'p4':xgb_all_prediction, 'p5':xgb_chat_based_prediction}\n",
    "#s = pd.DataFrame(data)\n",
    "\n",
    "#s.head()"
   ]
  },
  {
   "cell_type": "code",
   "execution_count": null,
   "metadata": {
    "collapsed": false
   },
   "outputs": [],
   "source": [
    "clf1 = svm.SVC(C=0.4, kernel='linear', max_iter=100)\n",
    "clf2 = RandomForestClassifier(n_estimators=230, n_jobs=8, bootstrap=False)\n",
    "clf3 = xgb.XGBClassifier(max_depth=25, n_estimators=300, learning_rate=0.007, scale_pos_weight=5, gamma=7, objective='binary:logistic')\n",
    "clf4 = DecisionTreeClassifier(max_depth=4)\n",
    "\n",
    "eclf = VotingClassifier(estimators=[('svm', clf1), ('rf', clf2), ('xgb', clf3), ('dtc', clf4)],\n",
    "                        weights=[3.2,2.7,2.1,4.2])\n",
    "\n",
    "\n",
    "features = ['number of conversation', 'percent of conversations started by the author', 'number of messages sent', 'average percent of lines in conversation', 'number of characters sent by the author']\n",
    "\n",
    "clf1 = clf1.fit(training[features], np.ravel(training[['is sexual predator']]))\n",
    "clf2 = clf2.fit(training[features], np.ravel(training[['is sexual predator']]))\n",
    "clf3 = clf3.fit(training[features], np.ravel(training[['is sexual predator']]))\n",
    "clf4 = clf4.fit(training[features], np.ravel(training[['is sexual predator']]))\n",
    "\n",
    "eclf = eclf.fit(training[features], np.ravel(training[['is sexual predator']]))\n",
    "\n",
    "eclf_prediction = eclf.predict(test[features])\n",
    "\n",
    "\n",
    "print 'Accuracy: ', met.accuracy_score(test[['is sexual predator']], eclf_prediction) \n",
    "print 'Precision: ', met.precision_score(test[['is sexual predator']], eclf_prediction)\n",
    "print 'Recall:', met.recall_score(test[['is sexual predator']], eclf_prediction)\n",
    "print 'F1:', met.fbeta_score(test[['is sexual predator']], eclf_prediction, 1)"
   ]
  },
  {
   "cell_type": "code",
   "execution_count": null,
   "metadata": {
    "collapsed": false
   },
   "outputs": [],
   "source": [
    "clf1 = LogisticRegression(random_state=1)\n",
    "clf2 = RandomForestClassifier(random_state=1)\n",
    "clf3 = GaussianNB()\n",
    "clf4 = DecisionTreeClassifier(max_depth=4)\n",
    "clf5 = KNeighborsClassifier(n_neighbors=7)\n",
    "clf6 = SVC(kernel='rbf', probability=True)\n",
    "\n",
    "eclf = VotingClassifier(estimators=[('lr', clf1), ('rf', clf2), ('gn', clf3),\n",
    "        ('dt', clf4), ('knn', clf5), ('svc', clf6)], voting='soft', weights=[1,1,1,2,1,2])\n",
    "\n",
    "features = ['number of conversation', 'percent of conversations started by the author', 'number of messages sent', 'average percent of lines in conversation', 'number of characters sent by the author']\n",
    "clf1 = clf1.fit(training[features], np.ravel(training[['is sexual predator']]))\n",
    "clf2 = clf2.fit(training[features], np.ravel(training[['is sexual predator']]))\n",
    "clf3 = clf3.fit(training[features], np.ravel(training[['is sexual predator']]))\n",
    "clf4 = clf4.fit(training[features], np.ravel(training[['is sexual predator']]))\n",
    "clf5 = clf5.fit(training[features], np.ravel(training[['is sexual predator']]))\n",
    "clf6 = clf6.fit(training[features], np.ravel(training[['is sexual predator']]))\n",
    "eclf = eclf.fit(training[features], np.ravel(training[['is sexual predator']]))\n",
    "eclf_prediction = eclf.predict(test[features])\n",
    "\n",
    "\n",
    "print 'Accuracy: ', met.accuracy_score(test[['is sexual predator']], eclf_prediction) \n",
    "print 'Precision: ', met.precision_score(test[['is sexual predator']], eclf_prediction)\n",
    "print 'Recall:', met.recall_score(test[['is sexual predator']], eclf_prediction)\n",
    "print 'F1:', met.fbeta_score(test[['is sexual predator']], eclf_prediction, 1)"
   ]
  },
  {
   "cell_type": "code",
   "execution_count": null,
   "metadata": {
    "collapsed": true
   },
   "outputs": [],
   "source": [
    "params = {'lr__C': [1.0, 100.0], 'rf__n_estimators': [20, 200],}\n",
    "grid = GridSearchCV(estimator=eclf, param_grid=params, cv=5)\n",
    "grid = grid.fit(iris.data, iris.target)"
   ]
  }
 ],
 "metadata": {
  "kernelspec": {
   "display_name": "Python 2",
   "language": "python",
   "name": "python2"
  },
  "language_info": {
   "codemirror_mode": {
    "name": "ipython",
    "version": 2
   },
   "file_extension": ".py",
   "mimetype": "text/x-python",
   "name": "python",
   "nbconvert_exporter": "python",
   "pygments_lexer": "ipython2",
   "version": "2.7.11"
  }
 },
 "nbformat": 4,
 "nbformat_minor": 0
}
