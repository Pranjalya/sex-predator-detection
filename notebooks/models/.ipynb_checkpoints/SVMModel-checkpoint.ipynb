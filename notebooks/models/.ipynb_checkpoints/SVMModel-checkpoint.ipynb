{
 "cells": [
  {
   "cell_type": "code",
   "execution_count": 41,
   "metadata": {
    "collapsed": false
   },
   "outputs": [],
   "source": [
    "import sys\n",
    "import numpy as np\n",
    "import scipy as sp\n",
    "import pandas as pd\n",
    "from sklearn import svm\n",
    "from sklearn import linear_model\n",
    "from sklearn.metrics import accuracy_score\n",
    "from sklearn.metrics import recall_score\n",
    "from sklearn.metrics import precision_score\n",
    "from sklearn.metrics import f1_score\n",
    "from sklearn.metrics import fbeta_score\n",
    "from sklearn.cross_validation import train_test_split\n",
    "sys.path.insert(0, '../../notebooks/libs/')\n",
    "import FeatureExtraction as FE\n",
    "from sklearn.feature_extraction.text import TfidfVectorizer\n",
    "from sklearn.preprocessing import StandardScaler"
   ]
  },
  {
   "cell_type": "code",
   "execution_count": 42,
   "metadata": {
    "collapsed": false
   },
   "outputs": [],
   "source": [
    "import sys\n",
    "sys.path.insert(0, '../libs/')\n",
    "%matplotlib inline\n",
    "\n",
    "import FeatureExtraction\n",
    "from lxml import etree\n",
    "\n",
    "training_xml = '../../dataset/training/pan12-sexual-predator-identification-training-corpus-2012-05-01.xml'\n",
    "test_xml = '../../dataset/test/pan12-sexual-predator-identification-test-corpus-2012-05-17.xml'\n",
    "\n",
    "sexual_predator_ids_file = '../../dataset/training/pan12-sexual-predator-identification-training-corpus-predators-2012-05-01.txt'\n",
    "\n",
    "chat_based_features_csv_train='../../csv/chat_based_features_training.csv'\n",
    "chat_based_features_csv_test='../../csv/chat_based_features_test.csv'"
   ]
  },
  {
   "cell_type": "code",
   "execution_count": 141,
   "metadata": {
    "collapsed": false
   },
   "outputs": [],
   "source": [
    "#tree_test=etree.parse(test_xml)\n",
    "#silent_author_ids_test=FE.silent_author_ids(tree_test)\n",
    "minimal_number_of_messages_treshold=3"
   ]
  },
  {
   "cell_type": "code",
   "execution_count": 3,
   "metadata": {
    "collapsed": false
   },
   "outputs": [],
   "source": [
    "documents_training=FE.prepare_for_tf_idf(training_xml,False,True,minimal_number_of_messages_treshold)\n"
   ]
  },
  {
   "cell_type": "code",
   "execution_count": 5,
   "metadata": {
    "collapsed": true
   },
   "outputs": [],
   "source": [
    "document_testing=FE.prepare_for_tf_idf(test_xml,False,True,minimal_number_of_messages_treshold)"
   ]
  },
  {
   "cell_type": "code",
   "execution_count": 6,
   "metadata": {
    "collapsed": false
   },
   "outputs": [
    {
     "name": "stdout",
     "output_type": "stream",
     "text": [
      "22063\n",
      "47458\n"
     ]
    }
   ],
   "source": [
    "print(len(documents_training))\n",
    "print(len(document_testing))"
   ]
  },
  {
   "cell_type": "code",
   "execution_count": 148,
   "metadata": {
    "collapsed": false
   },
   "outputs": [
    {
     "name": "stdout",
     "output_type": "stream",
     "text": [
      "(22063, 5700)\n",
      "\n",
      "test statistics\n",
      "('acc', 0.99686038181128578)\n",
      "('rec', 0.41666666666666669)\n",
      "('prec', 0.91743119266055051)\n",
      "('f1', 0.57306590257879664)\n",
      "('f0.5', 0.73964497041420119)\n"
     ]
    }
   ],
   "source": [
    "tfidf=TfidfVectorizer(stop_words='english',min_df=3,max_features=5500,ngram_range=(1,2))\n",
    "matrix_training=tfidf.fit_transform(documents_training)\n",
    "matrix_testing=tfidf.transform(document_testing)\n",
    "\n",
    "print(matrix_training.shape)\n",
    "classifier=svm.SVC(C=0.35,kernel='linear',max_iter=100)\n",
    "classifier.fit(matrix_training,y_train)\n",
    "predicted_test=classifier.predict(matrix_testing)\n",
    "\n",
    "write_statistics(y_test,predicted_test)"
   ]
  },
  {
   "cell_type": "code",
   "execution_count": 143,
   "metadata": {
    "collapsed": false,
    "scrolled": true
   },
   "outputs": [],
   "source": [
    "train_frame=pd.DataFrame(pd.read_csv(chat_based_features_csv_train))\n",
    "test_frame=pd.DataFrame(pd.read_csv(chat_based_features_csv_test))\n"
   ]
  },
  {
   "cell_type": "code",
   "execution_count": 144,
   "metadata": {
    "collapsed": false
   },
   "outputs": [
    {
     "name": "stdout",
     "output_type": "stream",
     "text": [
      "39763\n",
      "87206\n"
     ]
    }
   ],
   "source": [
    "\n",
    "train_frame=train_frame[train_frame['number of messages sent'] >=minimal_number_of_messages_treshold]\n",
    "test_frame=test_frame[test_frame['number of messages sent']>=minimal_number_of_messages_treshold]\n",
    "print(len(train_frame))\n",
    "print(len(test_frame))"
   ]
  },
  {
   "cell_type": "code",
   "execution_count": 36,
   "metadata": {
    "collapsed": true
   },
   "outputs": [],
   "source": [
    "features=['number of conversation', 'percent of conversations started by the author', 'number of messages sent', 'average percent of lines in conversation', 'number of characters sent by the author']\n",
    "#X_train_chat_based=train_frame.ix[:,features]\n",
    "X_train_chat_based=train_frame.ix[:,1:-1]\n",
    "y_train=np.ravel(train_frame[[-1]])\n",
    "#X_test_chat_based=test_frame.ix[:,features]\n",
    "X_test_chat_based=test_frame.ix[:,1:-1]\n",
    "y_test=np.ravel(test_frame[[-1]])"
   ]
  },
  {
   "cell_type": "code",
   "execution_count": null,
   "metadata": {
    "collapsed": false
   },
   "outputs": [],
   "source": [
    "X_train = sp.sparse.hstack((X_train_chat_based, matrix_training))\n",
    "X_test = sp.sparse.hstack((X_test_chat_based, matrix_testing))\n",
    "print(X_train.shape,y_train.shape,X_test.shape,y_test.shape)"
   ]
  },
  {
   "cell_type": "code",
   "execution_count": null,
   "metadata": {
    "collapsed": false
   },
   "outputs": [],
   "source": [
    "\n",
    "scaler=StandardScaler(with_mean=False)\n",
    "X_train=scaler.fit_transform(X_train)\n",
    "X_test=scaler.transform(X_test)\n"
   ]
  },
  {
   "cell_type": "code",
   "execution_count": null,
   "metadata": {
    "collapsed": false
   },
   "outputs": [],
   "source": [
    "\n",
    "svmc=svm.SVC(kernel='linear',max_iter=100)\n",
    "lrc=linear_model.LogisticRegression(n_jobs=8,max_iter=100000,penalty='l2')\n",
    "\n",
    "\n"
   ]
  },
  {
   "cell_type": "code",
   "execution_count": null,
   "metadata": {
    "collapsed": true
   },
   "outputs": [],
   "source": [
    "#scaler=StandardScaler(with_mean=False)\n",
    "#matrix_training=scaler.fit_transform(matrix_training)\n",
    "#matrix_testing=scaler.transform(matrix_testing)"
   ]
  },
  {
   "cell_type": "code",
   "execution_count": 114,
   "metadata": {
    "collapsed": false
   },
   "outputs": [
    {
     "name": "stdout",
     "output_type": "stream",
     "text": [
      "(22063, 5100)\n"
     ]
    }
   ],
   "source": [
    "#linearsvm=svm.LinearSVC(max_iter=1000)\n",
    "#ovaj samo na tf idf daje f-score 59 uz tf idf napravljen sa TfidfVectorizer(stop_words='english',min_df=3,max_features=3500)\n",
    "#C=0.35 za fltrirane 1grame\n"
   ]
  },
  {
   "cell_type": "code",
   "execution_count": 115,
   "metadata": {
    "collapsed": false
   },
   "outputs": [
    {
     "name": "stdout",
     "output_type": "stream",
     "text": [
      "[1 1 1 1 1 1 1 1 1 1 1 1 1 1 1 1 1 1 1 1 1 1 1 1 1 1 1 1 1 1 1 1 1 1 1 1 1\n",
      " 1 1 1 1 1 1 1 1 1 1 1 1 1 1 1 1 1 1 1 1 1 1 1 1 1 1 1 1 1 1 1 1 1 1 1 1 1\n",
      " 1 1 1 1 1 1 1 1 1 1 1 1 1 1 1 1 1 1 1 1 1 1 1 1 1 1 1 1 1 1 1 1 1 1 1 1 1\n",
      " 1 1 1 1 1 1 1 1]\n",
      "(47458L,)\n",
      "(47458L,)\n",
      "\n",
      "test statistics\n",
      "('acc', 0.9969868093893548)\n",
      "('rec', 0.45000000000000001)\n",
      "('prec', 0.90756302521008403)\n",
      "('f1', 0.60167130919220047)\n",
      "('f0.5', 0.75418994413407814)\n"
     ]
    }
   ],
   "source": [
    "print(predicted_test[predicted_test==1])\n",
    "print(predicted_test.shape)\n",
    "print(y_test.shape)\n",
    "\n",
    "write_statistics(y_test,predicted_test)"
   ]
  },
  {
   "cell_type": "code",
   "execution_count": 39,
   "metadata": {
    "collapsed": false
   },
   "outputs": [],
   "source": [
    "#print(X_train.shape,y_train.shape,X_test.shape,y_test.shape)\n",
    "def write_statistics(y_test,predicted_test):\n",
    "    print(\"\\ntest statistics\")\n",
    "    print('acc',accuracy_score(y_test,predicted_test))\n",
    "    print('rec',recall_score(y_test,predicted_test))\n",
    "    print('prec',precision_score(y_test,predicted_test))\n",
    "    print('f1',f1_score(y_test,predicted_test))\n",
    "    print('f0.5',fbeta_score(y_test,predicted_test,0.5))"
   ]
  },
  {
   "cell_type": "code",
   "execution_count": 16,
   "metadata": {
    "collapsed": false
   },
   "outputs": [],
   "source": [
    "\n",
    "from sklearn.metrics import zero_one_loss\n",
    "def grid_search(model, X_train, X_validate, y_train, y_validate, crange, grange, error_surface=False):\n",
    "    cs=[]\n",
    "    i=crange[0]\n",
    "    while i<=crange[1]:\n",
    "        cs.append(2**i)\n",
    "        i+=1\n",
    "    gs=[]\n",
    "    i=grange[0]\n",
    "    while i<=grange[1]:\n",
    "        gs.append(2**i)\n",
    "        i+=1\n",
    "    matrica_valid=np.zeros((len(cs),len(gs)))\n",
    "    if(error_surface):\n",
    "        matrica_train=np.zeros((len(cs),len(gs)))\n",
    "    for i,c in enumerate(cs):\n",
    "        for j,g in enumerate(gs):\n",
    "            model.C=c\n",
    "            model.gamma=g\n",
    "            model.fit(X_train,y_train)\n",
    "            matrica_valid[i,j]=zero_one_loss(y_validate,model.predict(X_validate))\n",
    "            if(error_surface):\n",
    "                matrica_train[i,j]=zero_one_loss(y_train,model.predict(X_train))\n",
    "    flat_index=np.argmin(matrica_valid)\n",
    "    indices=unravel_index(flat_index, matrica_valid.shape)\n",
    "    kaomin=matrica_valid[indices]\n",
    "    print(\"argmin\",indices,\"vrij\",kaomin)\n",
    "    print(\"Pogreska validacije za optimalne parametre err=\",matrica_valid.min())\n",
    "    if(error_surface):\n",
    "        return ((cs[indices[0]],gs[indices[1]]),matrica_train,matrica_valid)\n",
    "    return (cs[indices[0]],gs[indices[1]])\n",
    "    \n",
    "crange=(-5,15)\n",
    "grange=(-15,3)\n"
   ]
  },
  {
   "cell_type": "code",
   "execution_count": 46,
   "metadata": {
    "collapsed": false
   },
   "outputs": [],
   "source": [
    "chat_scaler=StandardScaler()\n",
    "X_train_chat_based=chat_scaler.fit_transform(X_train_chat_based)\n",
    "X_test_chat_based=chat_scaler.transform(X_test_chat_based)"
   ]
  },
  {
   "cell_type": "code",
   "execution_count": null,
   "metadata": {
    "collapsed": false
   },
   "outputs": [],
   "source": [
    "X2_train, X2_validate, y2_train, y2_validate = train_test_split(X_train_chat_based,y_train,train_size=0.5,random_state=55)\n",
    "C_opt,g_opt=grid_search(svm.SVC(),X2_train, X2_validate, y2_train, y2_validate,crange,grange)\n",
    "\n",
    "print(C_opt,g_opt)"
   ]
  },
  {
   "cell_type": "code",
   "execution_count": 48,
   "metadata": {
    "collapsed": false
   },
   "outputs": [
    {
     "name": "stdout",
     "output_type": "stream",
     "text": [
      "\n",
      "test statistics\n",
      "('acc', 0.50954528214421169)\n",
      "('rec', 0.55000000000000004)\n",
      "('prec', 0.005665236051502146)\n",
      "('f1', 0.011214953271028037)\n",
      "('f0.5', 0.007063356164383563)\n"
     ]
    }
   ],
   "source": [
    "classifier=svm.SVC(C=1,kernel='rbf',max_iter=100)\n",
    "classifier.fit(X_train_chat_based,y_train)\n",
    "predicted_test_chat=classifier.predict(X_test_chat_based)\n",
    "write_statistics(y_test,predicted_test_chat)"
   ]
  },
  {
   "cell_type": "code",
   "execution_count": 15,
   "metadata": {
    "collapsed": false
   },
   "outputs": [
    {
     "ename": "NameError",
     "evalue": "name 'argmin' is not defined",
     "output_type": "error",
     "traceback": [
      "\u001b[1;31m---------------------------------------------------------------------------\u001b[0m",
      "\u001b[1;31mNameError\u001b[0m                                 Traceback (most recent call last)",
      "\u001b[1;32m<ipython-input-15-18b191ee151b>\u001b[0m in \u001b[0;36m<module>\u001b[1;34m()\u001b[0m\n\u001b[1;32m----> 1\u001b[1;33m \u001b[0margmin\u001b[0m\u001b[1;33m(\u001b[0m\u001b[1;33m)\u001b[0m\u001b[1;33m\u001b[0m\u001b[0m\n\u001b[0m",
      "\u001b[1;31mNameError\u001b[0m: name 'argmin' is not defined"
     ]
    }
   ],
   "source": []
  }
 ],
 "metadata": {
  "kernelspec": {
   "display_name": "Python 2",
   "language": "python",
   "name": "python2"
  },
  "language_info": {
   "codemirror_mode": {
    "name": "ipython",
    "version": 2
   },
   "file_extension": ".py",
   "mimetype": "text/x-python",
   "name": "python",
   "nbconvert_exporter": "python",
   "pygments_lexer": "ipython2",
   "version": "2.7.11"
  }
 },
 "nbformat": 4,
 "nbformat_minor": 0
}
