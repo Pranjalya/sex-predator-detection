{
 "cells": [
  {
   "cell_type": "code",
   "execution_count": 4,
   "metadata": {
    "collapsed": false
   },
   "outputs": [],
   "source": [
    "import pandas as pd\n",
    "import numpy as np\n",
    "#import itertools\n",
    "import sklearn.metrics as met\n",
    "import xgboost as xgb\n",
    "from sklearn.ensemble import RandomForestClassifier\n",
    "import scipy as sp\n",
    "\n",
    "import sys\n",
    "sys.path.insert(0, '../../notebooks/libs/')\n",
    "import FeatureExtraction as FE\n",
    "\n",
    "from sklearn.feature_extraction.text import TfidfVectorizer\n",
    "from sklearn.preprocessing import StandardScaler\n",
    "from sklearn.preprocessing import MaxAbsScaler\n",
    "from sklearn.preprocessing import MinMaxScaler\n",
    "from sklearn.preprocessing import normalize\n",
    "\n",
    "from sklearn import cross_validation, metrics   #Additional scklearn functions\n",
    "from sklearn.grid_search import GridSearchCV   #Perforing grid search\n",
    "from sklearn import metrics"
   ]
  },
  {
   "cell_type": "code",
   "execution_count": 5,
   "metadata": {
    "collapsed": true
   },
   "outputs": [],
   "source": [
    "training = pd.read_csv('../../csv/chat_based_features_training.csv')\n",
    "test = pd.read_csv('../../csv/chat_based_features_test.csv')\n",
    "\n",
    "training_xml = '../../dataset/training/pan12-sexual-predator-identification-training-corpus-2012-05-01.xml'\n",
    "test_xml = '../../dataset/test/pan12-sexual-predator-identification-test-corpus-2012-05-17.xml'"
   ]
  },
  {
   "cell_type": "code",
   "execution_count": 3,
   "metadata": {
    "collapsed": false
   },
   "outputs": [
    {
     "name": "stdout",
     "output_type": "stream",
     "text": [
      "['number of conversation', 'percent of conversations started by the author', 'difference between two preceding lines in seconds', 'number of messages sent', 'average percent of lines in conversation', 'average percent of characters in conversation', 'number of characters sent by the author', 'mean time of messages sent', 'number of unique contacted authors', 'avg number of unique authors interacted with per conversation', 'total unique authors and unique per chat difference', 'conversation num and total unique authors difference', 'average question marks per conversations', 'total question marks', 'total author question marks', 'avg author question marks', 'author and conversation quetsion mark differnece', 'author total negative in author conv', 'author total neutral in author conv', 'author total positive in author conv', ' authortotal compound in author conv', 'pos word count author', 'neg word count author', 'prof word count author']\n"
     ]
    }
   ],
   "source": [
    "documents_training = FE.prepare_for_tf_idf(training_xml, False)\n",
    "#documents_test = FE.prepare_for_tf_idf(test_xml, False)\n",
    "\n",
    "tfidf=TfidfVectorizer(stop_words='english', min_df=3, max_features=2500) #max_features=2500\n",
    "matrix_training=tfidf.fit_transform(documents_training)\n",
    "#matrix_testing=tfidf.transform(documents_test)\n",
    "\n",
    "column_names = training.columns.values.tolist()[1:-1]\n",
    "print column_names"
   ]
  },
  {
   "cell_type": "code",
   "execution_count": 4,
   "metadata": {
    "collapsed": true
   },
   "outputs": [],
   "source": [
    "training_all = sp.sparse.hstack((training[column_names], matrix_training))\n",
    "#test_all = sp.sparse.hstack((test[column_names], matrix_testing))\n",
    "\n",
    "scaler=StandardScaler(with_mean=False)\n",
    "training_all=scaler.fit_transform(training_all)\n",
    "#test_all=scaler.transform(test_all)"
   ]
  },
  {
   "cell_type": "code",
   "execution_count": 6,
   "metadata": {
    "collapsed": true
   },
   "outputs": [],
   "source": [
    "#Import libraries:\n",
    "import pandas as pd\n",
    "import numpy as np\n",
    "import xgboost as xgb\n",
    "from xgboost.sklearn import XGBClassifier\n",
    "from sklearn import cross_validation, metrics   #Additional scklearn functions\n",
    "from sklearn.grid_search import GridSearchCV   #Perforing grid search\n",
    "\n",
    "import matplotlib.pylab as plt\n",
    "%matplotlib inline\n",
    "from matplotlib.pylab import rcParams\n",
    "rcParams['figure.figsize'] = 12, 4"
   ]
  },
  {
   "cell_type": "code",
   "execution_count": 35,
   "metadata": {
    "collapsed": false
   },
   "outputs": [],
   "source": [
    "def modelfit(alg, dtrain, predictors,useTrainCV=True, cv_folds=5, early_stopping_rounds=50):\n",
    "    \n",
    "    if useTrainCV:\n",
    "        xgb_param = alg.get_xgb_params()\n",
    "        xgtrain = xgb.DMatrix(dtrain, label=training['is sexual predator'])\n",
    "        cvresult = xgb.cv(xgb_param, xgtrain, num_boost_round=alg.get_params()['n_estimators'], nfold=cv_folds,\n",
    "         show_progress=False)\n",
    "        alg.set_params(n_estimators=cvresult.shape[0])\n",
    "    \n",
    "    #Fit the algorithm on the data\n",
    "    alg.fit(dtrain, training['is sexual predator'], eval_metric='auc')\n",
    "        \n",
    "    #Predict training set:\n",
    "    dtrain_predictions = alg.predict(dtrain)\n",
    "    dtrain_predprob = alg.predict_proba(dtrain)[:,1]\n",
    "    #dtrain_predprob = alg.predict_proba(dtrain)\n",
    "        \n",
    "    #Print model report:\n",
    "    print \"\\nModel Report\"\n",
    "    print \"Accuracy : %.4g\" % metrics.accuracy_score(training['is sexual predator'], dtrain_predictions)\n",
    "    print \"AUC Score (Train): %f\" % metrics.roc_auc_score(training['is sexual predator'], dtrain_predprob)\n",
    "                    \n",
    "    feat_imp = pd.Series(alg.booster().get_fscore()).sort_values(ascending=False)\n",
    "    feat_imp.plot(kind='bar', title='Feature Importances')\n",
    "    plt.ylabel('Feature Importance Score')\n",
    "    plt.savefig('Feature importance.png', bbox_inches='tight')"
   ]
  },
  {
   "cell_type": "code",
   "execution_count": 39,
   "metadata": {
    "collapsed": false
   },
   "outputs": [
    {
     "name": "stdout",
     "output_type": "stream",
     "text": [
      "\n",
      "Model Report\n",
      "Accuracy : 1\n",
      "AUC Score (Train): 1.000000\n"
     ]
    },
    {
     "data": {
      "image/png": "[encoded data removed]",
      "text/plain": [
       "<matplotlib.figure.Figure at 0x7f63ddc80690>"
      ]
     },
     "metadata": {},
     "output_type": "display_data"
    }
   ],
   "source": [
    "xgb1 = xgb.XGBClassifier(\n",
    " learning_rate =0.1,\n",
    " n_estimators=1000,\n",
    " max_depth=5,\n",
    " min_child_weight=1,\n",
    " gamma=0,\n",
    " subsample=0.8,\n",
    " colsample_bytree=0.8,\n",
    " objective= 'binary:logistic',\n",
    " nthread=8,\n",
    " scale_pos_weight=1,\n",
    " seed=27)\n",
    "modelfit(xgb1, training_all, predictors)"
   ]
  },
  {
   "cell_type": "code",
   "execution_count": null,
   "metadata": {
    "collapsed": false
   },
   "outputs": [],
   "source": []
  },
  {
   "cell_type": "code",
   "execution_count": null,
   "metadata": {
    "collapsed": false
   },
   "outputs": [],
   "source": []
  },
  {
   "cell_type": "code",
   "execution_count": null,
   "metadata": {
    "collapsed": false
   },
   "outputs": [],
   "source": [
    "xgb = xgb.XGBClassifier(b_p)\n",
    "xgb.fit(training_sparse_chat_based, training[['is sexual predator']])\n",
    "prediction = xgb.predict(test_sparse_chat_based)"
   ]
  },
  {
   "cell_type": "code",
   "execution_count": null,
   "metadata": {
    "collapsed": false
   },
   "outputs": [],
   "source": [
    "print 'Accuracy: ', met.accuracy_score(test[['is sexual predator']], prediction) \n",
    "print 'Precision: ', met.precision_score(test[['is sexual predator']], prediction)\n",
    "print 'Recall:', met.recall_score(test[['is sexual predator']], prediction)\n",
    "print 'F1:', met.fbeta_score(test[['is sexual predator']], prediction, 1)"
   ]
  },
  {
   "cell_type": "markdown",
   "metadata": {
    "collapsed": false
   },
   "source": [
    "# XGBoost parameter tuning"
   ]
  },
  {
   "cell_type": "code",
   "execution_count": 9,
   "metadata": {
    "collapsed": true
   },
   "outputs": [],
   "source": [
    "target = 'is sexual predator'\n",
    "predictors = column_names"
   ]
  },
  {
   "cell_type": "code",
   "execution_count": 6,
   "metadata": {
    "collapsed": true
   },
   "outputs": [],
   "source": [
    "param_test1 = {\n",
    " 'max_depth':range(3,10,2),\n",
    " 'min_child_weight':range(1,6,2)\n",
    "}"
   ]
  },
  {
   "cell_type": "code",
   "execution_count": 9,
   "metadata": {
    "collapsed": false
   },
   "outputs": [],
   "source": [
    "gsearch1 = GridSearchCV(estimator = xgb.XGBClassifier( learning_rate =0.1, n_estimators=140, max_depth=5,\n",
    " min_child_weight=1, gamma=0, subsample=0.8, colsample_bytree=0.8,\n",
    " objective= 'binary:logistic', nthread=4, scale_pos_weight=1, seed=27), \n",
    " param_grid = param_test1, scoring='roc_auc',n_jobs=4,iid=False, cv=5)"
   ]
  },
  {
   "cell_type": "code",
   "execution_count": 10,
   "metadata": {
    "collapsed": false
   },
   "outputs": [
    {
     "data": {
      "text/plain": [
       "([mean: 0.99254, std: 0.00757, params: {'max_depth': 3, 'min_child_weight': 1},\n",
       "  mean: 0.99166, std: 0.00663, params: {'max_depth': 3, 'min_child_weight': 3},\n",
       "  mean: 0.99090, std: 0.00813, params: {'max_depth': 3, 'min_child_weight': 5},\n",
       "  mean: 0.99261, std: 0.00670, params: {'max_depth': 5, 'min_child_weight': 1},\n",
       "  mean: 0.99199, std: 0.00710, params: {'max_depth': 5, 'min_child_weight': 3},\n",
       "  mean: 0.98992, std: 0.00956, params: {'max_depth': 5, 'min_child_weight': 5},\n",
       "  mean: 0.99037, std: 0.00969, params: {'max_depth': 7, 'min_child_weight': 1},\n",
       "  mean: 0.99229, std: 0.00723, params: {'max_depth': 7, 'min_child_weight': 3},\n",
       "  mean: 0.99075, std: 0.00702, params: {'max_depth': 7, 'min_child_weight': 5},\n",
       "  mean: 0.99256, std: 0.00690, params: {'max_depth': 9, 'min_child_weight': 1},\n",
       "  mean: 0.99182, std: 0.00760, params: {'max_depth': 9, 'min_child_weight': 3},\n",
       "  mean: 0.99126, std: 0.00676, params: {'max_depth': 9, 'min_child_weight': 5}],\n",
       " {'max_depth': 5, 'min_child_weight': 1},\n",
       " 0.99260614107139278)"
      ]
     },
     "execution_count": 10,
     "metadata": {},
     "output_type": "execute_result"
    }
   ],
   "source": [
    "gsearch1.fit(training_all, training[target])\n",
    "gsearch1.grid_scores_, gsearch1.best_params_, gsearch1.best_score_"
   ]
  },
  {
   "cell_type": "code",
   "execution_count": 13,
   "metadata": {
    "collapsed": false
   },
   "outputs": [
    {
     "data": {
      "text/plain": [
       "([mean: 0.99392, std: 0.00515, params: {'max_depth': 4, 'min_child_weight': 0},\n",
       "  mean: 0.99363, std: 0.00569, params: {'max_depth': 4, 'min_child_weight': 1},\n",
       "  mean: 0.99365, std: 0.00581, params: {'max_depth': 4, 'min_child_weight': 2},\n",
       "  mean: 0.99244, std: 0.00782, params: {'max_depth': 5, 'min_child_weight': 0},\n",
       "  mean: 0.99261, std: 0.00670, params: {'max_depth': 5, 'min_child_weight': 1},\n",
       "  mean: 0.99266, std: 0.00785, params: {'max_depth': 5, 'min_child_weight': 2},\n",
       "  mean: 0.99288, std: 0.00744, params: {'max_depth': 6, 'min_child_weight': 0},\n",
       "  mean: 0.99198, std: 0.00759, params: {'max_depth': 6, 'min_child_weight': 1},\n",
       "  mean: 0.99209, std: 0.00784, params: {'max_depth': 6, 'min_child_weight': 2}],\n",
       " {'max_depth': 4, 'min_child_weight': 0},\n",
       " 0.99391535048996382)"
      ]
     },
     "execution_count": 13,
     "metadata": {},
     "output_type": "execute_result"
    }
   ],
   "source": [
    "param_test2 = {\n",
    " 'max_depth':[4,5,6],\n",
    " 'min_child_weight':[0,1,2]\n",
    "}\n",
    "\n",
    "gsearch2 = GridSearchCV(estimator = xgb.XGBClassifier( learning_rate=0.1, n_estimators=140, max_depth=5,\n",
    " min_child_weight=2, gamma=0, subsample=0.8, colsample_bytree=0.8,\n",
    " objective= 'binary:logistic', nthread=4, scale_pos_weight=1,seed=27), \n",
    " param_grid = param_test2, scoring='roc_auc',n_jobs=4,iid=False, cv=5)\n",
    "\n",
    "gsearch2.fit(training_all, training[target])\n",
    "gsearch2.grid_scores_, gsearch2.best_params_, gsearch2.best_score_"
   ]
  },
  {
   "cell_type": "code",
   "execution_count": 15,
   "metadata": {
    "collapsed": false
   },
   "outputs": [
    {
     "data": {
      "text/plain": [
       "([mean: 0.99019, std: 0.00737, params: {'max_depth': 2},\n",
       "  mean: 0.99235, std: 0.00739, params: {'max_depth': 3},\n",
       "  mean: 0.99392, std: 0.00515, params: {'max_depth': 4}],\n",
       " {'max_depth': 4},\n",
       " 0.99391535048996382)"
      ]
     },
     "execution_count": 15,
     "metadata": {},
     "output_type": "execute_result"
    }
   ],
   "source": [
    "param_test2 = {\n",
    " 'max_depth':[2,3,4]\n",
    "}\n",
    "\n",
    "gsearch2 = GridSearchCV(estimator = xgb.XGBClassifier( learning_rate=0.1, n_estimators=140, max_depth=5,\n",
    " min_child_weight=0, gamma=0, subsample=0.8, colsample_bytree=0.8,\n",
    " objective= 'binary:logistic', nthread=4, scale_pos_weight=1,seed=27), \n",
    " param_grid = param_test2, scoring='roc_auc',n_jobs=4,iid=False, cv=5)\n",
    "\n",
    "gsearch2.fit(training_all, training[target])\n",
    "gsearch2.grid_scores_, gsearch2.best_params_, gsearch2.best_score_"
   ]
  },
  {
   "cell_type": "code",
   "execution_count": 20,
   "metadata": {
    "collapsed": false
   },
   "outputs": [
    {
     "data": {
      "text/plain": [
       "([mean: 0.99392, std: 0.00515, params: {'gamma': 0.0},\n",
       "  mean: 0.99410, std: 0.00558, params: {'gamma': 0.1},\n",
       "  mean: 0.99296, std: 0.00576, params: {'gamma': 0.2},\n",
       "  mean: 0.99349, std: 0.00592, params: {'gamma': 0.3},\n",
       "  mean: 0.99440, std: 0.00454, params: {'gamma': 0.4}],\n",
       " {'gamma': 0.4},\n",
       " 0.99440142418451605)"
      ]
     },
     "execution_count": 20,
     "metadata": {},
     "output_type": "execute_result"
    }
   ],
   "source": [
    "param_test3 = {\n",
    " 'gamma':[i/10.0 for i in range(0,5)]\n",
    "}\n",
    "\n",
    "gsearch3 = GridSearchCV(estimator = xgb.XGBClassifier( learning_rate =0.1, n_estimators=140, max_depth=4,\n",
    " min_child_weight=0, gamma=0, subsample=0.8, colsample_bytree=0.8,\n",
    " objective= 'binary:logistic', nthread=4, scale_pos_weight=1,seed=27), \n",
    " param_grid = param_test3, scoring='roc_auc',n_jobs=4,iid=False, cv=5)\n",
    "\n",
    "gsearch3.fit(training_all, training[target])\n",
    "gsearch3.grid_scores_, gsearch3.best_params_, gsearch3.best_score_"
   ]
  },
  {
   "cell_type": "code",
   "execution_count": 40,
   "metadata": {
    "collapsed": false
   },
   "outputs": [
    {
     "data": {
      "text/plain": [
       "([mean: 0.99048, std: 0.00834, params: {'subsample': 0.6, 'colsample_bytree': 0.6},\n",
       "  mean: 0.99175, std: 0.00853, params: {'subsample': 0.7, 'colsample_bytree': 0.6},\n",
       "  mean: 0.99223, std: 0.00832, params: {'subsample': 0.8, 'colsample_bytree': 0.6},\n",
       "  mean: 0.99055, std: 0.00928, params: {'subsample': 0.9, 'colsample_bytree': 0.6},\n",
       "  mean: 0.99157, std: 0.00854, params: {'subsample': 0.6, 'colsample_bytree': 0.7},\n",
       "  mean: 0.99213, std: 0.00832, params: {'subsample': 0.7, 'colsample_bytree': 0.7},\n",
       "  mean: 0.99170, std: 0.00858, params: {'subsample': 0.8, 'colsample_bytree': 0.7},\n",
       "  mean: 0.99156, std: 0.00904, params: {'subsample': 0.9, 'colsample_bytree': 0.7},\n",
       "  mean: 0.99186, std: 0.00825, params: {'subsample': 0.6, 'colsample_bytree': 0.8},\n",
       "  mean: 0.99252, std: 0.00830, params: {'subsample': 0.7, 'colsample_bytree': 0.8},\n",
       "  mean: 0.99448, std: 0.00443, params: {'subsample': 0.8, 'colsample_bytree': 0.8},\n",
       "  mean: 0.99214, std: 0.00857, params: {'subsample': 0.9, 'colsample_bytree': 0.8},\n",
       "  mean: 0.99158, std: 0.00845, params: {'subsample': 0.6, 'colsample_bytree': 0.9},\n",
       "  mean: 0.99196, std: 0.00821, params: {'subsample': 0.7, 'colsample_bytree': 0.9},\n",
       "  mean: 0.99189, std: 0.00877, params: {'subsample': 0.8, 'colsample_bytree': 0.9},\n",
       "  mean: 0.99150, std: 0.00813, params: {'subsample': 0.9, 'colsample_bytree': 0.9}],\n",
       " {'colsample_bytree': 0.8, 'subsample': 0.8},\n",
       " 0.99448381139708941)"
      ]
     },
     "execution_count": 40,
     "metadata": {},
     "output_type": "execute_result"
    }
   ],
   "source": [
    "param_test4 = {\n",
    " 'subsample':[i/10.0 for i in range(6,10)],\n",
    " 'colsample_bytree':[i/10.0 for i in range(6,10)]\n",
    "}\n",
    "\n",
    "gsearch4 = GridSearchCV(estimator = xgb.XGBClassifier( learning_rate =0.1, n_estimators=177, max_depth=4,\n",
    " min_child_weight=0, gamma=0.4, subsample=0.8, colsample_bytree=0.8,\n",
    " objective= 'binary:logistic', nthread=4, scale_pos_weight=1,seed=27), \n",
    " param_grid = param_test4, scoring='roc_auc',n_jobs=4,iid=False, cv=5)\n",
    "\n",
    "gsearch4.fit(training_all, training[target])\n",
    "gsearch4.grid_scores_, gsearch4.best_params_, gsearch4.best_score_"
   ]
  },
  {
   "cell_type": "code",
   "execution_count": 42,
   "metadata": {
    "collapsed": false
   },
   "outputs": [
    {
     "data": {
      "text/plain": [
       "([mean: 0.99180, std: 0.00856, params: {'subsample': 0.75, 'colsample_bytree': 0.75},\n",
       "  mean: 0.99287, std: 0.00644, params: {'subsample': 0.8, 'colsample_bytree': 0.75},\n",
       "  mean: 0.99219, std: 0.00850, params: {'subsample': 0.85, 'colsample_bytree': 0.75},\n",
       "  mean: 0.99403, std: 0.00475, params: {'subsample': 0.75, 'colsample_bytree': 0.8},\n",
       "  mean: 0.99448, std: 0.00443, params: {'subsample': 0.8, 'colsample_bytree': 0.8},\n",
       "  mean: 0.99243, std: 0.00804, params: {'subsample': 0.85, 'colsample_bytree': 0.8},\n",
       "  mean: 0.99150, std: 0.00859, params: {'subsample': 0.75, 'colsample_bytree': 0.85},\n",
       "  mean: 0.99182, std: 0.00863, params: {'subsample': 0.8, 'colsample_bytree': 0.85},\n",
       "  mean: 0.99254, std: 0.00804, params: {'subsample': 0.85, 'colsample_bytree': 0.85}],\n",
       " {'colsample_bytree': 0.8, 'subsample': 0.8},\n",
       " 0.99448381139708941)"
      ]
     },
     "execution_count": 42,
     "metadata": {},
     "output_type": "execute_result"
    }
   ],
   "source": [
    "param_test5 = {\n",
    " 'subsample':[i/100.0 for i in range(75,90,5)],\n",
    " 'colsample_bytree':[i/100.0 for i in range(75,90,5)]\n",
    "}\n",
    "\n",
    "gsearch5 = GridSearchCV(estimator = XGBClassifier( learning_rate =0.1, n_estimators=177, max_depth=4,\n",
    " min_child_weight=0, gamma=0.4, subsample=0.8, colsample_bytree=0.8,\n",
    " objective= 'binary:logistic', nthread=8, scale_pos_weight=1,seed=27), \n",
    " param_grid = param_test5, scoring='roc_auc',n_jobs=8,iid=False, cv=5)\n",
    "\n",
    "gsearch5.fit(training_all, training[target])\n",
    "gsearch5.grid_scores_, gsearch4.best_params_, gsearch4.best_score_"
   ]
  },
  {
   "cell_type": "code",
   "execution_count": 10,
   "metadata": {
    "collapsed": false
   },
   "outputs": [
    {
     "data": {
      "text/plain": [
       "([mean: 0.99448, std: 0.00443, params: {'reg_alpha': 1e-05},\n",
       "  mean: 0.99184, std: 0.00884, params: {'reg_alpha': 0.01},\n",
       "  mean: 0.99145, std: 0.00883, params: {'reg_alpha': 0.1},\n",
       "  mean: 0.99325, std: 0.00608, params: {'reg_alpha': 1},\n",
       "  mean: 0.98209, std: 0.01492, params: {'reg_alpha': 100}],\n",
       " {'reg_alpha': 1e-05},\n",
       " 0.99448381139708919)"
      ]
     },
     "execution_count": 10,
     "metadata": {},
     "output_type": "execute_result"
    }
   ],
   "source": [
    "param_test6 = {\n",
    " 'reg_alpha':[1e-5, 1e-2, 0.1, 1, 100]\n",
    "}\n",
    "\n",
    "gsearch6 = GridSearchCV(estimator = XGBClassifier( learning_rate = 0.1, n_estimators=177, max_depth=4,\n",
    " min_child_weight=0, gamma=0.4, subsample=0.8, colsample_bytree=0.8,\n",
    " objective= 'binary:logistic', nthread=8, scale_pos_weight=1,seed=27), \n",
    " param_grid = param_test6, scoring='roc_auc',n_jobs=8,iid=False, cv=5)\n",
    "\n",
    "gsearch6.fit(training_all, training[target])\n",
    "gsearch6.grid_scores_, gsearch6.best_params_, gsearch6.best_score_"
   ]
  },
  {
   "cell_type": "code",
   "execution_count": 14,
   "metadata": {
    "collapsed": false
   },
   "outputs": [
    {
     "data": {
      "text/plain": [
       "([mean: 0.99448, std: 0.00443, params: {'reg_alpha': 1e-07},\n",
       "  mean: 0.99448, std: 0.00443, params: {'reg_alpha': 1e-06},\n",
       "  mean: 0.99448, std: 0.00443, params: {'reg_alpha': 1.2e-06},\n",
       "  mean: 0.99448, std: 0.00443, params: {'reg_alpha': 2.8e-06},\n",
       "  mean: 0.99448, std: 0.00443, params: {'reg_alpha': 2.3e-05}],\n",
       " {'reg_alpha': 1e-07},\n",
       " 0.99448381139708941)"
      ]
     },
     "execution_count": 14,
     "metadata": {},
     "output_type": "execute_result"
    }
   ],
   "source": [
    "param_test7 = {\n",
    " 'reg_alpha':[1e-07, 1e-06, 1.2e-06, 2.8e-06, 2.3e-05]\n",
    "}\n",
    "\n",
    "gsearch7 = GridSearchCV(estimator = XGBClassifier( learning_rate = 0.1, n_estimators=177, max_depth=4,\n",
    " min_child_weight=0, gamma=0.4, subsample=0.8, colsample_bytree=0.8,\n",
    " objective= 'binary:logistic', nthread=8, scale_pos_weight=1,seed=27, reg_alpha= 1e-05), \n",
    " param_grid = param_test7, scoring='roc_auc',n_jobs=8,iid=False, cv=5)\n",
    "\n",
    "gsearch7.fit(training_all, training[target])\n",
    "gsearch7.grid_scores_, gsearch7.best_params_, gsearch7.best_score_"
   ]
  },
  {
   "cell_type": "code",
   "execution_count": 19,
   "metadata": {
    "collapsed": false
   },
   "outputs": [
    {
     "data": {
      "text/plain": [
       "([mean: 0.94567, std: 0.02004, params: {'learning_rate': 0.001},\n",
       "  mean: 0.97379, std: 0.01453, params: {'learning_rate': 0.01},\n",
       "  mean: 0.99448, std: 0.00443, params: {'learning_rate': 0.1},\n",
       "  mean: 0.99515, std: 0.00365, params: {'learning_rate': 0.2},\n",
       "  mean: 0.99530, std: 0.00346, params: {'learning_rate': 0.3}],\n",
       " {'learning_rate': 0.3},\n",
       " 0.99529924297820105)"
      ]
     },
     "execution_count": 19,
     "metadata": {},
     "output_type": "execute_result"
    }
   ],
   "source": [
    "param_test8 = {\n",
    " 'learning_rate':[0.001, 0.01, 0.1, 0.2, 0.3]\n",
    "}\n",
    "\n",
    "gsearch8 = GridSearchCV(estimator = XGBClassifier( learning_rate = 0.1, n_estimators=177, max_depth=4,\n",
    " min_child_weight=0, gamma=0.4, subsample=0.8, colsample_bytree=0.8,\n",
    " objective= 'binary:logistic', nthread=8, scale_pos_weight=1,seed=27, reg_alpha= 1e-07), \n",
    " param_grid = param_test8, scoring='roc_auc',n_jobs=8,iid=False, cv=5)\n",
    "\n",
    "gsearch8.fit(training_all, training[target])\n",
    "gsearch8.grid_scores_, gsearch8.best_params_, gsearch8.best_score_"
   ]
  },
  {
   "cell_type": "code",
   "execution_count": 20,
   "metadata": {
    "collapsed": false
   },
   "outputs": [
    {
     "data": {
      "text/plain": [
       "([mean: 0.99516, std: 0.00373, params: {'n_estimators': 100, 'learning_rate': 0.3},\n",
       "  mean: 0.99530, std: 0.00346, params: {'n_estimators': 177, 'learning_rate': 0.3},\n",
       "  mean: 0.99556, std: 0.00335, params: {'n_estimators': 250, 'learning_rate': 0.3},\n",
       "  mean: 0.99313, std: 0.00791, params: {'n_estimators': 300, 'learning_rate': 0.3},\n",
       "  mean: 0.99232, std: 0.00847, params: {'n_estimators': 100, 'learning_rate': 0.4},\n",
       "  mean: 0.99245, std: 0.00826, params: {'n_estimators': 177, 'learning_rate': 0.4},\n",
       "  mean: 0.99246, std: 0.00809, params: {'n_estimators': 250, 'learning_rate': 0.4},\n",
       "  mean: 0.99250, std: 0.00799, params: {'n_estimators': 300, 'learning_rate': 0.4},\n",
       "  mean: 0.99337, std: 0.00781, params: {'n_estimators': 100, 'learning_rate': 0.5},\n",
       "  mean: 0.99328, std: 0.00768, params: {'n_estimators': 177, 'learning_rate': 0.5},\n",
       "  mean: 0.99355, std: 0.00796, params: {'n_estimators': 250, 'learning_rate': 0.5},\n",
       "  mean: 0.99371, std: 0.00743, params: {'n_estimators': 300, 'learning_rate': 0.5}],\n",
       " {'learning_rate': 0.3, 'n_estimators': 250},\n",
       " 0.99556444275255185)"
      ]
     },
     "execution_count": 20,
     "metadata": {},
     "output_type": "execute_result"
    }
   ],
   "source": [
    "param_test9 = {\n",
    " 'learning_rate':[0.3, 0.4, 0.5],\n",
    " 'n_estimators':[100, 177, 250, 300]\n",
    "}\n",
    "\n",
    "gsearch9 = GridSearchCV(estimator = XGBClassifier( learning_rate = 0.3, n_estimators=177, max_depth=4,\n",
    " min_child_weight=0, gamma=0.4, subsample=0.8, colsample_bytree=0.8,\n",
    " objective= 'binary:logistic', nthread=8, scale_pos_weight=1,seed=27, reg_alpha= 1e-07), \n",
    " param_grid = param_test9, scoring='roc_auc',n_jobs=8,iid=False, cv=5)\n",
    "\n",
    "gsearch9.fit(training_all, training[target])\n",
    "gsearch9.grid_scores_, gsearch9.best_params_, gsearch9.best_score_"
   ]
  },
  {
   "cell_type": "code",
   "execution_count": 21,
   "metadata": {
    "collapsed": false
   },
   "outputs": [
    {
     "data": {
      "text/plain": [
       "([mean: 0.99169, std: 0.00836, params: {'n_estimators': 200, 'learning_rate': 0.29},\n",
       "  mean: 0.99163, std: 0.00811, params: {'n_estimators': 225, 'learning_rate': 0.29},\n",
       "  mean: 0.99370, std: 0.00481, params: {'n_estimators': 250, 'learning_rate': 0.29},\n",
       "  mean: 0.99369, std: 0.00481, params: {'n_estimators': 275, 'learning_rate': 0.29},\n",
       "  mean: 0.99547, std: 0.00336, params: {'n_estimators': 200, 'learning_rate': 0.3},\n",
       "  mean: 0.99553, std: 0.00335, params: {'n_estimators': 225, 'learning_rate': 0.3},\n",
       "  mean: 0.99556, std: 0.00335, params: {'n_estimators': 250, 'learning_rate': 0.3},\n",
       "  mean: 0.99301, std: 0.00793, params: {'n_estimators': 275, 'learning_rate': 0.3},\n",
       "  mean: 0.99126, std: 0.00818, params: {'n_estimators': 200, 'learning_rate': 0.31},\n",
       "  mean: 0.99091, std: 0.00847, params: {'n_estimators': 225, 'learning_rate': 0.31},\n",
       "  mean: 0.98886, std: 0.01048, params: {'n_estimators': 250, 'learning_rate': 0.31},\n",
       "  mean: 0.98880, std: 0.01055, params: {'n_estimators': 275, 'learning_rate': 0.31}],\n",
       " {'learning_rate': 0.3, 'n_estimators': 250},\n",
       " 0.99556444275255185)"
      ]
     },
     "execution_count": 21,
     "metadata": {},
     "output_type": "execute_result"
    }
   ],
   "source": [
    "param_test10 = {\n",
    " 'learning_rate':[0.29, 0.3, 0.31],\n",
    " 'n_estimators':[200, 225, 250, 275]\n",
    "}\n",
    "\n",
    "gsearch10 = GridSearchCV(estimator = XGBClassifier( learning_rate = 0.3, n_estimators=177, max_depth=4,\n",
    " min_child_weight=0, gamma=0.4, subsample=0.8, colsample_bytree=0.8,\n",
    " objective= 'binary:logistic', nthread=8, scale_pos_weight=1,seed=27, reg_alpha= 1e-07), \n",
    " param_grid = param_test10, scoring='roc_auc',n_jobs=8,iid=False, cv=5)\n",
    "\n",
    "gsearch10.fit(training_all, training[target])\n",
    "gsearch10.grid_scores_, gsearch10.best_params_, gsearch10.best_score_"
   ]
  },
  {
   "cell_type": "markdown",
   "metadata": {
    "collapsed": true
   },
   "source": [
    "# TFIDF tuning"
   ]
  },
  {
   "cell_type": "code",
   "execution_count": 8,
   "metadata": {
    "collapsed": false
   },
   "outputs": [
    {
     "name": "stdout",
     "output_type": "stream",
     "text": [
      "['number of conversation', 'percent of conversations started by the author', 'difference between two preceding lines in seconds', 'number of messages sent', 'average percent of lines in conversation', 'average percent of characters in conversation', 'number of characters sent by the author', 'mean time of messages sent', 'number of unique contacted authors', 'avg number of unique authors interacted with per conversation', 'total unique authors and unique per chat difference', 'conversation num and total unique authors difference', 'average question marks per conversations', 'total question marks', 'total author question marks', 'avg author question marks', 'author and conversation quetsion mark differnece', 'author total negative in author conv', 'author total neutral in author conv', 'author total positive in author conv', ' authortotal compound in author conv', 'pos word count author', 'neg word count author', 'prof word count author']\n"
     ]
    }
   ],
   "source": [
    "target = 'is sexual predator'\n",
    "column_names = training.columns.values.tolist()[1:-1]\n",
    "predictors = column_names\n",
    "print column_names"
   ]
  },
  {
   "cell_type": "code",
   "execution_count": 10,
   "metadata": {
    "collapsed": false
   },
   "outputs": [
    {
     "name": "stdout",
     "output_type": "stream",
     "text": [
      "mean: 0.999088945948 stdev: 0.000166323219254\n"
     ]
    }
   ],
   "source": [
    "model = XGBClassifier( learning_rate = 0.3, n_estimators=250, max_depth=4,\n",
    " min_child_weight=0, gamma=0.4, subsample=0.8, colsample_bytree=0.8,\n",
    " objective= 'binary:logistic', nthread=8, scale_pos_weight=1,seed=27, reg_alpha= 1e-07)\n",
    "    \n",
    "scores = cross_validation.cross_val_score(model, training_all, training[target], cv=5)\n",
    "print 'mean:',scores.mean(), 'stdev:', scores.std()"
   ]
  },
  {
   "cell_type": "code",
   "execution_count": 11,
   "metadata": {
    "collapsed": false
   },
   "outputs": [
    {
     "name": "stdout",
     "output_type": "stream",
     "text": [
      "mean: 0.999088942805 stdev: 0.00018708844366\n"
     ]
    }
   ],
   "source": [
    "tfidf1=TfidfVectorizer(min_df=3, max_features=2500) #max_features=2500\n",
    "matrix_training=tfidf1.fit_transform(documents_training)\n",
    "\n",
    "training_all = sp.sparse.hstack((training[column_names], matrix_training))\n",
    "scaler=StandardScaler(with_mean=False)\n",
    "training_all=scaler.fit_transform(training_all)\n",
    "\n",
    "model = XGBClassifier( learning_rate = 0.3, n_estimators=250, max_depth=4,\n",
    " min_child_weight=0, gamma=0.4, subsample=0.8, colsample_bytree=0.8,\n",
    " objective= 'binary:logistic', nthread=8, scale_pos_weight=1,seed=27, reg_alpha= 1e-07)\n",
    "    \n",
    "scores = cross_validation.cross_val_score(model, training_all, training[target], cv=5)\n",
    "print 'mean:',scores.mean(), 'stdev:', scores.std()"
   ]
  },
  {
   "cell_type": "code",
   "execution_count": 14,
   "metadata": {
    "collapsed": false
   },
   "outputs": [
    {
     "name": "stdout",
     "output_type": "stream",
     "text": [
      "mean: 0.999078705818 stdev: 0.000125396219888\n"
     ]
    }
   ],
   "source": [
    "tfidf2=TfidfVectorizer() #max_features=2500\n",
    "matrix_training=tfidf2.fit_transform(documents_training)\n",
    "\n",
    "training_all = sp.sparse.hstack((training[column_names], matrix_training))\n",
    "scaler=StandardScaler(with_mean=False)\n",
    "training_all=scaler.fit_transform(training_all)\n",
    "\n",
    "model = XGBClassifier( learning_rate = 0.3, n_estimators=250, max_depth=4,\n",
    " min_child_weight=0, gamma=0.4, subsample=0.8, colsample_bytree=0.8,\n",
    " objective= 'binary:logistic', nthread=8, scale_pos_weight=1,seed=27, reg_alpha= 1e-07)\n",
    "    \n",
    "scores = cross_validation.cross_val_score(model, training_all, training[target], cv=5)\n",
    "print 'mean:',scores.mean(), 'stdev:', scores.std()"
   ]
  },
  {
   "cell_type": "code",
   "execution_count": 15,
   "metadata": {
    "collapsed": false
   },
   "outputs": [
    {
     "name": "stdout",
     "output_type": "stream",
     "text": [
      "mean: 0.999170838694 stdev: 0.000149741883698\n"
     ]
    }
   ],
   "source": [
    "tfidf3=TfidfVectorizer(max_features=3500) #max_features=2500\n",
    "matrix_training=tfidf3.fit_transform(documents_training)\n",
    "\n",
    "training_all = sp.sparse.hstack((training[column_names], matrix_training))\n",
    "scaler=StandardScaler(with_mean=False)\n",
    "training_all=scaler.fit_transform(training_all)\n",
    "\n",
    "model = XGBClassifier( learning_rate = 0.3, n_estimators=250, max_depth=4,\n",
    " min_child_weight=0, gamma=0.4, subsample=0.8, colsample_bytree=0.8,\n",
    " objective= 'binary:logistic', nthread=8, scale_pos_weight=1,seed=27, reg_alpha= 1e-07)\n",
    "    \n",
    "scores = cross_validation.cross_val_score(model, training_all, training[target], cv=5)\n",
    "print 'mean:',scores.mean(), 'stdev:', scores.std()"
   ]
  },
  {
   "cell_type": "code",
   "execution_count": 16,
   "metadata": {
    "collapsed": false
   },
   "outputs": [
    {
     "name": "stdout",
     "output_type": "stream",
     "text": [
      "mean: 0.999088946996 stdev: 0.000135019878429\n"
     ]
    }
   ],
   "source": [
    "tfidf4=TfidfVectorizer(max_features=4500) #max_features=2500\n",
    "matrix_training=tfidf4.fit_transform(documents_training)\n",
    "\n",
    "training_all = sp.sparse.hstack((training[column_names], matrix_training))\n",
    "scaler=StandardScaler(with_mean=False)\n",
    "training_all=scaler.fit_transform(training_all)\n",
    "\n",
    "model = XGBClassifier( learning_rate = 0.3, n_estimators=250, max_depth=4,\n",
    " min_child_weight=0, gamma=0.4, subsample=0.8, colsample_bytree=0.8,\n",
    " objective= 'binary:logistic', nthread=8, scale_pos_weight=1,seed=27, reg_alpha= 1e-07)\n",
    "    \n",
    "scores = cross_validation.cross_val_score(model, training_all, training[target], cv=5)\n",
    "print 'mean:',scores.mean(), 'stdev:', scores.std()"
   ]
  },
  {
   "cell_type": "code",
   "execution_count": 17,
   "metadata": {
    "collapsed": false
   },
   "outputs": [
    {
     "name": "stdout",
     "output_type": "stream",
     "text": [
      "mean: 0.999170835551 stdev: 0.000178489160482\n"
     ]
    }
   ],
   "source": [
    "tfidf5=TfidfVectorizer(stop_words='english', max_features=3500) #max_features=2500\n",
    "matrix_training=tfidf5.fit_transform(documents_training)\n",
    "\n",
    "training_all = sp.sparse.hstack((training[column_names], matrix_training))\n",
    "scaler=StandardScaler(with_mean=False)\n",
    "training_all=scaler.fit_transform(training_all)\n",
    "\n",
    "model = XGBClassifier( learning_rate = 0.3, n_estimators=250, max_depth=4,\n",
    " min_child_weight=0, gamma=0.4, subsample=0.8, colsample_bytree=0.8,\n",
    " objective= 'binary:logistic', nthread=8, scale_pos_weight=1,seed=27, reg_alpha= 1e-07)\n",
    "    \n",
    "scores = cross_validation.cross_val_score(model, training_all, training[target], cv=5)\n",
    "print 'mean:',scores.mean(), 'stdev:', scores.std()"
   ]
  },
  {
   "cell_type": "code",
   "execution_count": 20,
   "metadata": {
    "collapsed": false
   },
   "outputs": [
    {
     "name": "stdout",
     "output_type": "stream",
     "text": [
      "mean: 0.998945632332 stdev: 0.000184838248661\n"
     ]
    }
   ],
   "source": [
    "tfidf6=TfidfVectorizer(min_df=0.1, stop_words='english', max_features=3500) #max_features=2500\n",
    "matrix_training=tfidf6.fit_transform(documents_training)\n",
    "\n",
    "training_all = sp.sparse.hstack((training[column_names], matrix_training))\n",
    "scaler=StandardScaler(with_mean=False)\n",
    "training_all=scaler.fit_transform(training_all)\n",
    "\n",
    "model = XGBClassifier( learning_rate = 0.3, n_estimators=250, max_depth=4,\n",
    " min_child_weight=0, gamma=0.4, subsample=0.8, colsample_bytree=0.8,\n",
    " objective= 'binary:logistic', nthread=8, scale_pos_weight=1,seed=27, reg_alpha= 1e-07)\n",
    "    \n",
    "scores = cross_validation.cross_val_score(model, training_all, training[target], cv=5)\n",
    "print 'mean:',scores.mean(), 'stdev:', scores.std()"
   ]
  },
  {
   "cell_type": "code",
   "execution_count": 21,
   "metadata": {
    "collapsed": false
   },
   "outputs": [
    {
     "name": "stdout",
     "output_type": "stream",
     "text": [
      "mean: 0.999007052154 stdev: 8.31741960043e-05\n"
     ]
    }
   ],
   "source": [
    "tfidf7=TfidfVectorizer(min_df=0.2, stop_words='english', max_features=3500) #max_features=2500\n",
    "matrix_training=tfidf7.fit_transform(documents_training)\n",
    "\n",
    "training_all = sp.sparse.hstack((training[column_names], matrix_training))\n",
    "scaler=StandardScaler(with_mean=False)\n",
    "training_all=scaler.fit_transform(training_all)\n",
    "\n",
    "model = XGBClassifier( learning_rate = 0.3, n_estimators=250, max_depth=4,\n",
    " min_child_weight=0, gamma=0.4, subsample=0.8, colsample_bytree=0.8,\n",
    " objective= 'binary:logistic', nthread=8, scale_pos_weight=1,seed=27, reg_alpha= 1e-07)\n",
    "    \n",
    "scores = cross_validation.cross_val_score(model, training_all, training[target], cv=5)\n",
    "print 'mean:',scores.mean(), 'stdev:', scores.std()"
   ]
  },
  {
   "cell_type": "code",
   "execution_count": 22,
   "metadata": {
    "collapsed": false
   },
   "outputs": [
    {
     "name": "stdout",
     "output_type": "stream",
     "text": [
      "mean: 0.999007052154 stdev: 8.31741960043e-05\n"
     ]
    }
   ],
   "source": [
    "tfidf8=TfidfVectorizer(min_df=0.3, stop_words='english', max_features=3500) #max_features=2500\n",
    "matrix_training=tfidf8.fit_transform(documents_training)\n",
    "\n",
    "training_all = sp.sparse.hstack((training[column_names], matrix_training))\n",
    "scaler=StandardScaler(with_mean=False)\n",
    "training_all=scaler.fit_transform(training_all)\n",
    "\n",
    "model = XGBClassifier( learning_rate = 0.3, n_estimators=250, max_depth=4,\n",
    " min_child_weight=0, gamma=0.4, subsample=0.8, colsample_bytree=0.8,\n",
    " objective= 'binary:logistic', nthread=8, scale_pos_weight=1,seed=27, reg_alpha= 1e-07)\n",
    "    \n",
    "scores = cross_validation.cross_val_score(model, training_all, training[target], cv=5)\n",
    "print 'mean:',scores.mean(), 'stdev:', scores.std()"
   ]
  },
  {
   "cell_type": "code",
   "execution_count": 24,
   "metadata": {
    "collapsed": false
   },
   "outputs": [
    {
     "name": "stdout",
     "output_type": "stream",
     "text": [
      "mean: 0.999007052154 stdev: 8.31741960043e-05\n"
     ]
    }
   ],
   "source": [
    "tfidf9=TfidfVectorizer(min_df=0.3, max_df=0.9, stop_words='english', max_features=3500) #max_features=2500\n",
    "matrix_training=tfidf9.fit_transform(documents_training)\n",
    "\n",
    "training_all = sp.sparse.hstack((training[column_names], matrix_training))\n",
    "scaler=StandardScaler(with_mean=False)\n",
    "training_all=scaler.fit_transform(training_all)\n",
    "\n",
    "model = XGBClassifier( learning_rate = 0.3, n_estimators=250, max_depth=4,\n",
    " min_child_weight=0, gamma=0.4, subsample=0.8, colsample_bytree=0.8,\n",
    " objective= 'binary:logistic', nthread=8, scale_pos_weight=1,seed=27, reg_alpha= 1e-07)\n",
    "    \n",
    "scores = cross_validation.cross_val_score(model, training_all, training[target], cv=5)\n",
    "print 'mean:',scores.mean(), 'stdev:', scores.std()"
   ]
  },
  {
   "cell_type": "code",
   "execution_count": 25,
   "metadata": {
    "collapsed": false
   },
   "outputs": [
    {
     "name": "stdout",
     "output_type": "stream",
     "text": [
      "mean: 0.999007052154 stdev: 8.31741960043e-05\n"
     ]
    }
   ],
   "source": [
    "tfidf10=TfidfVectorizer(min_df=0.3, max_df=0.7, stop_words='english', max_features=3500) #max_features=2500\n",
    "matrix_training=tfidf10.fit_transform(documents_training)\n",
    "\n",
    "training_all = sp.sparse.hstack((training[column_names], matrix_training))\n",
    "scaler=StandardScaler(with_mean=False)\n",
    "training_all=scaler.fit_transform(training_all)\n",
    "\n",
    "model = XGBClassifier( learning_rate = 0.3, n_estimators=250, max_depth=4,\n",
    " min_child_weight=0, gamma=0.4, subsample=0.8, colsample_bytree=0.8,\n",
    " objective= 'binary:logistic', nthread=8, scale_pos_weight=1,seed=27, reg_alpha= 1e-07)\n",
    "    \n",
    "scores = cross_validation.cross_val_score(model, training_all, training[target], cv=5)\n",
    "print 'mean:',scores.mean(), 'stdev:', scores.std()"
   ]
  },
  {
   "cell_type": "code",
   "execution_count": 26,
   "metadata": {
    "collapsed": false
   },
   "outputs": [
    {
     "name": "stdout",
     "output_type": "stream",
     "text": [
      "mean: 0.998976340147 stdev: 0.000207291199574\n"
     ]
    }
   ],
   "source": [
    "tfidf11=TfidfVectorizer(binary=True, stop_words='english', max_features=3500) #max_features=2500\n",
    "matrix_training=tfidf11.fit_transform(documents_training)\n",
    "\n",
    "training_all = sp.sparse.hstack((training[column_names], matrix_training))\n",
    "scaler=StandardScaler(with_mean=False)\n",
    "training_all=scaler.fit_transform(training_all)\n",
    "\n",
    "model = XGBClassifier( learning_rate = 0.3, n_estimators=250, max_depth=4,\n",
    " min_child_weight=0, gamma=0.4, subsample=0.8, colsample_bytree=0.8,\n",
    " objective= 'binary:logistic', nthread=8, scale_pos_weight=1,seed=27, reg_alpha= 1e-07)\n",
    "    \n",
    "scores = cross_validation.cross_val_score(model, training_all, training[target], cv=5)\n",
    "print 'mean:',scores.mean(), 'stdev:', scores.std()"
   ]
  },
  {
   "cell_type": "code",
   "execution_count": 28,
   "metadata": {
    "collapsed": false
   },
   "outputs": [
    {
     "name": "stdout",
     "output_type": "stream",
     "text": [
      "mean: 0.999078707914 stdev: 0.00022193088611\n"
     ]
    }
   ],
   "source": [
    "tfidf12=TfidfVectorizer(binary=True, stop_words='english', max_features=3500, ngram_range=(1,2)) #max_features=2500\n",
    "matrix_training=tfidf12.fit_transform(documents_training)\n",
    "\n",
    "training_all = sp.sparse.hstack((training[column_names], matrix_training))\n",
    "scaler=StandardScaler(with_mean=False)\n",
    "training_all=scaler.fit_transform(training_all)\n",
    "\n",
    "model = XGBClassifier( learning_rate = 0.3, n_estimators=250, max_depth=4,\n",
    " min_child_weight=0, gamma=0.4, subsample=0.8, colsample_bytree=0.8,\n",
    " objective= 'binary:logistic', nthread=8, scale_pos_weight=1,seed=27, reg_alpha= 1e-07)\n",
    "    \n",
    "scores = cross_validation.cross_val_score(model, training_all, training[target], cv=5)\n",
    "print 'mean:',scores.mean(), 'stdev:', scores.std()"
   ]
  },
  {
   "cell_type": "code",
   "execution_count": 29,
   "metadata": {
    "collapsed": false
   },
   "outputs": [
    {
     "name": "stdout",
     "output_type": "stream",
     "text": [
      "mean: 0.999119656907 stdev: 0.000122823409061\n"
     ]
    }
   ],
   "source": [
    "tfidf13=TfidfVectorizer(stop_words='english', max_features=3500, ngram_range=(1,2)) #max_features=2500\n",
    "matrix_training=tfidf13.fit_transform(documents_training)\n",
    "\n",
    "training_all = sp.sparse.hstack((training[column_names], matrix_training))\n",
    "scaler=StandardScaler(with_mean=False)\n",
    "training_all=scaler.fit_transform(training_all)\n",
    "\n",
    "model = XGBClassifier( learning_rate = 0.3, n_estimators=250, max_depth=4,\n",
    " min_child_weight=0, gamma=0.4, subsample=0.8, colsample_bytree=0.8,\n",
    " objective= 'binary:logistic', nthread=8, scale_pos_weight=1,seed=27, reg_alpha= 1e-07)\n",
    "    \n",
    "scores = cross_validation.cross_val_score(model, training_all, training[target], cv=5)\n",
    "print 'mean:',scores.mean(), 'stdev:', scores.std()"
   ]
  },
  {
   "cell_type": "code",
   "execution_count": 8,
   "metadata": {
    "collapsed": false
   },
   "outputs": [
    {
     "name": "stdout",
     "output_type": "stream",
     "text": [
      "mean: 0.999109416777 stdev: 0.00016696572357\n"
     ]
    }
   ],
   "source": [
    "tfidf14=TfidfVectorizer(stop_words='english', max_features=3500, ngram_range=(1,3))\n",
    "matrix_training=tfidf14.fit_transform(documents_training)\n",
    "tfidf15=TfidfVectorizer(stop_words='english', max_features=3500, ngram_range=(1,2))\n",
    "matrix_training1=tfidf15.fit_transform(documents_training)\n",
    "\n",
    "training_all = sp.sparse.hstack((training[column_names], matrix_training, matrix_training1))\n",
    "scaler=StandardScaler(with_mean=False)\n",
    "training_all=scaler.fit_transform(training_all)\n",
    "\n",
    "model = XGBClassifier( learning_rate = 0.3, n_estimators=250, max_depth=4,\n",
    " min_child_weight=0, gamma=0.4, subsample=0.8, colsample_bytree=0.8,\n",
    " objective= 'binary:logistic', nthread=8, scale_pos_weight=1,seed=27, reg_alpha= 1e-07)\n",
    "    \n",
    "scores = cross_validation.cross_val_score(model, training_all, training[target], cv=5)\n",
    "print 'mean:',scores.mean(), 'stdev:', scores.std()"
   ]
  },
  {
   "cell_type": "code",
   "execution_count": 10,
   "metadata": {
    "collapsed": false
   },
   "outputs": [
    {
     "name": "stdout",
     "output_type": "stream",
     "text": [
      "mean: 0.999088942805 stdev: 8.19210455261e-05\n"
     ]
    }
   ],
   "source": [
    "tfidf16=TfidfVectorizer(stop_words='english', max_features=3500, norm='l1')\n",
    "matrix_training=tfidf16.fit_transform(documents_training)\n",
    "\n",
    "training_all = sp.sparse.hstack((training[column_names], matrix_training))\n",
    "scaler=StandardScaler(with_mean=False)\n",
    "training_all=scaler.fit_transform(training_all)\n",
    "\n",
    "model = XGBClassifier( learning_rate = 0.3, n_estimators=250, max_depth=4,\n",
    " min_child_weight=0, gamma=0.4, subsample=0.8, colsample_bytree=0.8,\n",
    " objective= 'binary:logistic', nthread=8, scale_pos_weight=1,seed=27, reg_alpha= 1e-07)\n",
    "    \n",
    "scores = cross_validation.cross_val_score(model, training_all, training[target], cv=5)\n",
    "print 'mean:',scores.mean(), 'stdev:', scores.std()"
   ]
  },
  {
   "cell_type": "code",
   "execution_count": 11,
   "metadata": {
    "collapsed": false
   },
   "outputs": [
    {
     "name": "stdout",
     "output_type": "stream",
     "text": [
      "mean: 0.999170835551 stdev: 0.000178489160482\n"
     ]
    }
   ],
   "source": [
    "tfidf16=TfidfVectorizer(stop_words='english', max_features=3500, norm='l2')\n",
    "matrix_training=tfidf16.fit_transform(documents_training)\n",
    "\n",
    "training_all = sp.sparse.hstack((training[column_names], matrix_training))\n",
    "scaler=StandardScaler(with_mean=False)\n",
    "training_all=scaler.fit_transform(training_all)\n",
    "\n",
    "model = XGBClassifier( learning_rate = 0.3, n_estimators=250, max_depth=4,\n",
    " min_child_weight=0, gamma=0.4, subsample=0.8, colsample_bytree=0.8,\n",
    " objective= 'binary:logistic', nthread=8, scale_pos_weight=1,seed=27, reg_alpha= 1e-07)\n",
    "    \n",
    "scores = cross_validation.cross_val_score(model, training_all, training[target], cv=5)\n",
    "print 'mean:',scores.mean(), 'stdev:', scores.std()"
   ]
  },
  {
   "cell_type": "code",
   "execution_count": 12,
   "metadata": {
    "collapsed": false
   },
   "outputs": [
    {
     "name": "stdout",
     "output_type": "stream",
     "text": [
      "mean: 0.999119652715 stdev: 0.00022521855922\n"
     ]
    }
   ],
   "source": [
    "tfidf16=TfidfVectorizer(stop_words='english', max_features=3500, smooth_idf=False)\n",
    "matrix_training=tfidf16.fit_transform(documents_training)\n",
    "\n",
    "training_all = sp.sparse.hstack((training[column_names], matrix_training))\n",
    "scaler=StandardScaler(with_mean=False)\n",
    "training_all=scaler.fit_transform(training_all)\n",
    "\n",
    "model = XGBClassifier( learning_rate = 0.3, n_estimators=250, max_depth=4,\n",
    " min_child_weight=0, gamma=0.4, subsample=0.8, colsample_bytree=0.8,\n",
    " objective= 'binary:logistic', nthread=8, scale_pos_weight=1,seed=27, reg_alpha= 1e-07)\n",
    "    \n",
    "scores = cross_validation.cross_val_score(model, training_all, training[target], cv=5)\n",
    "print 'mean:',scores.mean(), 'stdev:', scores.std()"
   ]
  },
  {
   "cell_type": "code",
   "execution_count": 13,
   "metadata": {
    "collapsed": false
   },
   "outputs": [
    {
     "name": "stdout",
     "output_type": "stream",
     "text": [
      "mean: 0.999037755778 stdev: 0.000213286308414\n"
     ]
    }
   ],
   "source": [
    "tfidf16=TfidfVectorizer(stop_words='english', max_features=3500, sublinear_tf=True)\n",
    "matrix_training=tfidf16.fit_transform(documents_training)\n",
    "\n",
    "training_all = sp.sparse.hstack((training[column_names], matrix_training))\n",
    "scaler=StandardScaler(with_mean=False)\n",
    "training_all=scaler.fit_transform(training_all)\n",
    "\n",
    "model = XGBClassifier( learning_rate = 0.3, n_estimators=250, max_depth=4,\n",
    " min_child_weight=0, gamma=0.4, subsample=0.8, colsample_bytree=0.8,\n",
    " objective= 'binary:logistic', nthread=8, scale_pos_weight=1,seed=27, reg_alpha= 1e-07)\n",
    "    \n",
    "scores = cross_validation.cross_val_score(model, training_all, training[target], cv=5)\n",
    "print 'mean:',scores.mean(), 'stdev:', scores.std()"
   ]
  },
  {
   "cell_type": "code",
   "execution_count": 32,
   "metadata": {
    "collapsed": true
   },
   "outputs": [],
   "source": [
    "training = pd.read_csv('../../csv/chat_based_features_training.csv')\n",
    "test = pd.read_csv('../../csv/chat_based_features_test.csv')\n",
    "\n",
    "training_xml = '../../dataset/training/pan12-sexual-predator-identification-training-corpus-2012-05-01.xml'\n",
    "test_xml = '../../dataset/test/pan12-sexual-predator-identification-test-corpus-2012-05-17.xml'"
   ]
  },
  {
   "cell_type": "code",
   "execution_count": 14,
   "metadata": {
    "collapsed": false
   },
   "outputs": [
    {
     "name": "stdout",
     "output_type": "stream",
     "text": [
      "mean: 0.995422627301 stdev: 0.00120478892548\n"
     ]
    }
   ],
   "source": [
    "minimal_number_of_messages_treshold = 10\n",
    "\n",
    "documents_training=FE.prepare_for_tf_idf(training_xml, False, True, minimal_number_of_messages_treshold)\n",
    "tfidf=TfidfVectorizer(stop_words='english', max_features=3500, sublinear_tf=True)\n",
    "matrix_training=tfidf.fit_transform(documents_training)\n",
    "\n",
    "training = training[training['number of messages sent'] \n",
    "                                      >= minimal_number_of_messages_treshold]\n",
    "\n",
    "training_all = sp.sparse.hstack((training[column_names], matrix_training))\n",
    "scaler=StandardScaler(with_mean=False)\n",
    "training_all=scaler.fit_transform(training_all)\n",
    "\n",
    "model = XGBClassifier( learning_rate = 0.3, n_estimators=250, max_depth=4,\n",
    " min_child_weight=0, gamma=0.4, subsample=0.8, colsample_bytree=0.8,\n",
    " objective= 'binary:logistic', nthread=8, scale_pos_weight=1,seed=27, reg_alpha= 1e-07)\n",
    "    \n",
    "scores = cross_validation.cross_val_score(model, training_all, training[target], cv=5)\n",
    "print 'mean:',scores.mean(), 'stdev:', scores.std()"
   ]
  },
  {
   "cell_type": "code",
   "execution_count": 16,
   "metadata": {
    "collapsed": false
   },
   "outputs": [
    {
     "name": "stdout",
     "output_type": "stream",
     "text": [
      "mean: 0.997686293797 stdev: 0.000369598731734\n"
     ]
    }
   ],
   "source": [
    "minimal_number_of_messages_treshold = 3\n",
    "\n",
    "documents_training=FE.prepare_for_tf_idf(training_xml, True, True, minimal_number_of_messages_treshold)\n",
    "tfidf=TfidfVectorizer(stop_words='english', max_features=3500, sublinear_tf=True)\n",
    "matrix_training=tfidf.fit_transform(documents_training)\n",
    "\n",
    "training = training[training['number of messages sent'] \n",
    "                                      >= minimal_number_of_messages_treshold]\n",
    "\n",
    "training_all = sp.sparse.hstack((training[column_names], matrix_training))\n",
    "scaler=StandardScaler(with_mean=False)\n",
    "training_all=scaler.fit_transform(training_all)\n",
    "\n",
    "model = XGBClassifier( learning_rate = 0.3, n_estimators=250, max_depth=4,\n",
    " min_child_weight=0, gamma=0.4, subsample=0.8, colsample_bytree=0.8,\n",
    " objective= 'binary:logistic', nthread=8, scale_pos_weight=1,seed=27, reg_alpha= 1e-07)\n",
    "    \n",
    "scores = cross_validation.cross_val_score(model, training_all, training[target], cv=5)\n",
    "print 'mean:',scores.mean(), 'stdev:', scores.std()"
   ]
  },
  {
   "cell_type": "code",
   "execution_count": 27,
   "metadata": {
    "collapsed": false
   },
   "outputs": [
    {
     "name": "stdout",
     "output_type": "stream",
     "text": [
      "mean: 0.998904683339 stdev: 0.000139640622358\n"
     ]
    }
   ],
   "source": [
    "minimal_number_of_messages_treshold = 0\n",
    "\n",
    "training = training[training['number of messages sent'] \n",
    "                                      >= minimal_number_of_messages_treshold]\n",
    "\n",
    "training_all = training\n",
    "#scaler=StandardScaler(with_mean=False)\n",
    "#training_all=scaler.fit_transform(training_all)\n",
    "\n",
    "model = XGBClassifier( learning_rate = 0.3, n_estimators=250, max_depth=4,\n",
    " min_child_weight=0, gamma=0.4, subsample=0.8, colsample_bytree=0.8,\n",
    " objective= 'binary:logistic', nthread=8, scale_pos_weight=1,seed=27, reg_alpha= 1e-07)\n",
    "    \n",
    "scores = cross_validation.cross_val_score(model, training_all[column_names], training[target], cv=5)\n",
    "print 'mean:',scores.mean(), 'stdev:', scores.std()"
   ]
  },
  {
   "cell_type": "code",
   "execution_count": 31,
   "metadata": {
    "collapsed": false
   },
   "outputs": [
    {
     "name": "stdout",
     "output_type": "stream",
     "text": [
      "mean: 0.984288914558 stdev: 0.00389346009686\n"
     ]
    }
   ],
   "source": [
    "training = pd.read_csv('../../csv/chat_based_features_training.csv')\n",
    "test = pd.read_csv('../../csv/chat_based_features_test.csv')\n",
    "\n",
    "training_xml = '../../dataset/training/pan12-sexual-predator-identification-training-corpus-2012-05-01.xml'\n",
    "test_xml = '../../dataset/test/pan12-sexual-predator-identification-test-corpus-2012-05-17.xml'\n",
    "\n",
    "minimal_number_of_messages_treshold = 1\n",
    "\n",
    "training = training[training['number of messages sent'] \n",
    "                                      >= minimal_number_of_messages_treshold]\n",
    "\n",
    "training = training[training['number of conversation'] \n",
    "                                      > 1]\n",
    "\n",
    "training_all = training\n",
    "#scaler=StandardScaler(with_mean=False)\n",
    "#training_all=scaler.fit_transform(training_all)\n",
    "\n",
    "model = XGBClassifier( learning_rate = 0.3, n_estimators=250, max_depth=4,\n",
    " min_child_weight=0, gamma=0.4, subsample=0.8, colsample_bytree=0.8,\n",
    " objective= 'binary:logistic', nthread=8, scale_pos_weight=1,seed=27, reg_alpha= 1e-07)\n",
    "    \n",
    "scores = cross_validation.cross_val_score(model, training_all[column_names], training[target], cv=5)\n",
    "print 'mean:',scores.mean(), 'stdev:', scores.std()"
   ]
  },
  {
   "cell_type": "code",
   "execution_count": 30,
   "metadata": {
    "collapsed": false
   },
   "outputs": [
    {
     "name": "stdout",
     "output_type": "stream",
     "text": [
      "['number of conversation', 'percent of conversations started by the author', 'difference between two preceding lines in seconds', 'number of messages sent', 'average percent of lines in conversation', 'average percent of characters in conversation', 'number of characters sent by the author', 'mean time of messages sent', 'number of unique contacted authors', 'avg number of unique authors interacted with per conversation', 'total unique authors and unique per chat difference', 'conversation num and total unique authors difference', 'average question marks per conversations', 'total question marks', 'total author question marks', 'avg author question marks', 'author and conversation quetsion mark differnece', 'author total negative in author conv', 'author total neutral in author conv', 'author total positive in author conv', ' authortotal compound in author conv', 'pos word count author', 'neg word count author', 'prof word count author']\n"
     ]
    }
   ],
   "source": [
    "print column_names"
   ]
  },
  {
   "cell_type": "code",
   "execution_count": 33,
   "metadata": {
    "collapsed": false
   },
   "outputs": [
    {
     "name": "stdout",
     "output_type": "stream",
     "text": [
      "mean: 0.999047996955 stdev: 0.000166964696503\n"
     ]
    }
   ],
   "source": [
    "tfidf16=TfidfVectorizer(stop_words='english', max_features=3500, norm='l2')\n",
    "matrix_training=tfidf16.fit_transform(documents_training)\n",
    "\n",
    "training_all = sp.sparse.hstack((training[column_names], matrix_training))\n",
    "#scaler=StandardScaler(with_mean=False)\n",
    "#training_all=scaler.fit_transform(training_all)\n",
    "\n",
    "model = XGBClassifier( learning_rate = 0.3, n_estimators=250, max_depth=4,\n",
    " min_child_weight=0, gamma=0.4, subsample=0.8, colsample_bytree=0.8,\n",
    " objective= 'binary:logistic', nthread=8, scale_pos_weight=1,seed=27, reg_alpha= 1e-07)\n",
    "    \n",
    "scores = cross_validation.cross_val_score(model, training_all, training[target], cv=5)\n",
    "print 'mean:',scores.mean(), 'stdev:', scores.std()"
   ]
  },
  {
   "cell_type": "code",
   "execution_count": 37,
   "metadata": {
    "collapsed": false
   },
   "outputs": [
    {
     "name": "stdout",
     "output_type": "stream",
     "text": [
      "\n",
      "Model Report\n",
      "Accuracy : 1\n",
      "AUC Score (Train): 1.000000\n"
     ]
    },
    {
     "data": {
      "image/png": "[encoded data removed]",
      "text/plain": [
       "<matplotlib.figure.Figure at 0x7fa2ae975b90>"
      ]
     },
     "metadata": {},
     "output_type": "display_data"
    }
   ],
   "source": [
    "modelfit(model, training[column_names], predictors)"
   ]
  },
  {
   "cell_type": "code",
   "execution_count": null,
   "metadata": {
    "collapsed": true
   },
   "outputs": [],
   "source": []
  }
 ],
 "metadata": {
  "kernelspec": {
   "display_name": "Python 2",
   "language": "python",
   "name": "python2"
  },
  "language_info": {
   "codemirror_mode": {
    "name": "ipython",
    "version": 2
   },
   "file_extension": ".py",
   "mimetype": "text/x-python",
   "name": "python",
   "nbconvert_exporter": "python",
   "pygments_lexer": "ipython2",
   "version": "2.7.11"
  }
 },
 "nbformat": 4,
 "nbformat_minor": 0
}
