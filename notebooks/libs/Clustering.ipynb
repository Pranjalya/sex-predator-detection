{
 "cells": [
  {
   "cell_type": "code",
   "execution_count": null,
   "metadata": {
    "collapsed": false
   },
   "outputs": [],
   "source": [
    "import scipy\n",
    "import sys\n",
    "import pandas as pd\n",
    "import numpy as np\n",
    "from lxml import etree\n",
    "import FeatureExtraction as FE\n",
    "from sklearn.cluster import KMeans\n",
    "sys.path.insert(0, '../notebooks/libs/')"
   ]
  },
  {
   "cell_type": "code",
   "execution_count": null,
   "metadata": {
    "collapsed": false
   },
   "outputs": [],
   "source": [
    "# ucitavanje corpusa i ID-eva predatora iz prethodne faze\n",
    "pathToFile='../../dataset/test/pan12-sexual-predator-identification-test-corpus-2012-05-17.xml'\n",
    "#pathToIds = '../../dataset/test/pan12-sexual-predator-identification-groundtruth-problem1.txt'\n",
    "#predators_ids = FE.sexual_predator_ids(pathToIds)\n",
    "pathToIds = '../../notebooks/models/classified_preadtors_822.txt'\n",
    "tree=etree.parse(pathToFile)\n",
    "\n",
    "#ucitaj ids predatora iz datoteke\n",
    "f = open(pathToIds,'r')\n",
    "predators_ids = f.read().split('\\n')[:-1]"
   ]
  },
  {
   "cell_type": "code",
   "execution_count": null,
   "metadata": {
    "collapsed": true
   },
   "outputs": [],
   "source": [
    "# !!!PAZI! Izvodi samo ako zelis nac vokabular iz najboljih znacajki SVM-a \n",
    "training_xml = '../../dataset/training/pan12-sexual-predator-identification-training-corpus-2012-05-01.xml'\n",
    "test_xml = '../../dataset/test/pan12-sexual-predator-identification-test-corpus-2012-05-17.xml'\n",
    "\n",
    "sexual_predator_ids_file = '../../dataset/training/pan12-sexual-predator-identification-training-corpus-predators-2012-05-01.txt'\n",
    "\n",
    "chat_based_features_csv_train='../../csv/chat_based_features_training.csv'\n",
    "chat_based_features_csv_test='../../csv/chat_based_features_test.csv'"
   ]
  },
  {
   "cell_type": "code",
   "execution_count": null,
   "metadata": {
    "collapsed": false
   },
   "outputs": [],
   "source": [
    "# !!!PAZI! Izvodi samo ako zelis nac vokabular iz najboljih znacajki SVM-a  \n",
    "minimal_number_of_messages_treshold=5\n",
    "train_frame=pd.DataFrame(pd.read_csv(chat_based_features_csv_train))\n",
    "test_frame=pd.DataFrame(pd.read_csv(chat_based_features_csv_test))\n",
    "train_frame=train_frame[train_frame['number of messages sent'] >=minimal_number_of_messages_treshold]\n",
    "test_frame=test_frame[test_frame['number of messages sent']>=minimal_number_of_messages_treshold]\n",
    "y_train=np.ravel(train_frame[[-1]])\n",
    "y_test=np.ravel(test_frame[[-1]])"
   ]
  },
  {
   "cell_type": "code",
   "execution_count": null,
   "metadata": {
    "collapsed": true
   },
   "outputs": [],
   "source": [
    "# !!!PAZI! Izvodi samo ako zelis nac vokabular iz najboljih znacajki SVM-a \n",
    "# OVO TRAJE STOLJECIMA. Izvodi samo ako bas trebas :) \n",
    "documents_training=FE.prepare_for_tf_idf(training_xml,False,True,minimal_number_of_messages_treshold)\n",
    "document_testing=FE.prepare_for_tf_idf(test_xml,False,True,minimal_number_of_messages_treshold)"
   ]
  },
  {
   "cell_type": "code",
   "execution_count": null,
   "metadata": {
    "collapsed": false
   },
   "outputs": [],
   "source": [
    "# !!!PAZI! Izvodi samo ako zelis nac vokabular iz najboljih znacajki SVM-a \n",
    "from sklearn.feature_extraction.text import TfidfVectorizer\n",
    "tfidf=TfidfVectorizer(stop_words='english',min_df=10,max_df=0.5)\n",
    "matrix_training=tfidf.fit_transform(documents_training)\n",
    "matrix_testing=tfidf.transform(document_testing)"
   ]
  },
  {
   "cell_type": "code",
   "execution_count": null,
   "metadata": {
    "collapsed": false
   },
   "outputs": [],
   "source": [
    "# !!!PAZI! Izvodi samo ako zelis nac vokabular iz najboljih znacajki SVM-a \n",
    "from sklearn import svm\n",
    "classifier=svm.SVC(C=0.7454,kernel='linear',max_iter=100)\n",
    "classifier.fit(matrix_training,y_train)"
   ]
  },
  {
   "cell_type": "code",
   "execution_count": null,
   "metadata": {
    "collapsed": false
   },
   "outputs": [],
   "source": [
    "# !!!PAZI! Izvodi samo ako zelis nac vokabular iz najboljih znacajki SVM-a \n",
    "# vrati vokabular iz najboljih znacajki SVM-a kao listu\n",
    "max_features=500\n",
    "sortedIndices=np.array(np.argsort(abs(classifier.coef_.todense())))\n",
    "k=list(sortedIndices[0])\n",
    "ks=k[len(k)-max_features:]\n",
    "names=np.array(tfidf.get_feature_names())\n",
    "voc= names[ks]\n",
    "lll= list(voc)"
   ]
  },
  {
   "cell_type": "code",
   "execution_count": null,
   "metadata": {
    "collapsed": true
   },
   "outputs": [],
   "source": [
    "# path_to_file - put do xml datoteke\n",
    "# predator_ids - lista id seksualnih predatora\n",
    "# returns: conv_ids - ids konverzacija, line_nrs - brojevi linija, line_texts - sadrzaj linija teksta\n",
    "def prepare_data_for_clustering(path_to_file,predators_ids):\n",
    "    tree = etree.parse(pathToFile)\n",
    "    dictionary = FE.extract_author_conversation_node_dictionary_from_XML(tree)\n",
    "    #lista konverzacija u kojima sudjeluje predator\n",
    "    conversations = []\n",
    "    conv_ids = []\n",
    "    line_nrs = []\n",
    "    line_texts = []\n",
    "    for predator in predators_ids:\n",
    "        convs = dictionary[predator]\n",
    "        for c in convs:\n",
    "            conversations.append(c)\n",
    "    for conv_node in conversations:\n",
    "        conv_id  = conv_node.attrib[\"id\"]\n",
    "        messgs = conv_node.xpath(\"./message\")\n",
    "        for mess_node in messgs:          \n",
    "            text = mess_node.xpath(\"./text\")[0].text\n",
    "            if text is None:\n",
    "                continue\n",
    "            if len(text.split(\" \"))<2:\n",
    "                continue\n",
    "            conv_ids.append(conv_id)\n",
    "            line_nr = mess_node.attrib[\"line\"]\n",
    "            line_nrs.append(line_nr)\n",
    "            line_texts.append(text)\n",
    "    return conv_ids,line_nrs,line_texts"
   ]
  },
  {
   "cell_type": "code",
   "execution_count": null,
   "metadata": {
    "collapsed": false
   },
   "outputs": [],
   "source": [
    "# priprema podataka za clustering \n",
    "conv_ids,line_nrs,line_texts = prepare_data_for_clustering(pathToFile,predators_ids)"
   ]
  },
  {
   "cell_type": "code",
   "execution_count": null,
   "metadata": {
    "collapsed": true
   },
   "outputs": [],
   "source": [
    "# funkcija stvara tf-idf matricu na temelju odabranog vokabulara\n",
    "from sklearn.feature_extraction.text import TfidfVectorizer\n",
    "def make_tf_idf_matrix_for_clustering_from_XML(line_texts,vocab):\n",
    "    tfidf=TfidfVectorizer(stop_words='english',min_df=10,vocabulary = vocab)\n",
    "    return tfidf.fit_transform(line_texts), tfidf.get_feature_names()"
   ]
  },
  {
   "cell_type": "code",
   "execution_count": null,
   "metadata": {
    "collapsed": false
   },
   "outputs": [],
   "source": [
    "# odabir vokabulara iz datoteke\n",
    "path_to_vocab = 'profanity.txt'\n",
    "f = open(path_to_vocab,'r')\n",
    "prof=set(f.read().split('\\n'))"
   ]
  },
  {
   "cell_type": "code",
   "execution_count": null,
   "metadata": {
    "collapsed": false
   },
   "outputs": [],
   "source": [
    "# stvaranje tf-idf matrice, na temelju odabranog vokabulara\n",
    "matrix, ft_names = make_tf_idf_matrix_for_clustering_from_XML(line_texts,lll)\n",
    "matrix.shape"
   ]
  },
  {
   "cell_type": "code",
   "execution_count": null,
   "metadata": {
    "collapsed": true
   },
   "outputs": [],
   "source": [
    "# CLUSTERING: k - means algoritam, 2 klase\n",
    "random_state = 42\n",
    "y_pred = KMeans(n_clusters=2, random_state=random_state).fit_predict(matrix)"
   ]
  },
  {
   "cell_type": "code",
   "execution_count": null,
   "metadata": {
    "collapsed": false
   },
   "outputs": [],
   "source": [
    "#ako je flag true, u file ce se ispisati i sadrzaj recenica\n",
    "#ako je flag false, file je u formatu id konverzacije, broj linije\n",
    "import codecs\n",
    "def dump_prediction_to_file(prediction_vector,conv_ids,line_nrs,line_texts,show_text=True):\n",
    "    f = codecs.open('../../dataset/class_zero.txt','w','utf-8')\n",
    "    g = codecs.open('../../dataset/class_one.txt','w','utf-8')\n",
    "    for i,p in enumerate(prediction_vector):\n",
    "        if p==0:\n",
    "            line = str(conv_ids[i])+\"\\t\"+str(line_nrs[i])\n",
    "            if show_text:\n",
    "                line+=\"\\t\"+line_texts[i]+\"\\n\"\n",
    "            else:\n",
    "                line+=\"\\n\"\n",
    "            f.write(line)\n",
    "        else:\n",
    "            line = str(conv_ids[i])+\"\\t\"+str(line_nrs[i])\n",
    "            if show_text:\n",
    "                line+=\"\\t\"+line_texts[i]+\"\\n\"\n",
    "            else:\n",
    "                line+=\"\\n\"\n",
    "            g.write(line)\n",
    "            \n",
    "    f.close()\n",
    "    g.close()\n",
    "    "
   ]
  },
  {
   "cell_type": "code",
   "execution_count": null,
   "metadata": {
    "collapsed": false
   },
   "outputs": [],
   "source": [
    "#upis rezultata clusteringa u datoteku\n",
    "dump_prediction_to_file(y_pred,conv_ids,line_nrs,line_texts,show_text=True)"
   ]
  },
  {
   "cell_type": "code",
   "execution_count": null,
   "metadata": {
    "collapsed": false
   },
   "outputs": [],
   "source": [
    "def get_clustering_results_as_set(pathToFile):\n",
    "    f = open(pathToFile,'r')\n",
    "    elements = f.read().split('\\n')\n",
    "    return set(elements)"
   ]
  },
  {
   "cell_type": "code",
   "execution_count": null,
   "metadata": {
    "collapsed": true
   },
   "outputs": [],
   "source": [
    "def pronadi_presjek(s1,s2):\n",
    "    return len(s1.intersection(s2)),len(s1.difference(s2))"
   ]
  },
  {
   "cell_type": "code",
   "execution_count": null,
   "metadata": {
    "collapsed": true
   },
   "outputs": [],
   "source": [
    "# putanje do datoteka s rezultatima i groundtruth problema\n",
    "path1 = '../../dataset/class_zero.txt'\n",
    "path2 = '../../dataset/class_one.txt'\n",
    "path3 = '../../dataset/test/pan12-sexual-predator-identification-groundtruth-problem2.txt'"
   ]
  },
  {
   "cell_type": "code",
   "execution_count": null,
   "metadata": {
    "collapsed": false
   },
   "outputs": [],
   "source": [
    "# spremanje rezultata iz datoteka u setove\n",
    "s1 = get_clustering_results_as_set(path1)\n",
    "s2 = get_clustering_results_as_set(path2)\n",
    "s3 = get_clustering_results_as_set(path3)"
   ]
  },
  {
   "cell_type": "code",
   "execution_count": null,
   "metadata": {
    "collapsed": false
   },
   "outputs": [],
   "source": [
    "# pronalazak presjeka i razlike s groundtruthom za oba clustera\n",
    "p1,r1 = pronadi_presjek(s1,s3)\n",
    "p2,r2 = pronadi_presjek(s2,s3)\n",
    "\n",
    "# ispis rezultata\n",
    "print \"presjek0: \" +str(p1)\n",
    "print \"presjek1: \" +str(p2)\n",
    "print \"razlika0: \"+str(r1)\n",
    "print \"razlika1: \"+str(r2)"
   ]
  },
  {
   "cell_type": "code",
   "execution_count": null,
   "metadata": {
    "collapsed": false
   },
   "outputs": [],
   "source": [
    "# recall = koliko smo detektirali/kolko smo ih trebali detektirati\n",
    "# number_of_suggestive_lines = len(s3)\n",
    "\n",
    "#detektirano u clusteru 0 = p1\n",
    "recall_1 = (1.0*p1)/len(s3)\n",
    "print \"recall 1: \" + str(recall_1)\n",
    "\n",
    "#detektirano u clusteru 1 = p2\n",
    "recall_2 = (1.0*p2)/len(s3) \n",
    "print \"recall 2: \" + str(recall_2)"
   ]
  },
  {
   "cell_type": "code",
   "execution_count": null,
   "metadata": {
    "collapsed": false
   },
   "outputs": [],
   "source": [
    "# precision = kolko smo detektirali/duljina naseg clustera\n",
    "precision_1 = (1.0*p1)/len(s1)\n",
    "print \"precision 1: \"+str(precision_1)\n",
    "\n",
    "precision_2 = (1.0*p2)/len(s2)\n",
    "print \"precision 2: \"+str(precision_2)"
   ]
  },
  {
   "cell_type": "code",
   "execution_count": null,
   "metadata": {
    "collapsed": false
   },
   "outputs": [],
   "source": [
    "#f-measure\n",
    "def f_measure(p,r,beta):\n",
    "    f = (1+beta*beta)*(p*r)\n",
    "    f = (1.0)*f/((beta*beta*p)+r)\n",
    "    return f"
   ]
  },
  {
   "cell_type": "code",
   "execution_count": null,
   "metadata": {
    "collapsed": false
   },
   "outputs": [],
   "source": [
    "# rezultati F3 - mjere za oba clustera\n",
    "f3_1 = f_measure(precision_1,recall_1,3)\n",
    "print \"1) f3: \"+str(f3_1)\n",
    "\n",
    "f3_2 = f_measure(precision_2,recall_2,3)\n",
    "print \"2) f3: \"+str(f3_2)"
   ]
  },
  {
   "cell_type": "markdown",
   "metadata": {},
   "source": [
    "Ispitivanja različitih vokabulara."
   ]
  },
  {
   "cell_type": "code",
   "execution_count": null,
   "metadata": {
    "collapsed": true
   },
   "outputs": [],
   "source": [
    "path_to_vocab = 'negative.txt'\n",
    "f = open(path_to_vocab,'r')\n",
    "neg=set(f.read().split('\\n'))"
   ]
  },
  {
   "cell_type": "code",
   "execution_count": null,
   "metadata": {
    "collapsed": false
   },
   "outputs": [],
   "source": [
    "path_to_vocab = 'profanity.txt'\n",
    "f = open(path_to_vocab,'r')\n",
    "prof=set(f.read().split('\\n'))"
   ]
  },
  {
   "cell_type": "code",
   "execution_count": null,
   "metadata": {
    "collapsed": false
   },
   "outputs": [],
   "source": [
    "final_vocab = neg.union(prof)"
   ]
  },
  {
   "cell_type": "markdown",
   "metadata": {},
   "source": [
    "Konkatenacija SVM i prostog vokabulara."
   ]
  },
  {
   "cell_type": "code",
   "execution_count": null,
   "metadata": {
    "collapsed": false
   },
   "outputs": [],
   "source": [
    "final_vocab = set(lll).union(neg).union(prof)"
   ]
  },
  {
   "cell_type": "code",
   "execution_count": null,
   "metadata": {
    "collapsed": false
   },
   "outputs": [],
   "source": [
    "matrix, ft_names = make_tf_idf_matrix_for_clustering_from_XML(line_texts,final_vocab)\n",
    "matrix.shape"
   ]
  },
  {
   "cell_type": "code",
   "execution_count": null,
   "metadata": {
    "collapsed": false
   },
   "outputs": [],
   "source": [
    "s2.intersection(s3)"
   ]
  },
  {
   "cell_type": "code",
   "execution_count": null,
   "metadata": {
    "collapsed": true
   },
   "outputs": [],
   "source": []
  }
 ],
 "metadata": {
  "kernelspec": {
   "display_name": "Python 2",
   "language": "python",
   "name": "python2"
  },
  "language_info": {
   "codemirror_mode": {
    "name": "ipython",
    "version": 2
   },
   "file_extension": ".py",
   "mimetype": "text/x-python",
   "name": "python",
   "nbconvert_exporter": "python",
   "pygments_lexer": "ipython2",
   "version": "2.7.10"
  }
 },
 "nbformat": 4,
 "nbformat_minor": 0
}
