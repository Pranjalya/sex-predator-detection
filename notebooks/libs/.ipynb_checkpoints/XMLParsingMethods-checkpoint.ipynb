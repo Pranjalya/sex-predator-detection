{
 "cells": [
  {
   "cell_type": "code",
   "execution_count": 6,
   "metadata": {
    "collapsed": true
   },
   "outputs": [],
   "source": [
    "import scipy\n",
    "from lxml import etree\n"
   ]
  },
  {
   "cell_type": "code",
   "execution_count": 98,
   "metadata": {
    "collapsed": false
   },
   "outputs": [],
   "source": [
    "pathToFile='../../dataset/pan12-sexual-predator-identification-training-corpus-2012-05-01.xml'\n",
    "tree=etree.parse(pathToFile)\n",
    "razg=tree.xpath('/conversations/conversation')\n",
    "#print(razg)"
   ]
  },
  {
   "cell_type": "code",
   "execution_count": 94,
   "metadata": {
    "collapsed": false
   },
   "outputs": [],
   "source": [
    "def extract_text_between_tags(node):\n",
    "    return \"\".join([x for x in node.itertext()])\n",
    "\n",
    "def n_of_people_in_chat(conversation):\n",
    "    return len(set([extract_text_between_tags(s) for s in conversation.xpath('./message/author')]))\n",
    "\n",
    "#dictionary key=author value=avg_time_between_lines\n",
    "def avg_times_between_message_lines_for_all_authors(conversation):\n",
    "    messages=conversation.xpath('./message')\n",
    "    author_time={}\n",
    "    for m in messages:\n",
    "        author_string=extract_text_between_tags(m.xpath('./author')[0])\n",
    "        time_string=extract_text_between_tags(m.xpath('./time')[0])\n",
    "        l=author_time.get(author_string,[])\n",
    "        l.append(time_string)\n",
    "        author_time[author_string]=l\n",
    "    return author_time"
   ]
  },
  {
   "cell_type": "code",
   "execution_count": 99,
   "metadata": {
    "collapsed": false
   },
   "outputs": [],
   "source": [
    "avg_times_between_message_lines_for_all_authors(razg[0]);"
   ]
  }
 ],
 "metadata": {
  "kernelspec": {
   "display_name": "Python 2",
   "language": "python",
   "name": "python2"
  },
  "language_info": {
   "codemirror_mode": {
    "name": "ipython",
    "version": 2
   },
   "file_extension": ".py",
   "mimetype": "text/x-python",
   "name": "python",
   "nbconvert_exporter": "python",
   "pygments_lexer": "ipython2",
   "version": "2.7.11"
  }
 },
 "nbformat": 4,
 "nbformat_minor": 0
}
