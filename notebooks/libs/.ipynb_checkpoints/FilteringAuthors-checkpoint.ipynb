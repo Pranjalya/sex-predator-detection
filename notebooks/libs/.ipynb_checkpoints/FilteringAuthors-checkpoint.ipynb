{
 "cells": [
  {
   "cell_type": "code",
   "execution_count": 1,
   "metadata": {
    "collapsed": true
   },
   "outputs": [],
   "source": [
    "import scipy\n",
    "from lxml import etree\n",
    "import numpy\n",
    "import FeatureExtraction as FE"
   ]
  },
  {
   "cell_type": "code",
   "execution_count": 4,
   "metadata": {
    "collapsed": false
   },
   "outputs": [
    {
     "name": "stdout",
     "output_type": "stream",
     "text": [
      "{'ana': 'skaro'}\n"
     ]
    }
   ],
   "source": [
    "moj={'petra':'marce','ana':'skaro'}\n",
    "del moj['petra']\n",
    "print(moj)"
   ]
  },
  {
   "cell_type": "code",
   "execution_count": 55,
   "metadata": {
    "collapsed": true
   },
   "outputs": [],
   "source": [
    "training_xml = '../../dataset/training/pan12-sexual-predator-identification-training-corpus-2012-05-01.xml'\n",
    "test_xml = '../../dataset/test/pan12-sexual-predator-identification-test-corpus-2012-05-17.xml'\n",
    "\n",
    "sexual_predator_ids_file = '../../dataset/training/pan12-sexual-predator-identification-training-corpus-predators-2012-05-01.txt'\n",
    "\n",
    "chat_based_features_csv_train='../../csv/chat_based_features_training.csv'\n",
    "chat_based_features_csv_test='../../csv/chat_based_features_test.csv'"
   ]
  },
  {
   "cell_type": "code",
   "execution_count": 56,
   "metadata": {
    "collapsed": false
   },
   "outputs": [
    {
     "data": {
      "text/plain": [
       "142"
      ]
     },
     "execution_count": 56,
     "metadata": {},
     "output_type": "execute_result"
    }
   ],
   "source": [
    "predator_ids=FE.sexual_predator_ids(sexual_predator_ids_file)\n",
    "len(predator_ids)"
   ]
  },
  {
   "cell_type": "code",
   "execution_count": 57,
   "metadata": {
    "collapsed": true
   },
   "outputs": [],
   "source": [
    "tree_train=etree.parse(training_xml)"
   ]
  },
  {
   "cell_type": "code",
   "execution_count": 67,
   "metadata": {
    "collapsed": false
   },
   "outputs": [],
   "source": [
    "def intersect(a, b):\n",
    "    return list(set(a) & set(b))\n",
    "\n",
    "def filtriraj(tree_train):\n",
    "    authors_conversations = FE.extract_author_conversation_node_dictionary_from_XML(tree_train)\n",
    "    all_author_ids=authors_conversations.keys()\n",
    "    authors_silent=[author_id for author_id in all_author_ids\n",
    "                    if FE.number_of_messages_sent_by_the_author(author_id,authors_conversations[author_id])<10]\n",
    "    print(len(authors_conversations))\n",
    "    print(len(all_author_ids))\n",
    "    print(len(authors_silent))\n",
    "    inter=intersect(authors_silent,predator_ids)\n",
    "    print(len(inter),inter)\n",
    "\n",
    "def silent_author_ids(tree,treshold=5):\n",
    "    authors_conversations = extract_author_conversation_node_dictionary_from_XML(tree)\n",
    "    all_author_ids=authors_conversations.keys()\n",
    "    return [author_id for author_id in all_author_ids\n",
    "                    if number_of_messages_sent_by_the_author(author_id,authors_conversations[author_id])<treshold]\n",
    "\n",
    "def remove_silent_authors_from_dictionary(tree,dictionary,treshold=5):\n",
    "    authors_conversations = extract_author_conversation_node_dictionary_from_XML(tree);\n",
    "    for author_id in dictionary:\n",
    "        if number_of_messages_sent_by_the_author(author_id,authors_conversations[author_id])<treshold:\n",
    "            del dictionary[author]"
   ]
  },
  {
   "cell_type": "code",
   "execution_count": 69,
   "metadata": {
    "collapsed": false
   },
   "outputs": [
    {
     "name": "stdout",
     "output_type": "stream",
     "text": [
      "97689\n",
      "97689\n",
      "79775\n",
      "(4, ['04d42f7bb1eb41605dea74a8711f9fd0', '902cddc2765a0700c9d1d543c9a4d52f', 'd50f114dde2edb12b72ecea83ebf63ce', '4c33926fc6765490b09943d81ec86469'])\n"
     ]
    }
   ],
   "source": [
    "filtriraj(tree_train)"
   ]
  },
  {
   "cell_type": "code",
   "execution_count": 70,
   "metadata": {
    "collapsed": false
   },
   "outputs": [],
   "source": [
    "tree_test=etree.parse(test_xml)\n"
   ]
  },
  {
   "cell_type": "code",
   "execution_count": 71,
   "metadata": {
    "collapsed": false
   },
   "outputs": [
    {
     "name": "stdout",
     "output_type": "stream",
     "text": [
      "218702\n",
      "218702\n",
      "179354\n",
      "(0, [])\n"
     ]
    }
   ],
   "source": [
    "filtriraj(tree_test)"
   ]
  }
 ],
 "metadata": {
  "kernelspec": {
   "display_name": "Python 2",
   "language": "python",
   "name": "python2"
  },
  "language_info": {
   "codemirror_mode": {
    "name": "ipython",
    "version": 2
   },
   "file_extension": ".py",
   "mimetype": "text/x-python",
   "name": "python",
   "nbconvert_exporter": "python",
   "pygments_lexer": "ipython2",
   "version": "2.7.11"
  }
 },
 "nbformat": 4,
 "nbformat_minor": 0
}
