{
 "cells": [
  {
   "cell_type": "code",
   "execution_count": 1,
   "metadata": {
    "collapsed": true
   },
   "outputs": [],
   "source": [
    "import scipy\n",
    "import sys\n",
    "from lxml import etree\n",
    "import FeatureExtraction as FE\n",
    "sys.path.insert(0, '../notebooks/libs/')\n"
   ]
  },
  {
   "cell_type": "code",
   "execution_count": 2,
   "metadata": {
    "collapsed": true
   },
   "outputs": [],
   "source": [
    "#Jedna linija je jedan dokument.\n",
    "#Lista svih linija.\n",
    "pathToFile='../../dataset/training/pan12-sexual-predator-identification-training-corpus-2012-05-01.xml'\n",
    "tree=etree.parse(pathToFile)"
   ]
  },
  {
   "cell_type": "code",
   "execution_count": null,
   "metadata": {
    "collapsed": true
   },
   "outputs": [],
   "source": [
    "def prepare_for_tf_idf(path_to_dataset_xml):\n",
    "    tree=etree.parse(path_to_dataset_xml)\n",
    "    message_node = extract_message_nodes_as_list_from_parsed_text(tree)\n",
    "    dictionary= extract_author_text_dictionary_from_message_nodes(message_node)\n",
    "    filter_words_from_dictionary(dictionary) \n",
    "    list_of_authors_strings = []\n",
    "    for key in sorted(dictionary):\n",
    "        tmp = dictionary.get(key)\n",
    "        if None in tmp:\n",
    "            dictionary[key]=''\n",
    "        list_of_authors_strings.append(' '.join(dictionary.get(key)))\n",
    "    return list_of_authors_strings"
   ]
  },
  {
   "cell_type": "code",
   "execution_count": null,
   "metadata": {
    "collapsed": false
   },
   "outputs": [],
   "source": [
    "message_nodes = FE.extract_message_nodes_as_list_from_parsed_text(tree)"
   ]
  },
  {
   "cell_type": "markdown",
   "metadata": {},
   "source": [
    "message_node?"
   ]
  },
  {
   "cell_type": "code",
   "execution_count": null,
   "metadata": {
    "collapsed": true
   },
   "outputs": [],
   "source": [
    "dictionary = FE.extract_author_text_dictionary_from_message_nodes(message_node)"
   ]
  },
  {
   "cell_type": "code",
   "execution_count": null,
   "metadata": {
    "collapsed": false
   },
   "outputs": [],
   "source": [
    "text_nodes=[]\n",
    "for message_node in message_nodes:\n",
    "    text_node = message_node.xpath('./text')\n",
    "    for node in text_node:\n",
    "        text_nodes.append(node.text)        "
   ]
  },
  {
   "cell_type": "code",
   "execution_count": null,
   "metadata": {
    "collapsed": true
   },
   "outputs": [],
   "source": [
    "text_nodes?"
   ]
  },
  {
   "cell_type": "code",
   "execution_count": 9,
   "metadata": {
    "collapsed": true
   },
   "outputs": [],
   "source": [
    "def extract_all_chat_lines_from_XML(pathToFile):\n",
    "    tree=etree.parse(pathToFile)\n",
    "    message_nodes = FE.extract_message_nodes_as_list_from_parsed_text(tree)\n",
    "    text_nodes=[]\n",
    "    for message_node in message_nodes:\n",
    "        text_node = message_node.xpath('./text')\n",
    "        for node in text_node:\n",
    "            if node.text is None:\n",
    "                continue\n",
    "            text_nodes.append(node.text)\n",
    "    return text_nodes"
   ]
  },
  {
   "cell_type": "code",
   "execution_count": 17,
   "metadata": {
    "collapsed": true
   },
   "outputs": [],
   "source": [
    "from sklearn.feature_extraction.text import TfidfVectorizer\n",
    "def make_tf_idf_matrix_for_clustering_from_XML(pathToFile):\n",
    "    text_nodes=extract_all_chat_lines_from_XML(pathToFile)\n",
    "    tfidf=TfidfVectorizer(stop_words='english',min_df=10)\n",
    "    #X = tfidf.fit_transform(list_of_authors_strings)\n",
    "    #idf = tfidf._tfidf\n",
    "    return tfidf.fit_transform(text_nodes), tfidf.get_feature_names()\n",
    "    #return dict(zip(tfidf.get_feature_names(), idf))\n",
    "    #return tfidf.get_feature_names(),idf"
   ]
  },
  {
   "cell_type": "code",
   "execution_count": 18,
   "metadata": {
    "collapsed": false
   },
   "outputs": [],
   "source": [
    "matrix,lines= make_tf_idf_matrix_for_clustering_from_XML('../../dataset/training/pan12-sexual-predator-identification-training-corpus-2012-05-01.xml')"
   ]
  },
  {
   "cell_type": "code",
   "execution_count": 21,
   "metadata": {
    "collapsed": false
   },
   "outputs": [
    {
     "data": {
      "text/plain": [
       "(900632, 17402)"
      ]
     },
     "execution_count": 21,
     "metadata": {},
     "output_type": "execute_result"
    }
   ],
   "source": [
    "matrix.shape"
   ]
  },
  {
   "cell_type": "code",
   "execution_count": null,
   "metadata": {
    "collapsed": true
   },
   "outputs": [],
   "source": []
  }
 ],
 "metadata": {
  "kernelspec": {
   "display_name": "Python 2",
   "language": "python",
   "name": "python2"
  },
  "language_info": {
   "codemirror_mode": {
    "name": "ipython",
    "version": 2
   },
   "file_extension": ".py",
   "mimetype": "text/x-python",
   "name": "python",
   "nbconvert_exporter": "python",
   "pygments_lexer": "ipython2",
   "version": "2.7.10"
  }
 },
 "nbformat": 4,
 "nbformat_minor": 0
}
