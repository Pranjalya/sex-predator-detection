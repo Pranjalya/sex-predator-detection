{
 "cells": [
  {
   "cell_type": "code",
   "execution_count": 1,
   "metadata": {
    "collapsed": true
   },
   "outputs": [],
   "source": [
    "import scipy\n",
    "from lxml import etree"
   ]
  },
  {
   "cell_type": "code",
   "execution_count": 2,
   "metadata": {
    "collapsed": false
   },
   "outputs": [],
   "source": [
    "pathToFile='../../dataset/pan12-sexual-predator-identification-training-corpus-2012-05-01.xml'\n",
    "tree=etree.parse(pathToFile)\n",
    "razg=tree.xpath('/conversations/conversation')\n",
    "#print(razg)"
   ]
  },
  {
   "cell_type": "code",
   "execution_count": 27,
   "metadata": {
    "collapsed": true
   },
   "outputs": [],
   "source": [
    "def extract_authors_from_parsed_text(parsed_text):\n",
    "    author_nodes = parsed_text.xpath('/conversations/conversation/message/author')\n",
    "    unique_authors = set()\n",
    "    for author_node in author_nodes:\n",
    "        unique_authors.add(author_node.text)\n",
    "    return unique_authors"
   ]
  },
  {
   "cell_type": "code",
   "execution_count": null,
   "metadata": {
    "collapsed": true
   },
   "outputs": [],
   "source": [
    "# returns time represented as seconds from hh:mm format\n",
    "def parse_time(time_string):\n",
    "    hh = time_string.split(\":\")[0];\n",
    "    mm = time_string.split(\":\")[1];\n",
    "    hh = int(hh)*3600;\n",
    "    mm = int(mm)*60;\n",
    "    return hh+mm;"
   ]
  },
  {
   "cell_type": "code",
   "execution_count": 3,
   "metadata": {
    "collapsed": true
   },
   "outputs": [],
   "source": [
    "# returns time represented as seconds from hh:mm format\n",
    "def parse_time(time_string):\n",
    "    hh = time_string.split(\":\")[0];\n",
    "    mm = time_string.split(\":\")[1];\n",
    "    hh = int(hh)*3600;\n",
    "    mm = int(mm)*60;\n",
    "    return hh+mm;\n",
    "\n",
    "#converts time in seconds to string in hh:mm format\n",
    "def seconds_to_string(time):\n",
    "    str=\"\"\n",
    "    hh = time/3600\n",
    "    print hh\n",
    "    mm = time/float(60)%60\n",
    "    if(hh<10):\n",
    "        str+=\"0{}\".format(hh)\n",
    "    else:\n",
    "        str+=\"{}\".format(hh)\n",
    "    str+=\":\"\n",
    "    if(mm<10):\n",
    "        str+=\"0{}\".format(int(mm))\n",
    "    else:\n",
    "        str+=\"{}\".format(int(mm))\n",
    "    return str"
   ]
  },
  {
   "cell_type": "code",
   "execution_count": null,
   "metadata": {
    "collapsed": true
   },
   "outputs": [],
   "source": [
    "def first_message_node_in_conversation(conversation):\n",
    "    return conversation.xpath(\".//message[1]\")[0]\n",
    "\n",
    "def last_message_node_in_conversation(conversation):\n",
    "    return conversation.xpath(\".//message[last()]\")[0]\n",
    "\n",
    "def first_time_node_in_conversation(conversation):\n",
    "    return first_message_node_in_conversation(conversation).xpath(\".//time[1]\")[0]\n",
    "\n",
    "def last_time_node_in_conversation(conversation):\n",
    "    return last_message_node_in_conversation(conversation).xpath(\".//time[1]\")[0]\n",
    "\n",
    "def all_time_nodes_in_conversation(conversation):\n",
    "    return conversation.xpath(\"./message/time\")\n",
    "\n",
    "def all_time_nodes_of_author_in_conversation(conversation,author_id):\n",
    "    xstring=\"./message[author='{author}']/time\".format(author=author_id)\n",
    "    tekstovi=[t.text for t in conversation.xpath(xstring)]\n",
    "    return tekstovi\n",
    "\n",
    "\n",
    "def n_of_people_in_chat(conversation,author):\n",
    "    return len(ids_of_authors_in_chat(conversation))\n",
    "\n",
    "def ids_of_authors_in_chat(conversation):\n",
    "    return set([s.text for s in conversation.xpath('./message/author')])\n",
    "\n",
    "#returns dict keys are ids of authors involved and the values are average time in seconds between two proceeding lines\n",
    "def avg_times_between_message_lines_for_all_authors_in_seconds(conversation):\n",
    "    author_times={}\n",
    "    authors=ids_of_authors_in_chat(conversation)\n",
    "    for author in authors:\n",
    "        author_times[author]=avg_time_between_message_lines_in_seconds_for_author(conversation,author)\n",
    "    return author_times"
   ]
  },
  {
   "cell_type": "code",
   "execution_count": 73,
   "metadata": {
    "collapsed": false
   },
   "outputs": [],
   "source": [
    "#returns average time in seconds between two proceeding lines in given conversation for given author_id\n",
    "def avg_time_between_message_lines_in_seconds_for_author_in_conversation(conversation,author_id):\n",
    "    times=all_time_nodes_of_author_in_conversation(conversation,author_id)\n",
    "    if len(times)==0:\n",
    "        return None\n",
    "    return (parse_time(times[-1].text)-parse_time(times[0].text))/(len(times)-1)\n",
    "\n",
    "def conversation_length_in_seconds(conversation,autor_id=None):\n",
    "    times=all_time_nodes_in_conversation(conversation)\n",
    "    return (parse_time(last_time_node_in_conversation(conversation).text)-parse_time(first_time_node_in_conversation(conversation).text))\n",
    "\n",
    "def percentage_of_lines_in_conversation(conversation,author_id):\n",
    "    return len(all_time_nodes_of_author_in_conversation(conversation,author_id))*1.0/len(all_time_nodes_in_conversation(conversation))\n",
    " \n",
    "\n",
    "def message_texts_in_conversation(conversation):\n",
    "    return [t.text for t in conversation.xpath('./message/text')]\n",
    "\n",
    "def message_texts_of_author_in_conversation(conversation,author_id):\n",
    "    xstring=\"./message[author='{author}']/text\".format(author=author_id)\n",
    "    text_nodes=[t.text for t in conversation.xpath(xstring)]\n",
    "    return text_nodes\n",
    "\n",
    "def percentage_of_characters_in_conversation(conversation,author_id):\n",
    "    authors_chars=''.join(messages_of_author_in_conversation(conversation,author_id))\n",
    "    all_chats=''.join(message_texts_in_conversation(conversation))\n",
    "    return len(authors_chars)*1.0/len(all_chats)\n",
    "\n",
    "def is_starting_conversation(conversation,author_id):\n",
    "    k=first_message_node_in_conversation(conversation).xpath(\"./author\")\n",
    "    if k[0].text == author_id:\n",
    "        return True\n",
    "    return False"
   ]
  },
  {
   "cell_type": "code",
   "execution_count": 47,
   "metadata": {
    "collapsed": true
   },
   "outputs": [],
   "source": [
    "def all_conversation_nodes_of_author(tree,author_id):\n",
    "    xstring=\"/conversations/conversation/message[author='{author}']/..\".format(author=author_id)\n",
    "    return tree.xpath(xstring)\n",
    "\n",
    "#function makes average of another function result over all conversations of given author\n",
    "#argument funct is expexted to be a function(conversation,author_id) type, for example \n",
    "# avg_time_between_message_lines_in_seconds_for_author_in_conversation\n",
    "def average_trough_all_conversations(tree,author_id,funct):\n",
    "    conversations=all_conversation_nodes_of_author(tree,author_id)\n",
    "    results=[funct(c,author_id) for c in conversations]\n",
    "    return sum(results)/len(results)"
   ]
  },
  {
   "cell_type": "code",
   "execution_count": 75,
   "metadata": {
    "collapsed": false
   },
   "outputs": [
    {
     "name": "stdout",
     "output_type": "stream",
     "text": [
      "hi.whats up?same.  being lazy.  M or f?M here.  Just got home from weekend trip.  Tired.yeah.a &amp; l?Uh oh.  older. 30Been to Hawaii.Yeah.  Always enjoy visiting.Which Island you on Oahu?yeah. Just found this site a few days ago.Curious to the whole &quot;random thing&quot;It&apos;s been eye opening for sure.I&apos;m pretty open to meet/talk to anyone.But pretty clear what most are looking for on this site, it seems.Yep.  It&apos;s the internet.You seem to take it pretty well.I just mean you seem to handle the obvious shennagans on here pretty well.harder for ladies on here for sure.LMAO, yes it is :)So..I said I was new to this, right?I thought I&apos;d turn on cam.  After 10 mins, turned it off.Went back to text.It&apos;s a mix of stuff, but one big difference.Cam = not such good conversation.Makes sense.So, you been using this site very long?what interests you w/ it?Bet it does.Well, even though I&apos;m glad to chat w/ ya &amp; you&apos;re quite...probably better I let you connect w/ someone a bit younger, eh?You too!  Be safe!bye\n",
      "0.520792079208\n"
     ]
    }
   ],
   "source": [
    "convs=all_conversation_nodes_of_author(tree,id_first)\n",
    "is_starting_conversation(convs[0],id_first)\n",
    "authors=list(extract_authors_from_parsed_text(tree))\n",
    "print(average_trough_all_conversations(tree,id_second,percentage_of_characters_in_conversation))"
   ]
  },
  {
   "cell_type": "code",
   "execution_count": 7,
   "metadata": {
    "collapsed": false
   },
   "outputs": [
    {
     "name": "stdout",
     "output_type": "stream",
     "text": [
      "{'97964e7a9e8eb9cf78f2e4d7b2ff34c7': 35, '0158d0d6781fc4d493f243d4caa49747': 34}\n",
      "40\n",
      "-1080\n",
      "0.483870967742\n",
      "0.516129032258\n",
      "[<Element author at 0x36272c8>]\n",
      "True\n",
      "<Element message at 0x36271c8>\n",
      "<Element time at 0x36270c8>\n"
     ]
    }
   ],
   "source": [
    "chat=razg[0]\n",
    "id_first='97964e7a9e8eb9cf78f2e4d7b2ff34c7'\n",
    "id_second='0158d0d6781fc4d493f243d4caa49747'\n",
    "ids_of_authors_in_chat(chat)\n",
    "n=avg_times_between_message_lines_for_all_authors_in_seconds(chat)\n",
    "c=avg_time_between_message_lines_in_seconds_for_author(chat,'97964e7a9e8eb9cf78f2e4d7b2ff34c7')+5\n",
    "print(n)\n",
    "print(c)\n",
    "print(conversation_length_in_seconds(chat))\n",
    "print(percentage_of_lines_in_conversation(chat,id_first))\n",
    "print(percentage_of_lines_in_conversation(chat,id_second))\n",
    "print(is_starting_conversation(chat,id_first))\n",
    "print(first_message_node_in_conversation(chat))\n",
    "print(last_time_node_in_conversation(chat))"
   ]
  },
  {
   "cell_type": "code",
   "execution_count": 70,
   "metadata": {
    "collapsed": false
   },
   "outputs": [
    {
     "name": "stdout",
     "output_type": "stream",
     "text": [
      "Hola.not a ton.you?F.Ditto, I&apos;ve done absolutely nothing with my day besides watching stuff on Hulu.Oh, cool. Family thing?Gotta love those.17, Hawaii.and yourself?whoops xDIt&apos;s nice, isn&apos;t it?married?i&apos;m assuming since you went on a &apos;family&apos; trip :pYeah, Oahu.Pretty crazy the individuals you meet, isn&apos;t it?Yeah, I hear you.Half the people that strike up a conversation only seem to be interested in more. . risque topics.What more do you expect though, ya know?Pardon?Ah, yeah.That&apos;s what the wonderful &quot;disconnect&quot; button is for.You mentioned it, yeah.Yeah, I haven&apos;t bothered touching that button. Sounds too risky to me.It&apos;s the reason more individuals text than call these days. More response time, better things to say, suspense, etc.You see quite a few characters.Gives me a laugh.I think it&apos;s quite funny, trying to figure out people.I s&apos;pose.It was a pleasure meeting you.Happy chatting!\n"
     ]
    },
    {
     "data": {
      "text/plain": [
       "['Hola.',\n",
       " 'not a ton.',\n",
       " 'you?',\n",
       " 'F.',\n",
       " 'Ditto, I&apos;ve done absolutely nothing with my day besides watching stuff on Hulu.',\n",
       " 'Oh, cool. Family thing?',\n",
       " 'Gotta love those.',\n",
       " '17, Hawaii.',\n",
       " 'and yourself?',\n",
       " 'whoops xD',\n",
       " 'It&apos;s nice, isn&apos;t it?',\n",
       " 'married?',\n",
       " 'i&apos;m assuming since you went on a &apos;family&apos; trip :p',\n",
       " 'Yeah, Oahu.',\n",
       " 'Pretty crazy the individuals you meet, isn&apos;t it?',\n",
       " 'Yeah, I hear you.',\n",
       " 'Half the people that strike up a conversation only seem to be interested in more. . risque topics.',\n",
       " 'What more do you expect though, ya know?',\n",
       " 'Pardon?',\n",
       " 'Ah, yeah.',\n",
       " 'That&apos;s what the wonderful &quot;disconnect&quot; button is for.',\n",
       " 'You mentioned it, yeah.',\n",
       " 'Yeah, I haven&apos;t bothered touching that button. Sounds too risky to me.',\n",
       " 'It&apos;s the reason more individuals text than call these days. More response time, better things to say, suspense, etc.',\n",
       " 'You see quite a few characters.',\n",
       " 'Gives me a laugh.',\n",
       " 'I think it&apos;s quite funny, trying to figure out people.',\n",
       " 'I s&apos;pose.',\n",
       " 'It was a pleasure meeting you.',\n",
       " 'Happy chatting!']"
      ]
     },
     "execution_count": 70,
     "metadata": {},
     "output_type": "execute_result"
    }
   ],
   "source": [
    "messages_of_author_in_conversation(chat,id_first)"
   ]
  },
  {
   "cell_type": "code",
   "execution_count": null,
   "metadata": {
    "collapsed": true
   },
   "outputs": [],
   "source": []
  }
 ],
 "metadata": {
  "kernelspec": {
   "display_name": "Python 2",
   "language": "python",
   "name": "python2"
  },
  "language_info": {
   "codemirror_mode": {
    "name": "ipython",
    "version": 2
   },
   "file_extension": ".py",
   "mimetype": "text/x-python",
   "name": "python",
   "nbconvert_exporter": "python",
   "pygments_lexer": "ipython2",
   "version": "2.7.11"
  }
 },
 "nbformat": 4,
 "nbformat_minor": 0
}
